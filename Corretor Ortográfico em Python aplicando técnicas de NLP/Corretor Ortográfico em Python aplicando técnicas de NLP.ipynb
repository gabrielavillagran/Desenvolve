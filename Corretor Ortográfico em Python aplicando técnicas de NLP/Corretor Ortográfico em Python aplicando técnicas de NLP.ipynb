{
 "cells": [
  {
   "cell_type": "markdown",
   "id": "5b860ea1",
   "metadata": {},
   "source": [
    "<p style='font-size: 22px; line-height: 2; margin: 10px 50px; text-align: justify; color:purple;'> <b>1. Importando pandas, numpy e plotly</b></p>\n",
    "<a href = \"https://pandas.pydata.org/docs/\" style='font-size: 16px; line-height: 2; margin: 10px 50px; text-align: justify; color:black;'> Documentação Pandas </a>\n",
    "\n",
    "<a href = \"https://numpy.org/doc/stable/user/index.html\" style='font-size: 16px; line-height: 2; margin: 10px 50px; text-align: justify; color:black;'> Documentação Numpy </a>\n"
   ]
  },
  {
   "cell_type": "code",
   "execution_count": 1,
   "id": "1c6983d7",
   "metadata": {},
   "outputs": [],
   "source": [
    "import pandas as pd\n",
    "import numpy as np"
   ]
  },
  {
   "cell_type": "markdown",
   "id": "f17c2fa9",
   "metadata": {},
   "source": [
    "<p style='font-size: 22px; line-height: 2; margin: 10px 50px; text-align: justify; color:purple;'> <b>1.1 Sobre os dados:</b>\n",
    "\n",
    "<p style='font-size: 18px; line-height: 2; margin: 10px 50px; text-align: justify; color:black;'> O dataset é composto por um conjunto textos dos artigos da alura, para com isso ser possível criar um corretor ortográfico em python aplicando técnicas de processamento em linguagem natural.</p>\n",
    "    "
   ]
  },
  {
   "cell_type": "code",
   "execution_count": 2,
   "id": "39825061",
   "metadata": {},
   "outputs": [
    {
     "name": "stdout",
     "output_type": "stream",
     "text": [
      "\n",
      "\n",
      "\n",
      "imagem \n",
      "\n",
      "Temos a seguinte classe que representa um usuário no nosso sistema:\n",
      "\n",
      "java\n",
      "\n",
      "Para salvar um novo usuário, várias validações são feitas, como por exemplo: Ver se o nome só contém letras, [**o CPF só números**] e ver se o usuário possui no mínimo 18 anos. Veja o método que faz essa validação:\n",
      "\n",
      "java \n",
      "\n",
      "Suponha agora que eu tenha outra classe, a classe `Produto`, que contém um atributo nome e eu quero fazer a mesma validação que fiz para o nome do usuário: Ver se só contém letras. E aí? Vou\n"
     ]
    }
   ],
   "source": [
    "# Temos que criar um vocabulário para o corretor, será a base de dados da pasta dados\n",
    "# com o arquivo artigos que vamos ler, passa a ler esse arquivo e armazenar\n",
    "# apelidamos o arquivo de \"f\"\n",
    "with open('./dados/artigos.txt', 'r', encoding='utf-8') as f:\n",
    "    arquivos = f.read()\n",
    "\n",
    "print(arquivos[:500])"
   ]
  },
  {
   "cell_type": "markdown",
   "id": "4f7100e1",
   "metadata": {},
   "source": [
    "<p style='font-size: 18px; line-height: 2; margin: 10px 50px; text-align: justify; color:black;'>Será que esse corpus é intessante para criar o corretor? será que ele tem um número de palavras suficiente?será que ele repete muitas palavras?</p>\n",
    "<p style='font-size: 18px; line-height: 2; margin: 10px 50px; text-align: justify; color:black;'>Veremos isso agora</p>"
   ]
  },
  {
   "cell_type": "markdown",
   "id": "306f6c6f",
   "metadata": {},
   "source": [
    "<p style='font-size: 22px; line-height: 2; margin: 10px 50px; text-align: justify; color:purple;'> <b>2. Tokenização</b>\n",
    "\n",
    "<p style='font-size: 18px; line-height: 2; margin: 10px 50px; text-align: justify; color:black;'>Para sabermos se o nosso corpus é ideal para o trabalho, deveremos saber quantas palavras possui. Afinal, um texto com dez palavras faz no máximo dez correções por exemplo. Então precisaremos ter um corpus com um grande volume de termos.</p>"
   ]
  },
  {
   "cell_type": "code",
   "execution_count": 3,
   "id": "e29566e4",
   "metadata": {},
   "outputs": [
    {
     "data": {
      "text/plain": [
       "2605046"
      ]
     },
     "execution_count": 3,
     "metadata": {},
     "output_type": "execute_result"
    }
   ],
   "source": [
    "len(arquivos)"
   ]
  },
  {
   "cell_type": "markdown",
   "id": "dcc93da5",
   "metadata": {},
   "source": [
    "será que esse len() está certo ?"
   ]
  },
  {
   "cell_type": "code",
   "execution_count": 4,
   "id": "b30406ff",
   "metadata": {},
   "outputs": [
    {
     "data": {
      "text/plain": [
       "15"
      ]
     },
     "execution_count": 4,
     "metadata": {},
     "output_type": "execute_result"
    }
   ],
   "source": [
    "texto_exemplo = 'azul e amarelo?'\n",
    "len(texto_exemplo)"
   ]
  },
  {
   "cell_type": "markdown",
   "id": "2f06005b",
   "metadata": {},
   "source": [
    "o len retorna o número de caracteres "
   ]
  },
  {
   "cell_type": "code",
   "execution_count": 5,
   "id": "1572ae0c",
   "metadata": {},
   "outputs": [
    {
     "data": {
      "text/plain": [
       "['azul', 'e', 'amarelo?']"
      ]
     },
     "execution_count": 5,
     "metadata": {},
     "output_type": "execute_result"
    }
   ],
   "source": [
    "palavras_separadas = texto_exemplo.split()\n",
    "palavras_separadas"
   ]
  },
  {
   "cell_type": "code",
   "execution_count": 6,
   "id": "3321659d",
   "metadata": {},
   "outputs": [
    {
     "data": {
      "text/plain": [
       "3"
      ]
     },
     "execution_count": 6,
     "metadata": {},
     "output_type": "execute_result"
    }
   ],
   "source": [
    "len(palavras_separadas)"
   ]
  },
  {
   "cell_type": "markdown",
   "id": "684e18a1",
   "metadata": {},
   "source": [
    "O amarelo com interrogação <b> não é uma palavra </b>."
   ]
  },
  {
   "cell_type": "markdown",
   "id": "2617855e",
   "metadata": {},
   "source": [
    "<p style='font-size: 18px; line-height: 2; margin: 10px 50px; text-align: justify; color:black;'> Em NLP chamamos cada um desses splits(elemento do vetor) de token, desta maneira, estamos tokenizando a frase.\n",
    "    \n",
    "<p style='font-size: 18px; line-height: 2; margin: 10px 50px; text-align: justify; color:black;'>Token é uma sequência de caracteres, separados por um limitador, que pode ser um espaço em branco, pontuação ou quebra de linhas, por exemplo.</p>"
   ]
  },
  {
   "cell_type": "code",
   "execution_count": 7,
   "id": "a1e24e86",
   "metadata": {},
   "outputs": [
    {
     "data": {
      "text/plain": [
       "['azul', 'e', 'amarelo?']"
      ]
     },
     "execution_count": 7,
     "metadata": {},
     "output_type": "execute_result"
    }
   ],
   "source": [
    "# renomeando adequadamente\n",
    "tokens = texto_exemplo.split()\n",
    "tokens"
   ]
  },
  {
   "cell_type": "code",
   "execution_count": 8,
   "id": "9de2358b",
   "metadata": {},
   "outputs": [
    {
     "data": {
      "text/plain": [
       "3"
      ]
     },
     "execution_count": 8,
     "metadata": {},
     "output_type": "execute_result"
    }
   ],
   "source": [
    "len(tokens)"
   ]
  },
  {
   "cell_type": "markdown",
   "id": "64b9b38e",
   "metadata": {},
   "source": [
    "<p style='font-size: 22px; line-height: 2; margin: 10px 50px; text-align: justify; color:purple;'> <b>2.1 Refinando a tokenização</b>\n",
    "    \n",
    "<a href = \"https://www.nltk.org/\" style='font-size: 16px; line-height: 2; margin: 10px 50px; text-align: justify; color:black;'> Documentação nltk </a>\n",
    "    \n",
    "<p style='font-size: 18px; line-height: 2; margin: 10px 50px; text-align: justify; color:black;'>Um processo bem conhecido na área de NLP é o <b>nltk</b> ou Natural Language Tool Kit, que é um conjunto de ferramentas que implementa diversos métodos e algoritmos para análise textual.\n",
    "\n",
    "<p style='font-size: 18px; line-height: 2; margin: 10px 50px; text-align: justify; color:black;'>Apenas relembrando nosso problema, separamos os tokens da nossa frase com split(), mas as palavras ainda estão junto com as pontuações. Então separaremos em <u>tokens de palavras e tokens de pontuação.</u>\n",
    "    "
   ]
  },
  {
   "cell_type": "code",
   "execution_count": 9,
   "id": "8a0a3abd",
   "metadata": {},
   "outputs": [
    {
     "data": {
      "text/plain": [
       "['azul', 'e', 'amarelo', '?']"
      ]
     },
     "execution_count": 9,
     "metadata": {},
     "output_type": "execute_result"
    }
   ],
   "source": [
    "import nltk\n",
    "\n",
    "# word_tokenize ele separa palavras de pontuação e retorna com uma lista de tokens de palavras e pontuação\n",
    "palavras_separadas = nltk.tokenize.word_tokenize(texto_exemplo)\n",
    "palavras_separadas"
   ]
  },
  {
   "cell_type": "markdown",
   "id": "a3aaeb58",
   "metadata": {},
   "source": [
    "<p style='font-size: 22px; line-height: 2; margin: 10px 50px; text-align: justify; color:purple;'> <b>2.2 Separando palavras de tokens</b>\n",
    "    \n",
    "<p style='font-size: 18px; line-height: 2; margin: 10px 50px; text-align: justify; color:black;'>Precisamos descobrir apenas a quantidade de vocábulos no corpus, não queremos a pontuação."
   ]
  },
  {
   "cell_type": "code",
   "execution_count": 10,
   "id": "e33a79aa",
   "metadata": {},
   "outputs": [
    {
     "data": {
      "text/plain": [
       "True"
      ]
     },
     "execution_count": 10,
     "metadata": {},
     "output_type": "execute_result"
    }
   ],
   "source": [
    "# Percorrendo a string e vendo se é palavra ou pontuação\n",
    "# Se for alpha numérico é string senão pontuação\n",
    "'palavra'.isalpha()"
   ]
  },
  {
   "cell_type": "code",
   "execution_count": 11,
   "id": "39dbb075",
   "metadata": {},
   "outputs": [
    {
     "data": {
      "text/plain": [
       "False"
      ]
     },
     "execution_count": 11,
     "metadata": {},
     "output_type": "execute_result"
    }
   ],
   "source": [
    "'>///'.isalpha()"
   ]
  },
  {
   "cell_type": "code",
   "execution_count": 12,
   "id": "6d3a3b4d",
   "metadata": {},
   "outputs": [],
   "source": [
    "# A função pega a lista de tokens e retorna somente as palavras(sem pontuação)\n",
    "def separa_palavras(lista_tokens):\n",
    "    lista_palavras = list()    \n",
    "    for token in lista_tokens:\n",
    "        if token.isalpha():\n",
    "            lista_palavras.append(token)\n",
    "    return lista_palavras"
   ]
  },
  {
   "cell_type": "code",
   "execution_count": 13,
   "id": "6a418671",
   "metadata": {},
   "outputs": [
    {
     "data": {
      "text/plain": [
       "['azul', 'e', 'amarelo']"
      ]
     },
     "execution_count": 13,
     "metadata": {},
     "output_type": "execute_result"
    }
   ],
   "source": [
    "# ele retirou a pontuação\n",
    "separa_palavras(palavras_separadas)"
   ]
  },
  {
   "cell_type": "markdown",
   "id": "3ef0d76e",
   "metadata": {},
   "source": [
    "<p style='font-size: 22px; line-height: 2; margin: 10px 50px; text-align: justify; color:purple;'> <b>3. Contando palavras do Corpus</b>"
   ]
  },
  {
   "cell_type": "code",
   "execution_count": 14,
   "id": "a6cce68b",
   "metadata": {},
   "outputs": [
    {
     "data": {
      "text/plain": [
       "['imagem',\n",
       " 'Temos',\n",
       " 'a',\n",
       " 'seguinte',\n",
       " 'classe',\n",
       " 'que',\n",
       " 'representa',\n",
       " 'um',\n",
       " 'usuário',\n",
       " 'no',\n",
       " 'nosso',\n",
       " 'sistema',\n",
       " ':',\n",
       " 'java',\n",
       " 'Para',\n",
       " 'salvar',\n",
       " 'um',\n",
       " 'novo',\n",
       " 'usuário',\n",
       " ',']"
      ]
     },
     "execution_count": 14,
     "metadata": {},
     "output_type": "execute_result"
    }
   ],
   "source": [
    "# word_tokenize ele separa palavras de pontuação e retorna com uma lista de tokens de palavras e pontuação\n",
    "lista_tokens = nltk.tokenize.word_tokenize(arquivos)\n",
    "lista_tokens[:20]"
   ]
  },
  {
   "cell_type": "code",
   "execution_count": 15,
   "id": "575747e2",
   "metadata": {},
   "outputs": [],
   "source": [
    "# A função pega a lista de tokens e retorna somente as palavras(sem pontuação)\n",
    "def separa_palavras(lista_tokens):\n",
    "    lista_palavras = list()    \n",
    "    for token in lista_tokens:\n",
    "        if token.isalpha():\n",
    "            lista_palavras.append(token)\n",
    "    return lista_palavras"
   ]
  },
  {
   "cell_type": "code",
   "execution_count": 16,
   "id": "a4892fe2",
   "metadata": {},
   "outputs": [
    {
     "name": "stdout",
     "output_type": "stream",
     "text": [
      "O número de palavras do corpus é de: 403104\n"
     ]
    }
   ],
   "source": [
    "# Como ele retirou as pontuações, sobrou apenas as palavras\n",
    "# Obtendo o número de palavras\n",
    "lista_palavras = separa_palavras(lista_tokens)\n",
    "print('O número de palavras do corpus é de: {}'.format(len(lista_palavras)))"
   ]
  },
  {
   "cell_type": "markdown",
   "id": "f6741c5d",
   "metadata": {},
   "source": [
    "<p style='font-size: 22px; line-height: 2; margin: 10px 50px; text-align: justify; color:purple;'> <b>4. Normalização</b>"
   ]
  },
  {
   "cell_type": "code",
   "execution_count": 17,
   "id": "5954ec09",
   "metadata": {},
   "outputs": [
    {
     "name": "stdout",
     "output_type": "stream",
     "text": [
      "['imagem', 'Temos', 'a', 'seguinte', 'classe']\n"
     ]
    }
   ],
   "source": [
    "print(lista_palavras[:5])"
   ]
  },
  {
   "cell_type": "markdown",
   "id": "7c09d2d7",
   "metadata": {},
   "source": [
    "<p style='font-size: 18px; line-height: 2; margin: 10px 50px; text-align: justify; color:black;'> Precisaremos calcular quantos vocábulos únicos existem sem repetição. A palavra \"Temos\" possui uma letra maiúscula, que será contabilizada como uma palavra diferente; dessa maneira, o texto deve ser normalizado, transformando as palavras em minúsculas."
   ]
  },
  {
   "cell_type": "code",
   "execution_count": 18,
   "id": "10dbc645",
   "metadata": {},
   "outputs": [],
   "source": [
    "def normalizacao(lista_palavras):\n",
    "    lista_normalizada = list()\n",
    "    for palavra in lista_palavras:\n",
    "        lista_normalizada.append(palavra.lower())\n",
    "    return lista_normalizada"
   ]
  },
  {
   "cell_type": "code",
   "execution_count": 19,
   "id": "2ef758b7",
   "metadata": {},
   "outputs": [
    {
     "data": {
      "text/plain": [
       "['imagem', 'temos', 'a', 'seguinte', 'classe']"
      ]
     },
     "execution_count": 19,
     "metadata": {},
     "output_type": "execute_result"
    }
   ],
   "source": [
    "lista_normalizada = normalizacao(lista_palavras)\n",
    "lista_normalizada[:5]"
   ]
  },
  {
   "cell_type": "markdown",
   "id": "7d3dd83f",
   "metadata": {},
   "source": [
    "<p style='font-size: 18px; line-height: 2; margin: 10px 50px; text-align: justify; color:black;'>Com a normalização, podemos ver que a palavra \"Temos\" agora aparece com letras  minúsculas. "
   ]
  },
  {
   "cell_type": "markdown",
   "id": "d6250c6c",
   "metadata": {},
   "source": [
    "<p style='font-size: 22px; line-height: 2; margin: 10px 50px; text-align: justify; color:purple;'> <b>5. Tipos de palavras</b>\n",
    "    \n",
    "<p style='font-size: 18px; line-height: 2; margin: 10px 50px; text-align: justify; color:black;'>Agora que a lista está normalizada, precisamos retirar as palavras que são repetidas."
   ]
  },
  {
   "cell_type": "code",
   "execution_count": 20,
   "id": "171e6fdf",
   "metadata": {},
   "outputs": [
    {
     "data": {
      "text/plain": [
       "{1, 2, 3, 4, 5, 6}"
      ]
     },
     "execution_count": 20,
     "metadata": {},
     "output_type": "execute_result"
    }
   ],
   "source": [
    "# Vamos utilizar conjuntos, o \"set\" mostra o conjunto da lista, sem as repetições\n",
    "set([1,2,3,3,4,5,6,6,6])"
   ]
  },
  {
   "cell_type": "markdown",
   "id": "98af1184",
   "metadata": {},
   "source": [
    "<p style='font-size: 18px; line-height: 2; margin: 10px 50px; text-align: justify; color:black;'>Esta função <u>set</u> será utlizada então para a lista normalizada para obtermos apenas as palavras sem as repetições."
   ]
  },
  {
   "cell_type": "code",
   "execution_count": 21,
   "id": "f1df0eff",
   "metadata": {},
   "outputs": [
    {
     "name": "stdout",
     "output_type": "stream",
     "text": [
      "O número de palavras do corpus sem repetições é de: 18465\n"
     ]
    }
   ],
   "source": [
    "print('O número de palavras do corpus sem repetições é de: {}'.format(len(set(lista_normalizada))))"
   ]
  },
  {
   "cell_type": "markdown",
   "id": "0daf4846",
   "metadata": {},
   "source": [
    "<p style='font-size: 18px; line-height: 2; margin: 10px 50px; text-align: justify; color:black;'>Qual o número de palavras que o corretor será capaz de aprender a corrigir? <b>18465</b> palavras, apesar de temos <b>403104</b> palavras no corpus textual.\n",
    "    \n",
    "<p style='font-size: 18px; line-height: 2; margin: 10px 50px; text-align: justify; color:black;'>Segundo <a href=\"https://hridiomas.com/quantas-palavras-voce-precisa-saber-para-ser-fluente/#:~:text=De%203000%20a%204000%20palavras,que%20qualquer%20pessoa%20precisa%20saber.\">este site</a>, é necessário saber cerca de 800 a 1.000 palavras de um idioma para estar em nível básico, 1.500 a 2.000 para o intermediário, e de 3.000 a 4.000 vocábulos para ter fluência.\n",
    "\n",
    "<p style='font-size: 18px; line-height: 2; margin: 10px 50px; text-align: justify; color:black;'>Portanto, o algoritmo aprenderá a corrigir mais de 18.000 questões, é bem mais do que o suficiente para construirmos um bom corretor ortográfico, sem levar em consideração as variações entre as palavras e outros detalhes que veremos adiante."
   ]
  },
  {
   "cell_type": "markdown",
   "id": "087ede34",
   "metadata": {},
   "source": [
    "<p style='font-size: 22px; line-height: 2; margin: 10px 50px; text-align: justify; color:purple;'> <b>6. Detalhando o corretor</b>\n",
    "    \n",
    "<img src='./img/logica.png'>    \n",
    "<p style='font-size: 18px; line-height: 2; margin: 10px 50px; text-align: justify; color:black;'>Porém, o algoritmo só está resolvendo o caso da palavra “lógica”, onde apenas adicionamos uma letra entre “l” e “gica”.\n",
    "\n",
    "<p style='font-size: 18px; line-height: 2; margin: 10px 50px; text-align: justify; color:black;'>Então faremos a <b>generalização</b> desta operação em nosso algoritmo, pegando a primeira parte da string chamada de lado esquerdo, adicionando uma nova letra, e concatenando com o restante da palavra no lado direito como já sabemos:\n",
    "<p style='font-size: 18px; line-height: 2; margin: 10px 50px; text-align: justify; color:blue;'><i>esquerdo (primeira parte) +** letra **+ direito (segunda parte)</i>\n",
    "    \n",
    "<p style='font-size: 18px; line-height: 2; margin: 10px 50px; text-align: justify; color:black;'>Com a operação generalizada, deveremos pensar em como geraremos a separação da palavra em duas partes para recebermos a nova letra no meio, afinal teremos situações diferentes no dia-a-dia.\n",
    "<br>\n",
    "<img src='./img/logica2.png'>"
   ]
  },
  {
   "cell_type": "markdown",
   "id": "a98d1908",
   "metadata": {},
   "source": [
    "<p style='font-size: 22px; line-height: 2; margin: 10px 50px; text-align: justify; color:purple;'> <b>6.1 Fatiando strings</b>\n",
    "<p style='font-size: 18px; line-height: 2; margin: 10px 50px; text-align: justify; color:black;'>Faremos uma função que é geradora dessas palavras."
   ]
  },
  {
   "cell_type": "code",
   "execution_count": 22,
   "id": "464f7e7b",
   "metadata": {},
   "outputs": [
    {
     "data": {
      "text/plain": [
       "[2, 3]"
      ]
     },
     "execution_count": 22,
     "metadata": {},
     "output_type": "execute_result"
    }
   ],
   "source": [
    "# Releembrando fatiamento de listas no python\n",
    "lista = [1,2,3]\n",
    "\n",
    "# Do elemento de index 1 até o elemento de index 2;ele pega até o elemento anterior por isso acresc.+1\n",
    "lista[1:3]"
   ]
  },
  {
   "cell_type": "code",
   "execution_count": 23,
   "id": "a7d59c59",
   "metadata": {},
   "outputs": [
    {
     "data": {
      "text/plain": [
       "'gi'"
      ]
     },
     "execution_count": 23,
     "metadata": {},
     "output_type": "execute_result"
    }
   ],
   "source": [
    "# Releembrando fatiamento de listas no python\n",
    "lista = 'lgica'\n",
    "\n",
    "# Do elemento de index 1 até o elemento de index 2;ele pega até o elemento anterior por isso acresc.+1\n",
    "lista[1:3]"
   ]
  },
  {
   "cell_type": "code",
   "execution_count": 24,
   "id": "727b59c2",
   "metadata": {},
   "outputs": [
    {
     "data": {
      "text/plain": [
       "('l', 'gica')"
      ]
     },
     "execution_count": 24,
     "metadata": {},
     "output_type": "execute_result"
    }
   ],
   "source": [
    "# Será criada uma tupla, pegando o lado esquerdo e direito da palavra\n",
    "\n",
    "# lado direito da palavra | lado esquerdo da palavra\n",
    "# Dessa maneira é possível construir um for \n",
    "(lista[:1], lista[1:])"
   ]
  },
  {
   "cell_type": "code",
   "execution_count": 25,
   "id": "5a484dae",
   "metadata": {},
   "outputs": [],
   "source": [
    "# fatias = dividir a palavra em partes (esquerda e direita por ex.)\n",
    "\n",
    "palavra_exemplo = 'lgica'\n",
    "\n",
    "\n",
    "def geradora_palavras(palavra):\n",
    "    fatias = list()\n",
    "    for i in range(len(palavra) + 1):\n",
    "        fatias.append((lista[:i], lista[i:]))\n",
    "    print(fatias)\n",
    "    #palavras_geradas = insere_letras(fatias)\n",
    "    \n",
    "    #return palavras_geradas"
   ]
  },
  {
   "cell_type": "code",
   "execution_count": 26,
   "id": "4c2af20a",
   "metadata": {},
   "outputs": [
    {
     "name": "stdout",
     "output_type": "stream",
     "text": [
      "[('', 'lgica'), ('l', 'gica'), ('lg', 'ica'), ('lgi', 'ca'), ('lgic', 'a'), ('lgica', '')]\n"
     ]
    }
   ],
   "source": [
    "geradora_palavras(palavra_exemplo)"
   ]
  },
  {
   "cell_type": "markdown",
   "id": "7f75026a",
   "metadata": {},
   "source": [
    "<p style='font-size: 22px; line-height: 2; margin: 10px 50px; text-align: justify; color:purple;'> <b>6.2 Operação de inserção</b>"
   ]
  },
  {
   "cell_type": "code",
   "execution_count": 27,
   "id": "166d7e54",
   "metadata": {},
   "outputs": [],
   "source": [
    "# E = lado esquerdo da palavras\n",
    "# D = lado direito da palavras\n",
    "\n",
    "palavra_exemplo = 'matmática'\n",
    "\n",
    "def insere_letras(fatias):\n",
    "    novas_palavras = list()\n",
    "    letras = 'abcdefghihklmnopqrstuvxyzáâàãéêèẽíîìĩóôõòúûùũñç'\n",
    "    for E, D in fatias:        \n",
    "        for letra in letras:\n",
    "            novas_palavras.append(E + letra + D)\n",
    "    return novas_palavras\n",
    "\n",
    "# Mas quem é a direita e esquerda da função ? será feita a função geradora_palavras com as fatias\n",
    "def geradora_palavras(palavra):\n",
    "    fatias = list()\n",
    "    for i in range(len(palavra) + 1):\n",
    "        fatias.append((palavra[:i], palavra[i:]))\n",
    "    palavras_geradas = insere_letras(fatias) \n",
    "    return palavras_geradas"
   ]
  },
  {
   "cell_type": "code",
   "execution_count": 28,
   "id": "9450edc7",
   "metadata": {},
   "outputs": [
    {
     "data": {
      "text/plain": [
       "['amatmática',\n",
       " 'bmatmática',\n",
       " 'cmatmática',\n",
       " 'dmatmática',\n",
       " 'ematmática',\n",
       " 'fmatmática',\n",
       " 'gmatmática',\n",
       " 'hmatmática',\n",
       " 'imatmática',\n",
       " 'hmatmática',\n",
       " 'kmatmática',\n",
       " 'lmatmática',\n",
       " 'mmatmática',\n",
       " 'nmatmática',\n",
       " 'omatmática',\n",
       " 'pmatmática',\n",
       " 'qmatmática',\n",
       " 'rmatmática',\n",
       " 'smatmática',\n",
       " 'tmatmática',\n",
       " 'umatmática',\n",
       " 'vmatmática',\n",
       " 'xmatmática',\n",
       " 'ymatmática',\n",
       " 'zmatmática',\n",
       " 'ámatmática',\n",
       " 'âmatmática',\n",
       " 'àmatmática',\n",
       " 'ãmatmática',\n",
       " 'ématmática',\n",
       " 'êmatmática',\n",
       " 'èmatmática',\n",
       " 'ẽmatmática',\n",
       " 'ímatmática',\n",
       " 'îmatmática',\n",
       " 'ìmatmática',\n",
       " 'ĩmatmática',\n",
       " 'ómatmática',\n",
       " 'ômatmática',\n",
       " 'õmatmática',\n",
       " 'òmatmática',\n",
       " 'úmatmática',\n",
       " 'ûmatmática',\n",
       " 'ùmatmática',\n",
       " 'ũmatmática',\n",
       " 'ñmatmática',\n",
       " 'çmatmática',\n",
       " 'maatmática',\n",
       " 'mbatmática',\n",
       " 'mcatmática',\n",
       " 'mdatmática',\n",
       " 'meatmática',\n",
       " 'mfatmática',\n",
       " 'mgatmática',\n",
       " 'mhatmática',\n",
       " 'miatmática',\n",
       " 'mhatmática',\n",
       " 'mkatmática',\n",
       " 'mlatmática',\n",
       " 'mmatmática',\n",
       " 'mnatmática',\n",
       " 'moatmática',\n",
       " 'mpatmática',\n",
       " 'mqatmática',\n",
       " 'mratmática',\n",
       " 'msatmática',\n",
       " 'mtatmática',\n",
       " 'muatmática',\n",
       " 'mvatmática',\n",
       " 'mxatmática',\n",
       " 'myatmática',\n",
       " 'mzatmática',\n",
       " 'máatmática',\n",
       " 'mâatmática',\n",
       " 'màatmática',\n",
       " 'mãatmática',\n",
       " 'méatmática',\n",
       " 'mêatmática',\n",
       " 'mèatmática',\n",
       " 'mẽatmática',\n",
       " 'míatmática',\n",
       " 'mîatmática',\n",
       " 'mìatmática',\n",
       " 'mĩatmática',\n",
       " 'móatmática',\n",
       " 'môatmática',\n",
       " 'mõatmática',\n",
       " 'mòatmática',\n",
       " 'múatmática',\n",
       " 'mûatmática',\n",
       " 'mùatmática',\n",
       " 'mũatmática',\n",
       " 'mñatmática',\n",
       " 'mçatmática',\n",
       " 'maatmática',\n",
       " 'mabtmática',\n",
       " 'mactmática',\n",
       " 'madtmática',\n",
       " 'maetmática',\n",
       " 'maftmática',\n",
       " 'magtmática',\n",
       " 'mahtmática',\n",
       " 'maitmática',\n",
       " 'mahtmática',\n",
       " 'maktmática',\n",
       " 'maltmática',\n",
       " 'mamtmática',\n",
       " 'mantmática',\n",
       " 'maotmática',\n",
       " 'maptmática',\n",
       " 'maqtmática',\n",
       " 'martmática',\n",
       " 'mastmática',\n",
       " 'mattmática',\n",
       " 'mautmática',\n",
       " 'mavtmática',\n",
       " 'maxtmática',\n",
       " 'maytmática',\n",
       " 'maztmática',\n",
       " 'maátmática',\n",
       " 'maâtmática',\n",
       " 'maàtmática',\n",
       " 'maãtmática',\n",
       " 'maétmática',\n",
       " 'maêtmática',\n",
       " 'maètmática',\n",
       " 'maẽtmática',\n",
       " 'maítmática',\n",
       " 'maîtmática',\n",
       " 'maìtmática',\n",
       " 'maĩtmática',\n",
       " 'maótmática',\n",
       " 'maôtmática',\n",
       " 'maõtmática',\n",
       " 'maòtmática',\n",
       " 'maútmática',\n",
       " 'maûtmática',\n",
       " 'maùtmática',\n",
       " 'maũtmática',\n",
       " 'mañtmática',\n",
       " 'maçtmática',\n",
       " 'matamática',\n",
       " 'matbmática',\n",
       " 'matcmática',\n",
       " 'matdmática',\n",
       " 'matemática',\n",
       " 'matfmática',\n",
       " 'matgmática',\n",
       " 'mathmática',\n",
       " 'matimática',\n",
       " 'mathmática',\n",
       " 'matkmática',\n",
       " 'matlmática',\n",
       " 'matmmática',\n",
       " 'matnmática',\n",
       " 'matomática',\n",
       " 'matpmática',\n",
       " 'matqmática',\n",
       " 'matrmática',\n",
       " 'matsmática',\n",
       " 'mattmática',\n",
       " 'matumática',\n",
       " 'matvmática',\n",
       " 'matxmática',\n",
       " 'matymática',\n",
       " 'matzmática',\n",
       " 'matámática',\n",
       " 'matâmática',\n",
       " 'matàmática',\n",
       " 'matãmática',\n",
       " 'matémática',\n",
       " 'matêmática',\n",
       " 'matèmática',\n",
       " 'matẽmática',\n",
       " 'matímática',\n",
       " 'matîmática',\n",
       " 'matìmática',\n",
       " 'matĩmática',\n",
       " 'matómática',\n",
       " 'matômática',\n",
       " 'matõmática',\n",
       " 'matòmática',\n",
       " 'matúmática',\n",
       " 'matûmática',\n",
       " 'matùmática',\n",
       " 'matũmática',\n",
       " 'matñmática',\n",
       " 'matçmática',\n",
       " 'matmaática',\n",
       " 'matmbática',\n",
       " 'matmcática',\n",
       " 'matmdática',\n",
       " 'matmeática',\n",
       " 'matmfática',\n",
       " 'matmgática',\n",
       " 'matmhática',\n",
       " 'matmiática',\n",
       " 'matmhática',\n",
       " 'matmkática',\n",
       " 'matmlática',\n",
       " 'matmmática',\n",
       " 'matmnática',\n",
       " 'matmoática',\n",
       " 'matmpática',\n",
       " 'matmqática',\n",
       " 'matmrática',\n",
       " 'matmsática',\n",
       " 'matmtática',\n",
       " 'matmuática',\n",
       " 'matmvática',\n",
       " 'matmxática',\n",
       " 'matmyática',\n",
       " 'matmzática',\n",
       " 'matmáática',\n",
       " 'matmâática',\n",
       " 'matmàática',\n",
       " 'matmãática',\n",
       " 'matméática',\n",
       " 'matmêática',\n",
       " 'matmèática',\n",
       " 'matmẽática',\n",
       " 'matmíática',\n",
       " 'matmîática',\n",
       " 'matmìática',\n",
       " 'matmĩática',\n",
       " 'matmóática',\n",
       " 'matmôática',\n",
       " 'matmõática',\n",
       " 'matmòática',\n",
       " 'matmúática',\n",
       " 'matmûática',\n",
       " 'matmùática',\n",
       " 'matmũática',\n",
       " 'matmñática',\n",
       " 'matmçática',\n",
       " 'matmáatica',\n",
       " 'matmábtica',\n",
       " 'matmáctica',\n",
       " 'matmádtica',\n",
       " 'matmáetica',\n",
       " 'matmáftica',\n",
       " 'matmágtica',\n",
       " 'matmáhtica',\n",
       " 'matmáitica',\n",
       " 'matmáhtica',\n",
       " 'matmáktica',\n",
       " 'matmáltica',\n",
       " 'matmámtica',\n",
       " 'matmántica',\n",
       " 'matmáotica',\n",
       " 'matmáptica',\n",
       " 'matmáqtica',\n",
       " 'matmártica',\n",
       " 'matmástica',\n",
       " 'matmáttica',\n",
       " 'matmáutica',\n",
       " 'matmávtica',\n",
       " 'matmáxtica',\n",
       " 'matmáytica',\n",
       " 'matmáztica',\n",
       " 'matmáática',\n",
       " 'matmáâtica',\n",
       " 'matmáàtica',\n",
       " 'matmáãtica',\n",
       " 'matmáética',\n",
       " 'matmáêtica',\n",
       " 'matmáètica',\n",
       " 'matmáẽtica',\n",
       " 'matmáítica',\n",
       " 'matmáîtica',\n",
       " 'matmáìtica',\n",
       " 'matmáĩtica',\n",
       " 'matmáótica',\n",
       " 'matmáôtica',\n",
       " 'matmáõtica',\n",
       " 'matmáòtica',\n",
       " 'matmáútica',\n",
       " 'matmáûtica',\n",
       " 'matmáùtica',\n",
       " 'matmáũtica',\n",
       " 'matmáñtica',\n",
       " 'matmáçtica',\n",
       " 'matmátaica',\n",
       " 'matmátbica',\n",
       " 'matmátcica',\n",
       " 'matmátdica',\n",
       " 'matmáteica',\n",
       " 'matmátfica',\n",
       " 'matmátgica',\n",
       " 'matmáthica',\n",
       " 'matmátiica',\n",
       " 'matmáthica',\n",
       " 'matmátkica',\n",
       " 'matmátlica',\n",
       " 'matmátmica',\n",
       " 'matmátnica',\n",
       " 'matmátoica',\n",
       " 'matmátpica',\n",
       " 'matmátqica',\n",
       " 'matmátrica',\n",
       " 'matmátsica',\n",
       " 'matmáttica',\n",
       " 'matmátuica',\n",
       " 'matmátvica',\n",
       " 'matmátxica',\n",
       " 'matmátyica',\n",
       " 'matmátzica',\n",
       " 'matmátáica',\n",
       " 'matmátâica',\n",
       " 'matmátàica',\n",
       " 'matmátãica',\n",
       " 'matmátéica',\n",
       " 'matmátêica',\n",
       " 'matmátèica',\n",
       " 'matmátẽica',\n",
       " 'matmátíica',\n",
       " 'matmátîica',\n",
       " 'matmátìica',\n",
       " 'matmátĩica',\n",
       " 'matmátóica',\n",
       " 'matmátôica',\n",
       " 'matmátõica',\n",
       " 'matmátòica',\n",
       " 'matmátúica',\n",
       " 'matmátûica',\n",
       " 'matmátùica',\n",
       " 'matmátũica',\n",
       " 'matmátñica',\n",
       " 'matmátçica',\n",
       " 'matmátiaca',\n",
       " 'matmátibca',\n",
       " 'matmáticca',\n",
       " 'matmátidca',\n",
       " 'matmátieca',\n",
       " 'matmátifca',\n",
       " 'matmátigca',\n",
       " 'matmátihca',\n",
       " 'matmátiica',\n",
       " 'matmátihca',\n",
       " 'matmátikca',\n",
       " 'matmátilca',\n",
       " 'matmátimca',\n",
       " 'matmátinca',\n",
       " 'matmátioca',\n",
       " 'matmátipca',\n",
       " 'matmátiqca',\n",
       " 'matmátirca',\n",
       " 'matmátisca',\n",
       " 'matmátitca',\n",
       " 'matmátiuca',\n",
       " 'matmátivca',\n",
       " 'matmátixca',\n",
       " 'matmátiyca',\n",
       " 'matmátizca',\n",
       " 'matmátiáca',\n",
       " 'matmátiâca',\n",
       " 'matmátiàca',\n",
       " 'matmátiãca',\n",
       " 'matmátiéca',\n",
       " 'matmátiêca',\n",
       " 'matmátièca',\n",
       " 'matmátiẽca',\n",
       " 'matmátiíca',\n",
       " 'matmátiîca',\n",
       " 'matmátiìca',\n",
       " 'matmátiĩca',\n",
       " 'matmátióca',\n",
       " 'matmátiôca',\n",
       " 'matmátiõca',\n",
       " 'matmátiòca',\n",
       " 'matmátiúca',\n",
       " 'matmátiûca',\n",
       " 'matmátiùca',\n",
       " 'matmátiũca',\n",
       " 'matmátiñca',\n",
       " 'matmátiçca',\n",
       " 'matmáticaa',\n",
       " 'matmáticba',\n",
       " 'matmáticca',\n",
       " 'matmáticda',\n",
       " 'matmáticea',\n",
       " 'matmáticfa',\n",
       " 'matmáticga',\n",
       " 'matmáticha',\n",
       " 'matmáticia',\n",
       " 'matmáticha',\n",
       " 'matmáticka',\n",
       " 'matmáticla',\n",
       " 'matmáticma',\n",
       " 'matmáticna',\n",
       " 'matmáticoa',\n",
       " 'matmáticpa',\n",
       " 'matmáticqa',\n",
       " 'matmáticra',\n",
       " 'matmáticsa',\n",
       " 'matmáticta',\n",
       " 'matmáticua',\n",
       " 'matmáticva',\n",
       " 'matmáticxa',\n",
       " 'matmáticya',\n",
       " 'matmáticza',\n",
       " 'matmáticáa',\n",
       " 'matmáticâa',\n",
       " 'matmáticàa',\n",
       " 'matmáticãa',\n",
       " 'matmáticéa',\n",
       " 'matmáticêa',\n",
       " 'matmáticèa',\n",
       " 'matmáticẽa',\n",
       " 'matmáticía',\n",
       " 'matmáticîa',\n",
       " 'matmáticìa',\n",
       " 'matmáticĩa',\n",
       " 'matmáticóa',\n",
       " 'matmáticôa',\n",
       " 'matmáticõa',\n",
       " 'matmáticòa',\n",
       " 'matmáticúa',\n",
       " 'matmáticûa',\n",
       " 'matmáticùa',\n",
       " 'matmáticũa',\n",
       " 'matmáticña',\n",
       " 'matmáticça',\n",
       " 'matmáticaa',\n",
       " 'matmáticab',\n",
       " 'matmáticac',\n",
       " 'matmáticad',\n",
       " 'matmáticae',\n",
       " 'matmáticaf',\n",
       " 'matmáticag',\n",
       " 'matmáticah',\n",
       " 'matmáticai',\n",
       " 'matmáticah',\n",
       " 'matmáticak',\n",
       " 'matmátical',\n",
       " 'matmáticam',\n",
       " 'matmátican',\n",
       " 'matmáticao',\n",
       " 'matmáticap',\n",
       " 'matmáticaq',\n",
       " 'matmáticar',\n",
       " 'matmáticas',\n",
       " 'matmáticat',\n",
       " 'matmáticau',\n",
       " 'matmáticav',\n",
       " 'matmáticax',\n",
       " 'matmáticay',\n",
       " 'matmáticaz',\n",
       " 'matmáticaá',\n",
       " 'matmáticaâ',\n",
       " 'matmáticaà',\n",
       " 'matmáticaã',\n",
       " 'matmáticaé',\n",
       " 'matmáticaê',\n",
       " 'matmáticaè',\n",
       " 'matmáticaẽ',\n",
       " 'matmáticaí',\n",
       " 'matmáticaî',\n",
       " 'matmáticaì',\n",
       " 'matmáticaĩ',\n",
       " 'matmáticaó',\n",
       " 'matmáticaô',\n",
       " 'matmáticaõ',\n",
       " 'matmáticaò',\n",
       " 'matmáticaú',\n",
       " 'matmáticaû',\n",
       " 'matmáticaù',\n",
       " 'matmáticaũ',\n",
       " 'matmáticañ',\n",
       " 'matmáticaç']"
      ]
     },
     "execution_count": 28,
     "metadata": {},
     "output_type": "execute_result"
    }
   ],
   "source": [
    "# Dessa maneira foi gerado um conjunto com todas as possíbilidades com as letras\n",
    "palavras_geradas = geradora_palavras(palavra_exemplo)\n",
    "palavras_geradas"
   ]
  },
  {
   "cell_type": "markdown",
   "id": "a9890a5c",
   "metadata": {},
   "source": [
    "<p style='font-size: 18px; line-height: 2; margin: 10px 50px; text-align: justify; color:black;'>Com isso, geramos um conjunto com todas as possibilidades de correção, ou seja, a palavra separada em duas partes com inserção de letras no meio, formando novas palavras."
   ]
  },
  {
   "cell_type": "markdown",
   "id": "3ec652bf",
   "metadata": {},
   "source": [
    "<p style='font-size: 22px; line-height: 2; margin: 10px 50px; text-align: justify; color:purple;'> <b>7.  Construindo a função corretor</b>"
   ]
  },
  {
   "cell_type": "code",
   "execution_count": 29,
   "id": "68fc234e",
   "metadata": {},
   "outputs": [],
   "source": [
    "# A função max() do python retorna o elemento de máxima probabilidade\n",
    "# a função max() vai calcular a probabilidade de cada uma das palavras geradas e retornar a maior probablidade\n",
    "\n",
    "def corretor(palavra):\n",
    "    palavras_geradas = geradora_palavras(palavra)\n",
    "    palavra_correta = max(palavras_geradas, key = probabilidade)\n",
    "    return palavra_correta"
   ]
  },
  {
   "cell_type": "markdown",
   "id": "3070152b",
   "metadata": {},
   "source": [
    "<p style='font-size: 22px; line-height: 2; margin: 10px 50px; text-align: justify; color:purple;'> <b>7.1  Probabilidade das palavras geradas</b>"
   ]
  },
  {
   "cell_type": "code",
   "execution_count": 30,
   "id": "ccd042fd",
   "metadata": {},
   "outputs": [],
   "source": [
    "# Repetindo a função acima\n",
    "def corretor(palavra):\n",
    "    palavras_geradas = geradora_palavras(palavra)\n",
    "    palavra_correta = max(palavras_geradas, key = probabilidade)\n",
    "    return palavra_correta"
   ]
  },
  {
   "cell_type": "code",
   "execution_count": 31,
   "id": "49d0eeda",
   "metadata": {},
   "outputs": [
    {
     "name": "stdout",
     "output_type": "stream",
     "text": [
      "[('de', 15502), ('o', 14056), ('que', 12230), ('a', 11099), ('e', 10501), ('para', 7710), ('um', 6368), ('é', 5899), ('uma', 5220), ('do', 5124)]\n",
      "\n",
      "403104\n"
     ]
    }
   ],
   "source": [
    "# FreqDist () = calcula a frequencia das palavras no corpus\n",
    "frequencia = nltk.FreqDist(lista_normalizada)\n",
    "\n",
    "#most_common() mostra as paalvras com maior frequencia\n",
    "print(frequencia.most_common(10))\n",
    "print('')\n",
    "\n",
    "total_palavras = len(lista_normalizada)\n",
    "print(total_palavras)"
   ]
  },
  {
   "cell_type": "code",
   "execution_count": 32,
   "id": "36667d5d",
   "metadata": {},
   "outputs": [
    {
     "data": {
      "text/plain": [
       "96"
      ]
     },
     "execution_count": 32,
     "metadata": {},
     "output_type": "execute_result"
    }
   ],
   "source": [
    "frequencia['lógica']"
   ]
  },
  {
   "cell_type": "code",
   "execution_count": 33,
   "id": "30d83ccf",
   "metadata": {},
   "outputs": [],
   "source": [
    "def probabilidade(palavra_gerada):\n",
    "    return frequencia[palavra_gerada]/total_palavras"
   ]
  },
  {
   "cell_type": "code",
   "execution_count": 34,
   "id": "f0093342",
   "metadata": {},
   "outputs": [
    {
     "name": "stdout",
     "output_type": "stream",
     "text": [
      "3.721124077161229e-05\n",
      "0.0\n"
     ]
    }
   ],
   "source": [
    "print(probabilidade('matemática'))\n",
    "print(probabilidade('matematica'))"
   ]
  },
  {
   "cell_type": "code",
   "execution_count": 35,
   "id": "5059746f",
   "metadata": {},
   "outputs": [
    {
     "data": {
      "text/plain": [
       "'matemática'"
      ]
     },
     "execution_count": 35,
     "metadata": {},
     "output_type": "execute_result"
    }
   ],
   "source": [
    "corretor(palavra_exemplo)"
   ]
  },
  {
   "cell_type": "markdown",
   "id": "abfbb317",
   "metadata": {},
   "source": [
    "<p style='font-size: 22px; line-height: 2; margin: 10px 50px; text-align: justify; color:purple;'> <b>8. Preparando dados de teste</b>\n",
    "<p style='font-size: 18px; line-height: 2; margin: 10px 50px; text-align: justify; color:black;'>Foi aplicado apenas um tipo de correção do corretor, dessa maneira será medida sua acurrácia para poder comparar a acurrácia inicial com as próximas melhorias.\n",
    "    \n",
    "<p style='font-size: 18px; line-height: 2; margin: 10px 50px; text-align: justify; color:black;'>Agora, precisaremos descobrir quais são esses dados recebidos, e para isso veremos a nossa base de dados <b>palavras.txt</b> preparada para teste.\n",
    "\n",
    "<p style='font-size: 18px; line-height: 2; margin: 10px 50px; text-align: justify; color:black;'>Teremos uma lista com diversas palavras em pares, onde a primeira é a correta e a segunda está errada.\n",
    "\n",
    "<p style='font-size: 18px; line-height: 2; margin: 10px 50px; text-align: justify; color:black;'>O <b>avaliador()</b> precisará receber a palavra incorreta, passá-la pelo corretor e verificar se este acertou o resultado."
   ]
  },
  {
   "cell_type": "code",
   "execution_count": 36,
   "id": "f2259815",
   "metadata": {},
   "outputs": [],
   "source": [
    "# Vai receber a base de dados palavras.txt\n",
    "def cria_dados_teste(nome_arquivo):\n",
    "    lista_palavras_teste = list()\n",
    "    f = open(nome_arquivo, 'r', encoding = 'utf-8')   \n",
    "    # separando a palavra correta da palavra errada do arquivo f\n",
    "    for linha in f:       \n",
    "        correta, errada = linha.split()\n",
    "        lista_palavras_teste.append((correta, errada))        \n",
    "    f.close()\n",
    "    return lista_palavras_teste"
   ]
  },
  {
   "cell_type": "code",
   "execution_count": 37,
   "id": "9e7d2b8c",
   "metadata": {},
   "outputs": [
    {
     "data": {
      "text/plain": [
       "[('podemos', 'pyodemos'),\n",
       " ('esse', 'esje'),\n",
       " ('já', 'jrá'),\n",
       " ('nosso', 'nossov'),\n",
       " ('são', 'sãêo'),\n",
       " ('dos', 'dosa'),\n",
       " ('muito', 'muifo'),\n",
       " ('imagem', 'iômagem'),\n",
       " ('sua', 'ósua'),\n",
       " ('também', 'tambéùm')]"
      ]
     },
     "execution_count": 37,
     "metadata": {},
     "output_type": "execute_result"
    }
   ],
   "source": [
    "lista_teste = cria_dados_teste('./dados/palavras.txt')\n",
    "lista_teste[:10]"
   ]
  },
  {
   "cell_type": "markdown",
   "id": "87db6903",
   "metadata": {},
   "source": [
    "<p style='font-size: 18px; line-height: 2; margin: 10px 50px; text-align: justify; color:black;'>Dessa maneira temos as tuplas, sendo na esquerda a palavra correta e na direita a palavra errada."
   ]
  },
  {
   "cell_type": "markdown",
   "id": "32a65ab9",
   "metadata": {},
   "source": [
    "<p style='font-size: 22px; line-height: 2; margin: 10px 50px; text-align: justify; color:purple;'> <b>9. Avaliando o corretor</b>\n",
    "    \n",
    "<p style='font-size: 18px; line-height: 2; margin: 10px 50px; text-align: justify; color:black;'>Será iterado em cada uma das linhas da lista de palavras teste, passando para a função corretor a palavra equivocada e verificar se a palavra gerada é igual a palavra correta, se for a mesma é acrescido 1 na variável acertou."
   ]
  },
  {
   "cell_type": "code",
   "execution_count": 38,
   "id": "6aea520f",
   "metadata": {},
   "outputs": [],
   "source": [
    "def avaliador(testes):\n",
    "    numero_palavras = len(testes)\n",
    "    acertou = 0\n",
    "    for correta, errada in testes:\n",
    "        palavra_corrigida = corretor(errada)\n",
    "        if palavra_corrigida == correta:\n",
    "            acertou += 1\n",
    "    taxa_acerto = acertou/numero_palavras\n",
    "    print('A taxa de acerto é de: {:.2f}% de {} palavras'.format(taxa_acerto*100, numero_palavras))"
   ]
  },
  {
   "cell_type": "code",
   "execution_count": 39,
   "id": "b10da514",
   "metadata": {},
   "outputs": [
    {
     "name": "stdout",
     "output_type": "stream",
     "text": [
      "A taxa de acerto é de: 1.08% de 186 palavras\n"
     ]
    }
   ],
   "source": [
    "avaliador(lista_teste)"
   ]
  },
  {
   "cell_type": "markdown",
   "id": "46069817",
   "metadata": {},
   "source": [
    "<p style='font-size: 18px; line-height: 2; margin: 10px 50px; text-align: justify; color:black;'>O corretor possui uma taxa de acerto de apenas  <b>1.08%</b> das palavras, pois ele corrige apenas um erro específicio; serão feitas outras melhorias para obter uma melhor acurrácia."
   ]
  },
  {
   "cell_type": "markdown",
   "id": "46aa6e22",
   "metadata": {},
   "source": [
    "<p style='font-size: 22px; line-height: 2; margin: 10px 50px; text-align: justify; color:purple;'> <b>10. Operação de delete</b>\n",
    "    \n",
    "<p style='font-size: 18px; line-height: 2; margin: 10px 50px; text-align: justify; color:black;'>Neste passo, corrigiremos um outro tipo de erro bastante comum também além de deletar ou esquecer de digitar, que consiste em escrever uma letra a mais por engano.\n",
    "\n",
    "<img src='./img/delete.png'>\n",
    "<br>\n",
    "<img src='./img/delete2.png' width=400>\n",
    "\n",
    "    \n",
    "<p style='font-size: 18px; line-height: 2; margin: 10px 50px; text-align: justify; color:blue;'><i>ESQUERDO + DIREITO[1:]</i>\n",
    "    \n",
    "<p style='font-size: 18px; line-height: 2; margin: 10px 50px; text-align: justify; color:black;'> Pois dessa maneira ele elimina a primeira letra do lado direito, que vai concatenando com as fatias da palavra."
   ]
  },
  {
   "cell_type": "markdown",
   "id": "cd1b7d6a",
   "metadata": {},
   "source": [
    "<p style='font-size: 22px; line-height: 2; margin: 10px 50px; text-align: justify; color:purple;'> <b>10.1 Implementando o delete de caracteres</b>"
   ]
  },
  {
   "cell_type": "code",
   "execution_count": 40,
   "id": "7ce79d7e",
   "metadata": {},
   "outputs": [
    {
     "name": "stdout",
     "output_type": "stream",
     "text": [
      "ciência\n"
     ]
    }
   ],
   "source": [
    "exemplo_palavra = 'cciência'\n",
    "# ele retirará a primeira letra\n",
    "print(exemplo_palavra[1:])"
   ]
  },
  {
   "cell_type": "code",
   "execution_count": 41,
   "id": "24c9e300",
   "metadata": {},
   "outputs": [],
   "source": [
    "def deletando_caracteres(fatias):\n",
    "    novas_palavras = list()\n",
    "    for E, D in fatias:        \n",
    "        novas_palavras.append(E + D[1:])\n",
    "    return novas_palavras"
   ]
  },
  {
   "cell_type": "code",
   "execution_count": 42,
   "id": "f1259701",
   "metadata": {},
   "outputs": [],
   "source": [
    "# Concatenando as listas de insere_letras e deletando_caracteres\n",
    "def geradora_palavras(palavra):\n",
    "    fatias = list()\n",
    "    for i in range(len(palavra) + 1):\n",
    "        fatias.append((palavra[:i], palavra[i:]))\n",
    "    palavras_geradas = insere_letras(fatias)\n",
    "    palavras_geradas += deletando_caracteres(fatias)\n",
    "    return palavras_geradas"
   ]
  },
  {
   "cell_type": "code",
   "execution_count": 43,
   "id": "4c820d12",
   "metadata": {},
   "outputs": [
    {
     "data": {
      "text/plain": [
       "['acciência',\n",
       " 'bcciência',\n",
       " 'ccciência',\n",
       " 'dcciência',\n",
       " 'ecciência',\n",
       " 'fcciência',\n",
       " 'gcciência',\n",
       " 'hcciência',\n",
       " 'icciência',\n",
       " 'hcciência',\n",
       " 'kcciência',\n",
       " 'lcciência',\n",
       " 'mcciência',\n",
       " 'ncciência',\n",
       " 'occiência',\n",
       " 'pcciência',\n",
       " 'qcciência',\n",
       " 'rcciência',\n",
       " 'scciência',\n",
       " 'tcciência',\n",
       " 'ucciência',\n",
       " 'vcciência',\n",
       " 'xcciência',\n",
       " 'ycciência',\n",
       " 'zcciência',\n",
       " 'ácciência',\n",
       " 'âcciência',\n",
       " 'àcciência',\n",
       " 'ãcciência',\n",
       " 'écciência',\n",
       " 'êcciência',\n",
       " 'ècciência',\n",
       " 'ẽcciência',\n",
       " 'ícciência',\n",
       " 'îcciência',\n",
       " 'ìcciência',\n",
       " 'ĩcciência',\n",
       " 'ócciência',\n",
       " 'ôcciência',\n",
       " 'õcciência',\n",
       " 'òcciência',\n",
       " 'úcciência',\n",
       " 'ûcciência',\n",
       " 'ùcciência',\n",
       " 'ũcciência',\n",
       " 'ñcciência',\n",
       " 'çcciência',\n",
       " 'caciência',\n",
       " 'cbciência',\n",
       " 'ccciência',\n",
       " 'cdciência',\n",
       " 'ceciência',\n",
       " 'cfciência',\n",
       " 'cgciência',\n",
       " 'chciência',\n",
       " 'ciciência',\n",
       " 'chciência',\n",
       " 'ckciência',\n",
       " 'clciência',\n",
       " 'cmciência',\n",
       " 'cnciência',\n",
       " 'cociência',\n",
       " 'cpciência',\n",
       " 'cqciência',\n",
       " 'crciência',\n",
       " 'csciência',\n",
       " 'ctciência',\n",
       " 'cuciência',\n",
       " 'cvciência',\n",
       " 'cxciência',\n",
       " 'cyciência',\n",
       " 'czciência',\n",
       " 'cáciência',\n",
       " 'câciência',\n",
       " 'càciência',\n",
       " 'cãciência',\n",
       " 'céciência',\n",
       " 'cêciência',\n",
       " 'cèciência',\n",
       " 'cẽciência',\n",
       " 'cíciência',\n",
       " 'cîciência',\n",
       " 'cìciência',\n",
       " 'cĩciência',\n",
       " 'cóciência',\n",
       " 'côciência',\n",
       " 'cõciência',\n",
       " 'còciência',\n",
       " 'cúciência',\n",
       " 'cûciência',\n",
       " 'cùciência',\n",
       " 'cũciência',\n",
       " 'cñciência',\n",
       " 'cçciência',\n",
       " 'ccaiência',\n",
       " 'ccbiência',\n",
       " 'ccciência',\n",
       " 'ccdiência',\n",
       " 'cceiência',\n",
       " 'ccfiência',\n",
       " 'ccgiência',\n",
       " 'cchiência',\n",
       " 'cciiência',\n",
       " 'cchiência',\n",
       " 'cckiência',\n",
       " 'ccliência',\n",
       " 'ccmiência',\n",
       " 'ccniência',\n",
       " 'ccoiência',\n",
       " 'ccpiência',\n",
       " 'ccqiência',\n",
       " 'ccriência',\n",
       " 'ccsiência',\n",
       " 'cctiência',\n",
       " 'ccuiência',\n",
       " 'ccviência',\n",
       " 'ccxiência',\n",
       " 'ccyiência',\n",
       " 'ccziência',\n",
       " 'ccáiência',\n",
       " 'ccâiência',\n",
       " 'ccàiência',\n",
       " 'ccãiência',\n",
       " 'ccéiência',\n",
       " 'ccêiência',\n",
       " 'ccèiência',\n",
       " 'ccẽiência',\n",
       " 'ccíiência',\n",
       " 'ccîiência',\n",
       " 'ccìiência',\n",
       " 'ccĩiência',\n",
       " 'ccóiência',\n",
       " 'ccôiência',\n",
       " 'ccõiência',\n",
       " 'ccòiência',\n",
       " 'ccúiência',\n",
       " 'ccûiência',\n",
       " 'ccùiência',\n",
       " 'ccũiência',\n",
       " 'ccñiência',\n",
       " 'ccçiência',\n",
       " 'cciaência',\n",
       " 'ccibência',\n",
       " 'ccicência',\n",
       " 'ccidência',\n",
       " 'ccieência',\n",
       " 'ccifência',\n",
       " 'ccigência',\n",
       " 'ccihência',\n",
       " 'cciiência',\n",
       " 'ccihência',\n",
       " 'ccikência',\n",
       " 'ccilência',\n",
       " 'ccimência',\n",
       " 'ccinência',\n",
       " 'ccioência',\n",
       " 'ccipência',\n",
       " 'cciqência',\n",
       " 'ccirência',\n",
       " 'ccisência',\n",
       " 'ccitência',\n",
       " 'cciuência',\n",
       " 'ccivência',\n",
       " 'ccixência',\n",
       " 'cciyência',\n",
       " 'ccizência',\n",
       " 'cciáência',\n",
       " 'cciâência',\n",
       " 'cciàência',\n",
       " 'cciãência',\n",
       " 'cciéência',\n",
       " 'cciêência',\n",
       " 'ccièência',\n",
       " 'cciẽência',\n",
       " 'cciíência',\n",
       " 'cciîência',\n",
       " 'cciìência',\n",
       " 'cciĩência',\n",
       " 'ccióência',\n",
       " 'cciôência',\n",
       " 'cciõência',\n",
       " 'cciòência',\n",
       " 'cciúência',\n",
       " 'cciûência',\n",
       " 'cciùência',\n",
       " 'cciũência',\n",
       " 'cciñência',\n",
       " 'cciçência',\n",
       " 'cciêancia',\n",
       " 'cciêbncia',\n",
       " 'cciêcncia',\n",
       " 'cciêdncia',\n",
       " 'cciêencia',\n",
       " 'cciêfncia',\n",
       " 'cciêgncia',\n",
       " 'cciêhncia',\n",
       " 'cciêincia',\n",
       " 'cciêhncia',\n",
       " 'cciêkncia',\n",
       " 'cciêlncia',\n",
       " 'cciêmncia',\n",
       " 'cciênncia',\n",
       " 'cciêoncia',\n",
       " 'cciêpncia',\n",
       " 'cciêqncia',\n",
       " 'cciêrncia',\n",
       " 'cciêsncia',\n",
       " 'cciêtncia',\n",
       " 'cciêuncia',\n",
       " 'cciêvncia',\n",
       " 'cciêxncia',\n",
       " 'cciêyncia',\n",
       " 'cciêzncia',\n",
       " 'cciêáncia',\n",
       " 'cciêância',\n",
       " 'cciêància',\n",
       " 'cciêãncia',\n",
       " 'cciêéncia',\n",
       " 'cciêência',\n",
       " 'cciêència',\n",
       " 'cciêẽncia',\n",
       " 'cciêíncia',\n",
       " 'cciêîncia',\n",
       " 'cciêìncia',\n",
       " 'cciêĩncia',\n",
       " 'cciêóncia',\n",
       " 'cciêôncia',\n",
       " 'cciêõncia',\n",
       " 'cciêòncia',\n",
       " 'cciêúncia',\n",
       " 'cciêûncia',\n",
       " 'cciêùncia',\n",
       " 'cciêũncia',\n",
       " 'cciêñncia',\n",
       " 'cciêçncia',\n",
       " 'cciênacia',\n",
       " 'cciênbcia',\n",
       " 'cciênccia',\n",
       " 'cciêndcia',\n",
       " 'cciênecia',\n",
       " 'cciênfcia',\n",
       " 'cciêngcia',\n",
       " 'cciênhcia',\n",
       " 'cciênicia',\n",
       " 'cciênhcia',\n",
       " 'cciênkcia',\n",
       " 'cciênlcia',\n",
       " 'cciênmcia',\n",
       " 'cciênncia',\n",
       " 'cciênocia',\n",
       " 'cciênpcia',\n",
       " 'cciênqcia',\n",
       " 'cciênrcia',\n",
       " 'cciênscia',\n",
       " 'cciêntcia',\n",
       " 'cciênucia',\n",
       " 'cciênvcia',\n",
       " 'cciênxcia',\n",
       " 'cciênycia',\n",
       " 'cciênzcia',\n",
       " 'cciênácia',\n",
       " 'cciênâcia',\n",
       " 'cciênàcia',\n",
       " 'cciênãcia',\n",
       " 'cciênécia',\n",
       " 'cciênêcia',\n",
       " 'cciênècia',\n",
       " 'cciênẽcia',\n",
       " 'cciênícia',\n",
       " 'cciênîcia',\n",
       " 'cciênìcia',\n",
       " 'cciênĩcia',\n",
       " 'cciênócia',\n",
       " 'cciênôcia',\n",
       " 'cciênõcia',\n",
       " 'cciênòcia',\n",
       " 'cciênúcia',\n",
       " 'cciênûcia',\n",
       " 'cciênùcia',\n",
       " 'cciênũcia',\n",
       " 'cciênñcia',\n",
       " 'cciênçcia',\n",
       " 'cciêncaia',\n",
       " 'cciêncbia',\n",
       " 'cciênccia',\n",
       " 'cciêncdia',\n",
       " 'cciênceia',\n",
       " 'cciêncfia',\n",
       " 'cciêncgia',\n",
       " 'cciênchia',\n",
       " 'cciênciia',\n",
       " 'cciênchia',\n",
       " 'cciênckia',\n",
       " 'cciênclia',\n",
       " 'cciêncmia',\n",
       " 'cciêncnia',\n",
       " 'cciêncoia',\n",
       " 'cciêncpia',\n",
       " 'cciêncqia',\n",
       " 'cciêncria',\n",
       " 'cciêncsia',\n",
       " 'cciênctia',\n",
       " 'cciêncuia',\n",
       " 'cciêncvia',\n",
       " 'cciêncxia',\n",
       " 'cciêncyia',\n",
       " 'cciênczia',\n",
       " 'cciêncáia',\n",
       " 'cciêncâia',\n",
       " 'cciêncàia',\n",
       " 'cciêncãia',\n",
       " 'cciêncéia',\n",
       " 'cciêncêia',\n",
       " 'cciêncèia',\n",
       " 'cciêncẽia',\n",
       " 'cciêncíia',\n",
       " 'cciêncîia',\n",
       " 'cciêncìia',\n",
       " 'cciêncĩia',\n",
       " 'cciêncóia',\n",
       " 'cciêncôia',\n",
       " 'cciêncõia',\n",
       " 'cciêncòia',\n",
       " 'cciêncúia',\n",
       " 'cciêncûia',\n",
       " 'cciêncùia',\n",
       " 'cciêncũia',\n",
       " 'cciêncñia',\n",
       " 'cciêncçia',\n",
       " 'cciênciaa',\n",
       " 'cciênciba',\n",
       " 'cciêncica',\n",
       " 'cciêncida',\n",
       " 'cciênciea',\n",
       " 'cciêncifa',\n",
       " 'cciênciga',\n",
       " 'cciênciha',\n",
       " 'cciênciia',\n",
       " 'cciênciha',\n",
       " 'cciêncika',\n",
       " 'cciêncila',\n",
       " 'cciêncima',\n",
       " 'cciêncina',\n",
       " 'cciêncioa',\n",
       " 'cciêncipa',\n",
       " 'cciênciqa',\n",
       " 'cciêncira',\n",
       " 'cciêncisa',\n",
       " 'cciêncita',\n",
       " 'cciênciua',\n",
       " 'cciênciva',\n",
       " 'cciêncixa',\n",
       " 'cciênciya',\n",
       " 'cciênciza',\n",
       " 'cciênciáa',\n",
       " 'cciênciâa',\n",
       " 'cciênciàa',\n",
       " 'cciênciãa',\n",
       " 'cciênciéa',\n",
       " 'cciênciêa',\n",
       " 'cciêncièa',\n",
       " 'cciênciẽa',\n",
       " 'cciênciía',\n",
       " 'cciênciîa',\n",
       " 'cciênciìa',\n",
       " 'cciênciĩa',\n",
       " 'cciêncióa',\n",
       " 'cciênciôa',\n",
       " 'cciênciõa',\n",
       " 'cciênciòa',\n",
       " 'cciênciúa',\n",
       " 'cciênciûa',\n",
       " 'cciênciùa',\n",
       " 'cciênciũa',\n",
       " 'cciênciña',\n",
       " 'cciênciça',\n",
       " 'cciênciaa',\n",
       " 'cciênciab',\n",
       " 'cciênciac',\n",
       " 'cciênciad',\n",
       " 'cciênciae',\n",
       " 'cciênciaf',\n",
       " 'cciênciag',\n",
       " 'cciênciah',\n",
       " 'cciênciai',\n",
       " 'cciênciah',\n",
       " 'cciênciak',\n",
       " 'cciêncial',\n",
       " 'cciênciam',\n",
       " 'cciêncian',\n",
       " 'cciênciao',\n",
       " 'cciênciap',\n",
       " 'cciênciaq',\n",
       " 'cciênciar',\n",
       " 'cciências',\n",
       " 'cciênciat',\n",
       " 'cciênciau',\n",
       " 'cciênciav',\n",
       " 'cciênciax',\n",
       " 'cciênciay',\n",
       " 'cciênciaz',\n",
       " 'cciênciaá',\n",
       " 'cciênciaâ',\n",
       " 'cciênciaà',\n",
       " 'cciênciaã',\n",
       " 'cciênciaé',\n",
       " 'cciênciaê',\n",
       " 'cciênciaè',\n",
       " 'cciênciaẽ',\n",
       " 'cciênciaí',\n",
       " 'cciênciaî',\n",
       " 'cciênciaì',\n",
       " 'cciênciaĩ',\n",
       " 'cciênciaó',\n",
       " 'cciênciaô',\n",
       " 'cciênciaõ',\n",
       " 'cciênciaò',\n",
       " 'cciênciaú',\n",
       " 'cciênciaû',\n",
       " 'cciênciaù',\n",
       " 'cciênciaũ',\n",
       " 'cciênciañ',\n",
       " 'cciênciaç',\n",
       " 'ciência',\n",
       " 'ciência',\n",
       " 'ccência',\n",
       " 'ccincia',\n",
       " 'cciêcia',\n",
       " 'cciênia',\n",
       " 'cciênca',\n",
       " 'cciênci',\n",
       " 'cciência']"
      ]
     },
     "execution_count": 43,
     "metadata": {},
     "output_type": "execute_result"
    }
   ],
   "source": [
    "geradora_palavras(exemplo_palavra)"
   ]
  },
  {
   "cell_type": "code",
   "execution_count": 44,
   "id": "0245073c",
   "metadata": {},
   "outputs": [
    {
     "name": "stdout",
     "output_type": "stream",
     "text": [
      "estatística\n",
      "estatística\n"
     ]
    }
   ],
   "source": [
    "# Testando o corretor com letra pra mais e com letra faltante\n",
    "print(corretor('estatístiaca'))\n",
    "print(corretor('estatístca'))"
   ]
  },
  {
   "cell_type": "markdown",
   "id": "73f254d5",
   "metadata": {},
   "source": [
    "<p style='font-size: 18px; line-height: 2; margin: 10px 50px; text-align: justify; color:black;'>Avaliando a acurrácia do modelo."
   ]
  },
  {
   "cell_type": "code",
   "execution_count": 45,
   "id": "fc940e41",
   "metadata": {},
   "outputs": [
    {
     "name": "stdout",
     "output_type": "stream",
     "text": [
      "A taxa de acerto é de: 41.40% de 186 palavras\n"
     ]
    }
   ],
   "source": [
    "avaliador(lista_teste)"
   ]
  },
  {
   "cell_type": "markdown",
   "id": "dd7b9713",
   "metadata": {},
   "source": [
    "<p style='font-size: 18px; line-height: 2; margin: 10px 50px; text-align: justify; color:black;'>A taxa de acerto melhorou consideravelmente em relação a métrica inicial que era aproximadamente de 1%."
   ]
  },
  {
   "cell_type": "markdown",
   "id": "45ff9363",
   "metadata": {},
   "source": [
    "<p style='font-size: 22px; line-height: 2; margin: 10px 50px; text-align: justify; color:purple;'> <b>11. Trocando as letras</b>\n",
    "    \n",
    "<p style='font-size: 18px; line-height: 2; margin: 10px 50px; text-align: justify; color:black;'>Ainda existem outros tipos de erros, como quando trocamos uma letra por outra. Por exemplo, na hora de digitar o “ó” no teclado, sem querer apertamos a tecla “í” que está bem ao lado do caractere correto, gerando a palavra errada \"lígica\".\n",
    "    \n",
    "<img src='./img/trocando.png' width=800>\n",
    "<br>\n",
    "<p style='font-size: 18px; line-height: 2; margin: 10px 50px; text-align: justify; color:black;'>Na tabela abaixo há o exemplo de concatenação das fatias da palavra lógica com a letra <b>ó</b>.\n",
    "<img src='./img/trocando2.png' width=450>\n",
    "    \n",
    "<p style='font-size: 18px; line-height: 2; margin: 10px 50px; text-align: justify; color:blue;'><i>ESQUERDO + LETRA + DIREITO[1:]</i>\n",
    "    \n",
    "<p style='font-size: 18px; line-height: 2; margin: 10px 50px; text-align: justify; color:black;'> Pois dessa maneira ele elimina a primeira letra do lado direito para ela ser substituida por outra letra."
   ]
  },
  {
   "cell_type": "markdown",
   "id": "d44acc53",
   "metadata": {},
   "source": [
    "<p style='font-size: 22px; line-height: 2; margin: 10px 50px; text-align: justify; color:purple;'> <b>11.1 Implementando a troca de letras</b>"
   ]
  },
  {
   "cell_type": "markdown",
   "id": "86be9c0b",
   "metadata": {},
   "source": [
    "<p style='font-size: 18px; line-height: 2; margin: 10px 50px; text-align: justify; color:black;'> Serão colocadas todas as funções modificadoras das palavras em uma mesma célula para ficar mais fácil de visualizar."
   ]
  },
  {
   "cell_type": "code",
   "execution_count": 46,
   "id": "792268c2",
   "metadata": {},
   "outputs": [],
   "source": [
    "def insere_letras(fatias):\n",
    "    novas_palavras = list()\n",
    "    letras = 'abcdefghihklmnopqrstuvxyzáâàãéêèẽíîìĩóôõòúûùũñç'\n",
    "    for E, D in fatias:        \n",
    "        for letra in letras:\n",
    "            novas_palavras.append(E + letra + D)\n",
    "    return novas_palavras\n",
    "\n",
    "def deletando_caracteres(fatias):\n",
    "    novas_palavras = list()\n",
    "    for E, D in fatias:        \n",
    "        novas_palavras.append(E + D[1:])\n",
    "    return novas_palavras\n",
    "\n",
    "def troca_letra(fatias):\n",
    "    novas_palavras = list()\n",
    "    letras = 'abcdefghihklmnopqrstuvxyzáâàãéêèẽíîìĩóôõòúûùũñç'\n",
    "    for E, D in fatias:        \n",
    "        for letra in letras:\n",
    "            novas_palavras.append(E + letra + D[1:])\n",
    "    return novas_palavras\n",
    "\n",
    "# Concatenando as listas de insere_letras e deletando_caracteres e troca_letra\n",
    "def geradora_palavras(palavra):\n",
    "    fatias = list()\n",
    "    for i in range(len(palavra) + 1):\n",
    "        fatias.append((palavra[:i], palavra[i:]))\n",
    "    palavras_geradas = insere_letras(fatias)\n",
    "    palavras_geradas += deletando_caracteres(fatias)\n",
    "    palavras_geradas += troca_letra(fatias)\n",
    "    return palavras_geradas"
   ]
  },
  {
   "cell_type": "code",
   "execution_count": 47,
   "id": "46bb3c0d",
   "metadata": {},
   "outputs": [
    {
     "name": "stdout",
     "output_type": "stream",
     "text": [
      "['alígica', 'blígica', 'clígica', 'dlígica', 'elígica', 'flígica', 'glígica', 'hlígica', 'ilígica', 'hlígica', 'klígica', 'llígica', 'mlígica', 'nlígica', 'olígica', 'plígica', 'qlígica', 'rlígica', 'slígica', 'tlígica', 'ulígica', 'vlígica', 'xlígica', 'ylígica', 'zlígica', 'álígica', 'âlígica', 'àlígica', 'ãlígica', 'élígica', 'êlígica', 'èlígica', 'ẽlígica', 'ílígica', 'îlígica', 'ìlígica', 'ĩlígica', 'ólígica', 'ôlígica', 'õlígica', 'òlígica', 'úlígica', 'ûlígica', 'ùlígica', 'ũlígica', 'ñlígica', 'çlígica', 'laígica', 'lbígica', 'lcígica', 'ldígica', 'leígica', 'lfígica', 'lgígica', 'lhígica', 'liígica', 'lhígica', 'lkígica', 'llígica', 'lmígica', 'lnígica', 'loígica', 'lpígica', 'lqígica', 'lrígica', 'lsígica', 'ltígica', 'luígica', 'lvígica', 'lxígica', 'lyígica', 'lzígica', 'láígica', 'lâígica', 'làígica', 'lãígica', 'léígica', 'lêígica', 'lèígica', 'lẽígica', 'líígica', 'lîígica', 'lìígica', 'lĩígica', 'lóígica', 'lôígica', 'lõígica', 'lòígica', 'lúígica', 'lûígica', 'lùígica', 'lũígica', 'lñígica', 'lçígica', 'líagica', 'líbgica', 'lícgica', 'lídgica', 'líegica', 'lífgica', 'líggica', 'líhgica', 'líigica', 'líhgica', 'líkgica', 'lílgica', 'límgica', 'língica', 'líogica', 'lípgica', 'líqgica', 'lírgica', 'lísgica', 'lítgica', 'líugica', 'lívgica', 'líxgica', 'líygica', 'lízgica', 'líágica', 'líâgica', 'líàgica', 'líãgica', 'líégica', 'líêgica', 'líègica', 'líẽgica', 'líígica', 'líîgica', 'líìgica', 'líĩgica', 'líógica', 'líôgica', 'líõgica', 'líògica', 'líúgica', 'líûgica', 'líùgica', 'líũgica', 'líñgica', 'líçgica', 'lígaica', 'lígbica', 'lígcica', 'lígdica', 'lígeica', 'lígfica', 'líggica', 'líghica', 'lígiica', 'líghica', 'lígkica', 'líglica', 'lígmica', 'lígnica', 'lígoica', 'lígpica', 'lígqica', 'lígrica', 'lígsica', 'lígtica', 'líguica', 'lígvica', 'lígxica', 'lígyica', 'lígzica', 'lígáica', 'lígâica', 'lígàica', 'lígãica', 'lígéica', 'lígêica', 'lígèica', 'lígẽica', 'lígíica', 'lígîica', 'lígìica', 'lígĩica', 'lígóica', 'lígôica', 'lígõica', 'lígòica', 'lígúica', 'lígûica', 'lígùica', 'lígũica', 'lígñica', 'lígçica', 'lígiaca', 'lígibca', 'lígicca', 'lígidca', 'lígieca', 'lígifca', 'lígigca', 'lígihca', 'lígiica', 'lígihca', 'lígikca', 'lígilca', 'lígimca', 'líginca', 'lígioca', 'lígipca', 'lígiqca', 'lígirca', 'lígisca', 'lígitca', 'lígiuca', 'lígivca', 'lígixca', 'lígiyca', 'lígizca', 'lígiáca', 'lígiâca', 'lígiàca', 'lígiãca', 'lígiéca', 'lígiêca', 'lígièca', 'lígiẽca', 'lígiíca', 'lígiîca', 'lígiìca', 'lígiĩca', 'lígióca', 'lígiôca', 'lígiõca', 'lígiòca', 'lígiúca', 'lígiûca', 'lígiùca', 'lígiũca', 'lígiñca', 'lígiçca', 'lígicaa', 'lígicba', 'lígicca', 'lígicda', 'lígicea', 'lígicfa', 'lígicga', 'lígicha', 'lígicia', 'lígicha', 'lígicka', 'lígicla', 'lígicma', 'lígicna', 'lígicoa', 'lígicpa', 'lígicqa', 'lígicra', 'lígicsa', 'lígicta', 'lígicua', 'lígicva', 'lígicxa', 'lígicya', 'lígicza', 'lígicáa', 'lígicâa', 'lígicàa', 'lígicãa', 'lígicéa', 'lígicêa', 'lígicèa', 'lígicẽa', 'lígicía', 'lígicîa', 'lígicìa', 'lígicĩa', 'lígicóa', 'lígicôa', 'lígicõa', 'lígicòa', 'lígicúa', 'lígicûa', 'lígicùa', 'lígicũa', 'lígicña', 'lígicça', 'lígicaa', 'lígicab', 'lígicac', 'lígicad', 'lígicae', 'lígicaf', 'lígicag', 'lígicah', 'lígicai', 'lígicah', 'lígicak', 'lígical', 'lígicam', 'lígican', 'lígicao', 'lígicap', 'lígicaq', 'lígicar', 'lígicas', 'lígicat', 'lígicau', 'lígicav', 'lígicax', 'lígicay', 'lígicaz', 'lígicaá', 'lígicaâ', 'lígicaà', 'lígicaã', 'lígicaé', 'lígicaê', 'lígicaè', 'lígicaẽ', 'lígicaí', 'lígicaî', 'lígicaì', 'lígicaĩ', 'lígicaó', 'lígicaô', 'lígicaõ', 'lígicaò', 'lígicaú', 'lígicaû', 'lígicaù', 'lígicaũ', 'lígicañ', 'lígicaç', 'ígica', 'lgica', 'líica', 'lígca', 'lígia', 'lígic', 'lígica', 'aígica', 'bígica', 'cígica', 'dígica', 'eígica', 'fígica', 'gígica', 'hígica', 'iígica', 'hígica', 'kígica', 'lígica', 'mígica', 'nígica', 'oígica', 'pígica', 'qígica', 'rígica', 'sígica', 'tígica', 'uígica', 'vígica', 'xígica', 'yígica', 'zígica', 'áígica', 'âígica', 'àígica', 'ãígica', 'éígica', 'êígica', 'èígica', 'ẽígica', 'íígica', 'îígica', 'ìígica', 'ĩígica', 'óígica', 'ôígica', 'õígica', 'òígica', 'úígica', 'ûígica', 'ùígica', 'ũígica', 'ñígica', 'çígica', 'lagica', 'lbgica', 'lcgica', 'ldgica', 'legica', 'lfgica', 'lggica', 'lhgica', 'ligica', 'lhgica', 'lkgica', 'llgica', 'lmgica', 'lngica', 'logica', 'lpgica', 'lqgica', 'lrgica', 'lsgica', 'ltgica', 'lugica', 'lvgica', 'lxgica', 'lygica', 'lzgica', 'lágica', 'lâgica', 'làgica', 'lãgica', 'légica', 'lêgica', 'lègica', 'lẽgica', 'lígica', 'lîgica', 'lìgica', 'lĩgica', 'lógica', 'lôgica', 'lõgica', 'lògica', 'lúgica', 'lûgica', 'lùgica', 'lũgica', 'lñgica', 'lçgica', 'líaica', 'líbica', 'lícica', 'lídica', 'líeica', 'lífica', 'lígica', 'líhica', 'líiica', 'líhica', 'líkica', 'lílica', 'límica', 'línica', 'líoica', 'lípica', 'líqica', 'lírica', 'lísica', 'lítica', 'líuica', 'lívica', 'líxica', 'líyica', 'lízica', 'líáica', 'líâica', 'líàica', 'líãica', 'líéica', 'líêica', 'líèica', 'líẽica', 'lííica', 'líîica', 'líìica', 'líĩica', 'líóica', 'líôica', 'líõica', 'líòica', 'líúica', 'líûica', 'líùica', 'líũica', 'líñica', 'líçica', 'lígaca', 'lígbca', 'lígcca', 'lígdca', 'lígeca', 'lígfca', 'líggca', 'líghca', 'lígica', 'líghca', 'lígkca', 'líglca', 'lígmca', 'lígnca', 'lígoca', 'lígpca', 'lígqca', 'lígrca', 'lígsca', 'lígtca', 'líguca', 'lígvca', 'lígxca', 'lígyca', 'lígzca', 'lígáca', 'lígâca', 'lígàca', 'lígãca', 'lígéca', 'lígêca', 'lígèca', 'lígẽca', 'lígíca', 'lígîca', 'lígìca', 'lígĩca', 'lígóca', 'lígôca', 'lígõca', 'lígòca', 'lígúca', 'lígûca', 'lígùca', 'lígũca', 'lígñca', 'lígçca', 'lígiaa', 'lígiba', 'lígica', 'lígida', 'lígiea', 'lígifa', 'lígiga', 'lígiha', 'lígiia', 'lígiha', 'lígika', 'lígila', 'lígima', 'lígina', 'lígioa', 'lígipa', 'lígiqa', 'lígira', 'lígisa', 'lígita', 'lígiua', 'lígiva', 'lígixa', 'lígiya', 'lígiza', 'lígiáa', 'lígiâa', 'lígiàa', 'lígiãa', 'lígiéa', 'lígiêa', 'lígièa', 'lígiẽa', 'lígiía', 'lígiîa', 'lígiìa', 'lígiĩa', 'lígióa', 'lígiôa', 'lígiõa', 'lígiòa', 'lígiúa', 'lígiûa', 'lígiùa', 'lígiũa', 'lígiña', 'lígiça', 'lígica', 'lígicb', 'lígicc', 'lígicd', 'lígice', 'lígicf', 'lígicg', 'lígich', 'lígici', 'lígich', 'lígick', 'lígicl', 'lígicm', 'lígicn', 'lígico', 'lígicp', 'lígicq', 'lígicr', 'lígics', 'lígict', 'lígicu', 'lígicv', 'lígicx', 'lígicy', 'lígicz', 'lígicá', 'lígicâ', 'lígicà', 'lígicã', 'lígicé', 'lígicê', 'lígicè', 'lígicẽ', 'lígicí', 'lígicî', 'lígicì', 'lígicĩ', 'lígicó', 'lígicô', 'lígicõ', 'lígicò', 'lígicú', 'lígicû', 'lígicù', 'lígicũ', 'lígicñ', 'lígicç', 'lígicaa', 'lígicab', 'lígicac', 'lígicad', 'lígicae', 'lígicaf', 'lígicag', 'lígicah', 'lígicai', 'lígicah', 'lígicak', 'lígical', 'lígicam', 'lígican', 'lígicao', 'lígicap', 'lígicaq', 'lígicar', 'lígicas', 'lígicat', 'lígicau', 'lígicav', 'lígicax', 'lígicay', 'lígicaz', 'lígicaá', 'lígicaâ', 'lígicaà', 'lígicaã', 'lígicaé', 'lígicaê', 'lígicaè', 'lígicaẽ', 'lígicaí', 'lígicaî', 'lígicaì', 'lígicaĩ', 'lígicaó', 'lígicaô', 'lígicaõ', 'lígicaò', 'lígicaú', 'lígicaû', 'lígicaù', 'lígicaũ', 'lígicañ', 'lígicaç']\n"
     ]
    }
   ],
   "source": [
    "# testado o algoritmo\n",
    "palavra_exemplo = 'lígica'\n",
    "palavras_geradas = geradora_palavras(palavra_exemplo)\n",
    "print(palavras_geradas)"
   ]
  },
  {
   "cell_type": "markdown",
   "id": "fd9a23f0",
   "metadata": {},
   "source": [
    "<p style='font-size: 22px; line-height: 2; margin: 10px 50px; text-align: justify; color:purple;'> <b>12. Invertendo as letras</b>\n",
    "    \n",
    "<p style='font-size: 18px; line-height: 2; margin: 10px 50px; text-align: justify; color:black;'>Neste passo, corrigiremos um erro de digitação onde letras foram invertidas em suas posições, como na palavra escrita errada \"lgóica\".\n",
    "<img src='./img/logica3.png'>\n",
    "<br>\n",
    "<img src='./img/trocando4.png'>\n",
    "<img src='./img/trocando3.png' width=550>\n",
    "<br>    \n",
    "<p style='font-size: 18px; line-height: 2; margin: 10px 50px; text-align: justify; color:blue;'><i>ESQUERDO + DIREITO[1] + DIREITO[0]+ DIREITO[2:]</i>"
   ]
  },
  {
   "cell_type": "code",
   "execution_count": 48,
   "id": "e2d827e3",
   "metadata": {},
   "outputs": [],
   "source": [
    "## Todas as funções criadas anteriormente + a função que inverte as letras\n",
    "def insere_letras(fatias):\n",
    "    novas_palavras = list()\n",
    "    letras = 'abcdefghihklmnopqrstuvxyzáâàãéêèẽíîìĩóôõòúûùũñç'\n",
    "    for E, D in fatias:        \n",
    "        for letra in letras:\n",
    "            novas_palavras.append(E + letra + D)\n",
    "    return novas_palavras\n",
    "\n",
    "def deletando_caracteres(fatias):\n",
    "    novas_palavras = list()\n",
    "    for E, D in fatias:        \n",
    "        novas_palavras.append(E + D[1:])\n",
    "    return novas_palavras\n",
    "\n",
    "def troca_letra(fatias):\n",
    "    novas_palavras = list()\n",
    "    letras = 'abcdefghihklmnopqrstuvxyzáâàãéêèẽíîìĩóôõòúûùũñç'\n",
    "    for E, D in fatias:        \n",
    "        for letra in letras:\n",
    "            novas_palavras.append(E + letra + D[1:])\n",
    "    return novas_palavras\n",
    "\n",
    "def inverte_letras(fatias):\n",
    "    novas_palavras = list()\n",
    "    for E, D in fatias:\n",
    "        # Porque se for menor que 1 ele não realizará a operação\n",
    "        if len(D) > 1:\n",
    "            novas_palavras.append(E + D[1]+ D[0] + D[2:])\n",
    "    return novas_palavras\n",
    "    \n",
    "\n",
    "# Concatenando as listas de insere_letras, deletando_caracteres, troca_letra e inverte letras\n",
    "def geradora_palavras(palavra):\n",
    "    fatias = list()\n",
    "    for i in range(len(palavra) + 1):\n",
    "        fatias.append((palavra[:i], palavra[i:]))\n",
    "    palavras_geradas = insere_letras(fatias)\n",
    "    palavras_geradas += deletando_caracteres(fatias)\n",
    "    palavras_geradas += troca_letra(fatias)\n",
    "    palavras_geradas += inverte_letras(fatias)\n",
    "    return palavras_geradas"
   ]
  },
  {
   "cell_type": "code",
   "execution_count": 49,
   "id": "23e8e705",
   "metadata": {},
   "outputs": [
    {
     "data": {
      "text/plain": [
       "['algóica',\n",
       " 'blgóica',\n",
       " 'clgóica',\n",
       " 'dlgóica',\n",
       " 'elgóica',\n",
       " 'flgóica',\n",
       " 'glgóica',\n",
       " 'hlgóica',\n",
       " 'ilgóica',\n",
       " 'hlgóica',\n",
       " 'klgóica',\n",
       " 'llgóica',\n",
       " 'mlgóica',\n",
       " 'nlgóica',\n",
       " 'olgóica',\n",
       " 'plgóica',\n",
       " 'qlgóica',\n",
       " 'rlgóica',\n",
       " 'slgóica',\n",
       " 'tlgóica',\n",
       " 'ulgóica',\n",
       " 'vlgóica',\n",
       " 'xlgóica',\n",
       " 'ylgóica',\n",
       " 'zlgóica',\n",
       " 'álgóica',\n",
       " 'âlgóica',\n",
       " 'àlgóica',\n",
       " 'ãlgóica',\n",
       " 'élgóica',\n",
       " 'êlgóica',\n",
       " 'èlgóica',\n",
       " 'ẽlgóica',\n",
       " 'ílgóica',\n",
       " 'îlgóica',\n",
       " 'ìlgóica',\n",
       " 'ĩlgóica',\n",
       " 'ólgóica',\n",
       " 'ôlgóica',\n",
       " 'õlgóica',\n",
       " 'òlgóica',\n",
       " 'úlgóica',\n",
       " 'ûlgóica',\n",
       " 'ùlgóica',\n",
       " 'ũlgóica',\n",
       " 'ñlgóica',\n",
       " 'çlgóica',\n",
       " 'lagóica',\n",
       " 'lbgóica',\n",
       " 'lcgóica',\n",
       " 'ldgóica',\n",
       " 'legóica',\n",
       " 'lfgóica',\n",
       " 'lggóica',\n",
       " 'lhgóica',\n",
       " 'ligóica',\n",
       " 'lhgóica',\n",
       " 'lkgóica',\n",
       " 'llgóica',\n",
       " 'lmgóica',\n",
       " 'lngóica',\n",
       " 'logóica',\n",
       " 'lpgóica',\n",
       " 'lqgóica',\n",
       " 'lrgóica',\n",
       " 'lsgóica',\n",
       " 'ltgóica',\n",
       " 'lugóica',\n",
       " 'lvgóica',\n",
       " 'lxgóica',\n",
       " 'lygóica',\n",
       " 'lzgóica',\n",
       " 'lágóica',\n",
       " 'lâgóica',\n",
       " 'làgóica',\n",
       " 'lãgóica',\n",
       " 'légóica',\n",
       " 'lêgóica',\n",
       " 'lègóica',\n",
       " 'lẽgóica',\n",
       " 'lígóica',\n",
       " 'lîgóica',\n",
       " 'lìgóica',\n",
       " 'lĩgóica',\n",
       " 'lógóica',\n",
       " 'lôgóica',\n",
       " 'lõgóica',\n",
       " 'lògóica',\n",
       " 'lúgóica',\n",
       " 'lûgóica',\n",
       " 'lùgóica',\n",
       " 'lũgóica',\n",
       " 'lñgóica',\n",
       " 'lçgóica',\n",
       " 'lgaóica',\n",
       " 'lgbóica',\n",
       " 'lgcóica',\n",
       " 'lgdóica',\n",
       " 'lgeóica',\n",
       " 'lgfóica',\n",
       " 'lggóica',\n",
       " 'lghóica',\n",
       " 'lgióica',\n",
       " 'lghóica',\n",
       " 'lgkóica',\n",
       " 'lglóica',\n",
       " 'lgmóica',\n",
       " 'lgnóica',\n",
       " 'lgoóica',\n",
       " 'lgpóica',\n",
       " 'lgqóica',\n",
       " 'lgróica',\n",
       " 'lgsóica',\n",
       " 'lgtóica',\n",
       " 'lguóica',\n",
       " 'lgvóica',\n",
       " 'lgxóica',\n",
       " 'lgyóica',\n",
       " 'lgzóica',\n",
       " 'lgáóica',\n",
       " 'lgâóica',\n",
       " 'lgàóica',\n",
       " 'lgãóica',\n",
       " 'lgéóica',\n",
       " 'lgêóica',\n",
       " 'lgèóica',\n",
       " 'lgẽóica',\n",
       " 'lgíóica',\n",
       " 'lgîóica',\n",
       " 'lgìóica',\n",
       " 'lgĩóica',\n",
       " 'lgóóica',\n",
       " 'lgôóica',\n",
       " 'lgõóica',\n",
       " 'lgòóica',\n",
       " 'lgúóica',\n",
       " 'lgûóica',\n",
       " 'lgùóica',\n",
       " 'lgũóica',\n",
       " 'lgñóica',\n",
       " 'lgçóica',\n",
       " 'lgóaica',\n",
       " 'lgóbica',\n",
       " 'lgócica',\n",
       " 'lgódica',\n",
       " 'lgóeica',\n",
       " 'lgófica',\n",
       " 'lgógica',\n",
       " 'lgóhica',\n",
       " 'lgóiica',\n",
       " 'lgóhica',\n",
       " 'lgókica',\n",
       " 'lgólica',\n",
       " 'lgómica',\n",
       " 'lgónica',\n",
       " 'lgóoica',\n",
       " 'lgópica',\n",
       " 'lgóqica',\n",
       " 'lgórica',\n",
       " 'lgósica',\n",
       " 'lgótica',\n",
       " 'lgóuica',\n",
       " 'lgóvica',\n",
       " 'lgóxica',\n",
       " 'lgóyica',\n",
       " 'lgózica',\n",
       " 'lgóáica',\n",
       " 'lgóâica',\n",
       " 'lgóàica',\n",
       " 'lgóãica',\n",
       " 'lgóéica',\n",
       " 'lgóêica',\n",
       " 'lgóèica',\n",
       " 'lgóẽica',\n",
       " 'lgóíica',\n",
       " 'lgóîica',\n",
       " 'lgóìica',\n",
       " 'lgóĩica',\n",
       " 'lgóóica',\n",
       " 'lgóôica',\n",
       " 'lgóõica',\n",
       " 'lgóòica',\n",
       " 'lgóúica',\n",
       " 'lgóûica',\n",
       " 'lgóùica',\n",
       " 'lgóũica',\n",
       " 'lgóñica',\n",
       " 'lgóçica',\n",
       " 'lgóiaca',\n",
       " 'lgóibca',\n",
       " 'lgóicca',\n",
       " 'lgóidca',\n",
       " 'lgóieca',\n",
       " 'lgóifca',\n",
       " 'lgóigca',\n",
       " 'lgóihca',\n",
       " 'lgóiica',\n",
       " 'lgóihca',\n",
       " 'lgóikca',\n",
       " 'lgóilca',\n",
       " 'lgóimca',\n",
       " 'lgóinca',\n",
       " 'lgóioca',\n",
       " 'lgóipca',\n",
       " 'lgóiqca',\n",
       " 'lgóirca',\n",
       " 'lgóisca',\n",
       " 'lgóitca',\n",
       " 'lgóiuca',\n",
       " 'lgóivca',\n",
       " 'lgóixca',\n",
       " 'lgóiyca',\n",
       " 'lgóizca',\n",
       " 'lgóiáca',\n",
       " 'lgóiâca',\n",
       " 'lgóiàca',\n",
       " 'lgóiãca',\n",
       " 'lgóiéca',\n",
       " 'lgóiêca',\n",
       " 'lgóièca',\n",
       " 'lgóiẽca',\n",
       " 'lgóiíca',\n",
       " 'lgóiîca',\n",
       " 'lgóiìca',\n",
       " 'lgóiĩca',\n",
       " 'lgóióca',\n",
       " 'lgóiôca',\n",
       " 'lgóiõca',\n",
       " 'lgóiòca',\n",
       " 'lgóiúca',\n",
       " 'lgóiûca',\n",
       " 'lgóiùca',\n",
       " 'lgóiũca',\n",
       " 'lgóiñca',\n",
       " 'lgóiçca',\n",
       " 'lgóicaa',\n",
       " 'lgóicba',\n",
       " 'lgóicca',\n",
       " 'lgóicda',\n",
       " 'lgóicea',\n",
       " 'lgóicfa',\n",
       " 'lgóicga',\n",
       " 'lgóicha',\n",
       " 'lgóicia',\n",
       " 'lgóicha',\n",
       " 'lgóicka',\n",
       " 'lgóicla',\n",
       " 'lgóicma',\n",
       " 'lgóicna',\n",
       " 'lgóicoa',\n",
       " 'lgóicpa',\n",
       " 'lgóicqa',\n",
       " 'lgóicra',\n",
       " 'lgóicsa',\n",
       " 'lgóicta',\n",
       " 'lgóicua',\n",
       " 'lgóicva',\n",
       " 'lgóicxa',\n",
       " 'lgóicya',\n",
       " 'lgóicza',\n",
       " 'lgóicáa',\n",
       " 'lgóicâa',\n",
       " 'lgóicàa',\n",
       " 'lgóicãa',\n",
       " 'lgóicéa',\n",
       " 'lgóicêa',\n",
       " 'lgóicèa',\n",
       " 'lgóicẽa',\n",
       " 'lgóicía',\n",
       " 'lgóicîa',\n",
       " 'lgóicìa',\n",
       " 'lgóicĩa',\n",
       " 'lgóicóa',\n",
       " 'lgóicôa',\n",
       " 'lgóicõa',\n",
       " 'lgóicòa',\n",
       " 'lgóicúa',\n",
       " 'lgóicûa',\n",
       " 'lgóicùa',\n",
       " 'lgóicũa',\n",
       " 'lgóicña',\n",
       " 'lgóicça',\n",
       " 'lgóicaa',\n",
       " 'lgóicab',\n",
       " 'lgóicac',\n",
       " 'lgóicad',\n",
       " 'lgóicae',\n",
       " 'lgóicaf',\n",
       " 'lgóicag',\n",
       " 'lgóicah',\n",
       " 'lgóicai',\n",
       " 'lgóicah',\n",
       " 'lgóicak',\n",
       " 'lgóical',\n",
       " 'lgóicam',\n",
       " 'lgóican',\n",
       " 'lgóicao',\n",
       " 'lgóicap',\n",
       " 'lgóicaq',\n",
       " 'lgóicar',\n",
       " 'lgóicas',\n",
       " 'lgóicat',\n",
       " 'lgóicau',\n",
       " 'lgóicav',\n",
       " 'lgóicax',\n",
       " 'lgóicay',\n",
       " 'lgóicaz',\n",
       " 'lgóicaá',\n",
       " 'lgóicaâ',\n",
       " 'lgóicaà',\n",
       " 'lgóicaã',\n",
       " 'lgóicaé',\n",
       " 'lgóicaê',\n",
       " 'lgóicaè',\n",
       " 'lgóicaẽ',\n",
       " 'lgóicaí',\n",
       " 'lgóicaî',\n",
       " 'lgóicaì',\n",
       " 'lgóicaĩ',\n",
       " 'lgóicaó',\n",
       " 'lgóicaô',\n",
       " 'lgóicaõ',\n",
       " 'lgóicaò',\n",
       " 'lgóicaú',\n",
       " 'lgóicaû',\n",
       " 'lgóicaù',\n",
       " 'lgóicaũ',\n",
       " 'lgóicañ',\n",
       " 'lgóicaç',\n",
       " 'góica',\n",
       " 'lóica',\n",
       " 'lgica',\n",
       " 'lgóca',\n",
       " 'lgóia',\n",
       " 'lgóic',\n",
       " 'lgóica',\n",
       " 'agóica',\n",
       " 'bgóica',\n",
       " 'cgóica',\n",
       " 'dgóica',\n",
       " 'egóica',\n",
       " 'fgóica',\n",
       " 'ggóica',\n",
       " 'hgóica',\n",
       " 'igóica',\n",
       " 'hgóica',\n",
       " 'kgóica',\n",
       " 'lgóica',\n",
       " 'mgóica',\n",
       " 'ngóica',\n",
       " 'ogóica',\n",
       " 'pgóica',\n",
       " 'qgóica',\n",
       " 'rgóica',\n",
       " 'sgóica',\n",
       " 'tgóica',\n",
       " 'ugóica',\n",
       " 'vgóica',\n",
       " 'xgóica',\n",
       " 'ygóica',\n",
       " 'zgóica',\n",
       " 'ágóica',\n",
       " 'âgóica',\n",
       " 'àgóica',\n",
       " 'ãgóica',\n",
       " 'égóica',\n",
       " 'êgóica',\n",
       " 'ègóica',\n",
       " 'ẽgóica',\n",
       " 'ígóica',\n",
       " 'îgóica',\n",
       " 'ìgóica',\n",
       " 'ĩgóica',\n",
       " 'ógóica',\n",
       " 'ôgóica',\n",
       " 'õgóica',\n",
       " 'ògóica',\n",
       " 'úgóica',\n",
       " 'ûgóica',\n",
       " 'ùgóica',\n",
       " 'ũgóica',\n",
       " 'ñgóica',\n",
       " 'çgóica',\n",
       " 'laóica',\n",
       " 'lbóica',\n",
       " 'lcóica',\n",
       " 'ldóica',\n",
       " 'leóica',\n",
       " 'lfóica',\n",
       " 'lgóica',\n",
       " 'lhóica',\n",
       " 'lióica',\n",
       " 'lhóica',\n",
       " 'lkóica',\n",
       " 'llóica',\n",
       " 'lmóica',\n",
       " 'lnóica',\n",
       " 'loóica',\n",
       " 'lpóica',\n",
       " 'lqóica',\n",
       " 'lróica',\n",
       " 'lsóica',\n",
       " 'ltóica',\n",
       " 'luóica',\n",
       " 'lvóica',\n",
       " 'lxóica',\n",
       " 'lyóica',\n",
       " 'lzóica',\n",
       " 'láóica',\n",
       " 'lâóica',\n",
       " 'làóica',\n",
       " 'lãóica',\n",
       " 'léóica',\n",
       " 'lêóica',\n",
       " 'lèóica',\n",
       " 'lẽóica',\n",
       " 'líóica',\n",
       " 'lîóica',\n",
       " 'lìóica',\n",
       " 'lĩóica',\n",
       " 'lóóica',\n",
       " 'lôóica',\n",
       " 'lõóica',\n",
       " 'lòóica',\n",
       " 'lúóica',\n",
       " 'lûóica',\n",
       " 'lùóica',\n",
       " 'lũóica',\n",
       " 'lñóica',\n",
       " 'lçóica',\n",
       " 'lgaica',\n",
       " 'lgbica',\n",
       " 'lgcica',\n",
       " 'lgdica',\n",
       " 'lgeica',\n",
       " 'lgfica',\n",
       " 'lggica',\n",
       " 'lghica',\n",
       " 'lgiica',\n",
       " 'lghica',\n",
       " 'lgkica',\n",
       " 'lglica',\n",
       " 'lgmica',\n",
       " 'lgnica',\n",
       " 'lgoica',\n",
       " 'lgpica',\n",
       " 'lgqica',\n",
       " 'lgrica',\n",
       " 'lgsica',\n",
       " 'lgtica',\n",
       " 'lguica',\n",
       " 'lgvica',\n",
       " 'lgxica',\n",
       " 'lgyica',\n",
       " 'lgzica',\n",
       " 'lgáica',\n",
       " 'lgâica',\n",
       " 'lgàica',\n",
       " 'lgãica',\n",
       " 'lgéica',\n",
       " 'lgêica',\n",
       " 'lgèica',\n",
       " 'lgẽica',\n",
       " 'lgíica',\n",
       " 'lgîica',\n",
       " 'lgìica',\n",
       " 'lgĩica',\n",
       " 'lgóica',\n",
       " 'lgôica',\n",
       " 'lgõica',\n",
       " 'lgòica',\n",
       " 'lgúica',\n",
       " 'lgûica',\n",
       " 'lgùica',\n",
       " 'lgũica',\n",
       " 'lgñica',\n",
       " 'lgçica',\n",
       " 'lgóaca',\n",
       " 'lgóbca',\n",
       " 'lgócca',\n",
       " 'lgódca',\n",
       " 'lgóeca',\n",
       " 'lgófca',\n",
       " 'lgógca',\n",
       " 'lgóhca',\n",
       " 'lgóica',\n",
       " 'lgóhca',\n",
       " 'lgókca',\n",
       " 'lgólca',\n",
       " 'lgómca',\n",
       " 'lgónca',\n",
       " 'lgóoca',\n",
       " 'lgópca',\n",
       " 'lgóqca',\n",
       " 'lgórca',\n",
       " 'lgósca',\n",
       " 'lgótca',\n",
       " 'lgóuca',\n",
       " 'lgóvca',\n",
       " 'lgóxca',\n",
       " 'lgóyca',\n",
       " 'lgózca',\n",
       " 'lgóáca',\n",
       " 'lgóâca',\n",
       " 'lgóàca',\n",
       " 'lgóãca',\n",
       " 'lgóéca',\n",
       " 'lgóêca',\n",
       " 'lgóèca',\n",
       " 'lgóẽca',\n",
       " 'lgóíca',\n",
       " 'lgóîca',\n",
       " 'lgóìca',\n",
       " 'lgóĩca',\n",
       " 'lgóóca',\n",
       " 'lgóôca',\n",
       " 'lgóõca',\n",
       " 'lgóòca',\n",
       " 'lgóúca',\n",
       " 'lgóûca',\n",
       " 'lgóùca',\n",
       " 'lgóũca',\n",
       " 'lgóñca',\n",
       " 'lgóçca',\n",
       " 'lgóiaa',\n",
       " 'lgóiba',\n",
       " 'lgóica',\n",
       " 'lgóida',\n",
       " 'lgóiea',\n",
       " 'lgóifa',\n",
       " 'lgóiga',\n",
       " 'lgóiha',\n",
       " 'lgóiia',\n",
       " 'lgóiha',\n",
       " 'lgóika',\n",
       " 'lgóila',\n",
       " 'lgóima',\n",
       " 'lgóina',\n",
       " 'lgóioa',\n",
       " 'lgóipa',\n",
       " 'lgóiqa',\n",
       " 'lgóira',\n",
       " 'lgóisa',\n",
       " 'lgóita',\n",
       " 'lgóiua',\n",
       " 'lgóiva',\n",
       " 'lgóixa',\n",
       " 'lgóiya',\n",
       " 'lgóiza',\n",
       " 'lgóiáa',\n",
       " 'lgóiâa',\n",
       " 'lgóiàa',\n",
       " 'lgóiãa',\n",
       " 'lgóiéa',\n",
       " 'lgóiêa',\n",
       " 'lgóièa',\n",
       " 'lgóiẽa',\n",
       " 'lgóiía',\n",
       " 'lgóiîa',\n",
       " 'lgóiìa',\n",
       " 'lgóiĩa',\n",
       " 'lgóióa',\n",
       " 'lgóiôa',\n",
       " 'lgóiõa',\n",
       " 'lgóiòa',\n",
       " 'lgóiúa',\n",
       " 'lgóiûa',\n",
       " 'lgóiùa',\n",
       " 'lgóiũa',\n",
       " 'lgóiña',\n",
       " 'lgóiça',\n",
       " 'lgóica',\n",
       " 'lgóicb',\n",
       " 'lgóicc',\n",
       " 'lgóicd',\n",
       " 'lgóice',\n",
       " 'lgóicf',\n",
       " 'lgóicg',\n",
       " 'lgóich',\n",
       " 'lgóici',\n",
       " 'lgóich',\n",
       " 'lgóick',\n",
       " 'lgóicl',\n",
       " 'lgóicm',\n",
       " 'lgóicn',\n",
       " 'lgóico',\n",
       " 'lgóicp',\n",
       " 'lgóicq',\n",
       " 'lgóicr',\n",
       " 'lgóics',\n",
       " 'lgóict',\n",
       " 'lgóicu',\n",
       " 'lgóicv',\n",
       " 'lgóicx',\n",
       " 'lgóicy',\n",
       " 'lgóicz',\n",
       " 'lgóicá',\n",
       " 'lgóicâ',\n",
       " 'lgóicà',\n",
       " 'lgóicã',\n",
       " 'lgóicé',\n",
       " 'lgóicê',\n",
       " 'lgóicè',\n",
       " 'lgóicẽ',\n",
       " 'lgóicí',\n",
       " 'lgóicî',\n",
       " 'lgóicì',\n",
       " 'lgóicĩ',\n",
       " 'lgóicó',\n",
       " 'lgóicô',\n",
       " 'lgóicõ',\n",
       " 'lgóicò',\n",
       " 'lgóicú',\n",
       " 'lgóicû',\n",
       " 'lgóicù',\n",
       " 'lgóicũ',\n",
       " 'lgóicñ',\n",
       " 'lgóicç',\n",
       " 'lgóicaa',\n",
       " 'lgóicab',\n",
       " 'lgóicac',\n",
       " 'lgóicad',\n",
       " 'lgóicae',\n",
       " 'lgóicaf',\n",
       " 'lgóicag',\n",
       " 'lgóicah',\n",
       " 'lgóicai',\n",
       " 'lgóicah',\n",
       " 'lgóicak',\n",
       " 'lgóical',\n",
       " 'lgóicam',\n",
       " 'lgóican',\n",
       " 'lgóicao',\n",
       " 'lgóicap',\n",
       " 'lgóicaq',\n",
       " 'lgóicar',\n",
       " 'lgóicas',\n",
       " 'lgóicat',\n",
       " 'lgóicau',\n",
       " 'lgóicav',\n",
       " 'lgóicax',\n",
       " 'lgóicay',\n",
       " 'lgóicaz',\n",
       " 'lgóicaá',\n",
       " 'lgóicaâ',\n",
       " 'lgóicaà',\n",
       " 'lgóicaã',\n",
       " 'lgóicaé',\n",
       " 'lgóicaê',\n",
       " 'lgóicaè',\n",
       " 'lgóicaẽ',\n",
       " 'lgóicaí',\n",
       " 'lgóicaî',\n",
       " 'lgóicaì',\n",
       " 'lgóicaĩ',\n",
       " 'lgóicaó',\n",
       " 'lgóicaô',\n",
       " 'lgóicaõ',\n",
       " 'lgóicaò',\n",
       " 'lgóicaú',\n",
       " 'lgóicaû',\n",
       " 'lgóicaù',\n",
       " 'lgóicaũ',\n",
       " 'lgóicañ',\n",
       " 'lgóicaç',\n",
       " 'glóica',\n",
       " 'lógica',\n",
       " 'lgióca',\n",
       " 'lgócia',\n",
       " 'lgóiac']"
      ]
     },
     "execution_count": 49,
     "metadata": {},
     "output_type": "execute_result"
    }
   ],
   "source": [
    "# testado o algoritmo\n",
    "palavra_exemplo = 'lgóica'\n",
    "palavras_geradas = geradora_palavras(palavra_exemplo)\n",
    "palavras_geradas"
   ]
  },
  {
   "cell_type": "code",
   "execution_count": 50,
   "id": "e47be1aa",
   "metadata": {},
   "outputs": [],
   "source": [
    "# Avaliação do corretor\n",
    "\n",
    "def corretor(palavra):\n",
    "    palavras_geradas = geradora_palavras(palavra)\n",
    "    palavra_correta = max(palavras_geradas, key = probabilidade)\n",
    "    return palavra_correta\n",
    "\n",
    "def avaliador(testes):\n",
    "    numero_palavras = len(testes)\n",
    "    acertou = 0\n",
    "    for correta, errada in testes:\n",
    "        palavra_corrigida = corretor(errada)\n",
    "        if palavra_corrigida == correta:\n",
    "            acertou += 1\n",
    "    taxa_acerto = acertou/numero_palavras\n",
    "    print('A taxa de acerto é de: {:.2f}% de {} palavras'.format(taxa_acerto*100, numero_palavras))"
   ]
  },
  {
   "cell_type": "code",
   "execution_count": 51,
   "id": "46ea04ca",
   "metadata": {},
   "outputs": [
    {
     "name": "stdout",
     "output_type": "stream",
     "text": [
      "A taxa de acerto é de: 76.88% de 186 palavras\n"
     ]
    }
   ],
   "source": [
    "avaliador(lista_teste)"
   ]
  },
  {
   "cell_type": "markdown",
   "id": "e8f24670",
   "metadata": {},
   "source": [
    "<p style='font-size: 18px; line-height: 2; margin: 10px 50px; text-align: justify; color:black;'>O resultado será de <b>76.88%</b> de 186 palavras. Portanto, melhoramos consideravelmente o nosso corretor, pois começamos com aproximadamente <b>1%</b> de taxa de acerto apenas, o que era inaceitável. O erro está associado ao corretor pois ele desconhece o restante das palavras, pois se o corretor não conhece a palavra que precisa corrigir, ele não fará a correção."
   ]
  },
  {
   "cell_type": "markdown",
   "id": "625013a5",
   "metadata": {},
   "source": [
    "<p style='font-size: 22px; line-height: 2; margin: 10px 50px; text-align: justify; color:purple;'> <b>13. Palavras desconhecidas ao vocabulário</b>\n",
    "    \n",
    "<p style='font-size: 18px; line-height: 2; margin: 10px 50px; text-align: justify; color:black;'>A taxa de erros está associada a dois fatores; <b>restrição do algoritmo</b> que não gera a palavra correta e <b>dados de treinamento</b>.\n",
    "\n",
    "<p style='font-size: 18px; line-height: 2; margin: 10px 50px; text-align: justify; color:black;'>Às vezes um determinado termo ainda é <b>desconhecido</b>, e portanto não podemos realizar a correção de algo que não conhecemos."
   ]
  },
  {
   "cell_type": "code",
   "execution_count": 52,
   "id": "fcabfc1e",
   "metadata": {},
   "outputs": [],
   "source": [
    "def avaliador(testes, vocabulario):\n",
    "    numero_palavras = len(testes)\n",
    "    acertou = 0\n",
    "    desconhecida = 0\n",
    "    for correta, errada in testes:\n",
    "        palavra_corrigida = corretor(errada)\n",
    "        if palavra_corrigida == correta:\n",
    "            acertou += 1\n",
    "        else:\n",
    "            desconhecida += (correta not in vocabulario)\n",
    "    taxa_acerto = acertou/numero_palavras\n",
    "    taxa_desconhecida = desconhecida/numero_palavras\n",
    "    print('A taxa de acerto é de: {:.2f}% de {} palavras'.format(taxa_acerto*100, numero_palavras))\n",
    "    print('A taxa de palavras desconhecidas é de: {:.2f}% '.format(taxa_desconhecida*100, numero_palavras))"
   ]
  },
  {
   "cell_type": "code",
   "execution_count": 53,
   "id": "89594daf",
   "metadata": {},
   "outputs": [
    {
     "name": "stdout",
     "output_type": "stream",
     "text": [
      "A taxa de acerto é de: 76.88% de 186 palavras\n",
      "A taxa de palavras desconhecidas é de: 6.99% \n"
     ]
    }
   ],
   "source": [
    "vocabulario = set(lista_normalizada)\n",
    "avaliador(lista_teste, vocabulario)"
   ]
  },
  {
   "cell_type": "markdown",
   "id": "3e1747aa",
   "metadata": {},
   "source": [
    "<p style='font-size: 22px; line-height: 2; margin: 10px 50px; text-align: justify; color:purple;'> <b>14. Turbinando o gerador de palavras</b>\n",
    "    \n",
    "<p style='font-size: 18px; line-height: 2; margin: 10px 50px; text-align: justify; color:black;'>Por exemplo, se escrevermos erroneamente <b><i>“lóiigica”</i></b>, precisaremos deletar o caractere “i” duas vezes, e o nosso corretor ainda não é capaz de fazer isso.\n",
    "\n",
    "<p style='font-size: 18px; line-height: 2; margin: 10px 50px; text-align: justify; color:black;'>Logo, notaremos que o nosso corretor só corrige palavras que estão a uma única distância da correta. Então construiremos uma função que corrigirá as que estão a duas distâncias do resultado correto, e verificará qual será o retorno do novo corretor."
   ]
  },
  {
   "cell_type": "code",
   "execution_count": 54,
   "id": "7f679e06",
   "metadata": {},
   "outputs": [],
   "source": [
    "palavra = 'lóiigica'\n",
    "# A função gerador de palavras será aplicada duas vezes, para remover os dois \"ii\" como exemplo da palavra acima\n",
    "def gerador_turbinado(palavras_geradas):\n",
    "    novas_palavras = list()\n",
    "    for palavra in palavras_geradas:\n",
    "        # Como a gente tem uma lista da primeira vez que a função for aplicada, aqui terá uma concatenação das listas\n",
    "        novas_palavras += geradora_palavras(palavra)\n",
    "    return novas_palavras\n",
    "\n",
    "palavras_g = gerador_turbinado(geradora_palavras(palavra))"
   ]
  },
  {
   "cell_type": "code",
   "execution_count": 55,
   "id": "9437011e",
   "metadata": {},
   "outputs": [
    {
     "data": {
      "text/plain": [
       "True"
      ]
     },
     "execution_count": 55,
     "metadata": {},
     "output_type": "execute_result"
    }
   ],
   "source": [
    "# Vendo se o gerador ele retorna a palavra lógica corretamente\n",
    "'lógica' in palavras_g"
   ]
  },
  {
   "cell_type": "code",
   "execution_count": 56,
   "id": "916af09b",
   "metadata": {},
   "outputs": [
    {
     "data": {
      "text/plain": [
       "787396"
      ]
     },
     "execution_count": 56,
     "metadata": {},
     "output_type": "execute_result"
    }
   ],
   "source": [
    "len(palavras_g)"
   ]
  },
  {
   "cell_type": "markdown",
   "id": "8fe50cb7",
   "metadata": {},
   "source": [
    "<p style='font-size: 18px; line-height: 2; margin: 10px 50px; text-align: justify; color:black;'>Essa única palavra gerou <b>787396</b> variações, precisamos de alguma maneira eliminar as palavras que não existem das palavras geradas."
   ]
  },
  {
   "cell_type": "markdown",
   "id": "0d103f0d",
   "metadata": {},
   "source": [
    "<p style='font-size: 22px; line-height: 2; margin: 10px 50px; text-align: justify; color:purple;'> <b>15. Escolhendo os melhores candidatos</b>\n",
    "    \n",
    "<p style='font-size: 18px; line-height: 2; margin: 10px 50px; text-align: justify; color:black;'>Anteriormente, vimos um gigantesco número de palavras geradas para uma única correção, tanto pelo gerador_palavras() quanto pelo gerador_turbinado().\n",
    "\n",
    "<p style='font-size: 18px; line-height: 2; margin: 10px 50px; text-align: justify; color:black;'>Por conta disso, calcular a <b>máxima probabilidade</b> de todas esses possíveis resultados corretos se tornou inviável, então precisaremos <b>reduzir</b> este número de candidatos."
   ]
  },
  {
   "cell_type": "code",
   "execution_count": 61,
   "id": "a2b49071",
   "metadata": {},
   "outputs": [],
   "source": [
    "def novo_corretor(palavra):\n",
    "    palavras_geradas = geradora_palavras(palavra)\n",
    "    palavras_geradas_turbinado = gerador_turbinado(palavras_geradas)\n",
    "    todas_palavras = set(palavras_geradas + palavras_geradas_turbinado)\n",
    "    candidatos = [palavra]\n",
    "    for palavra in todas_palavras:\n",
    "        if palavra in vocabulario:\n",
    "            candidatos.append(palavra)\n",
    "    print(len(candidatos))\n",
    "    palavra_correta = max(candidatos, key = probabilidade)\n",
    "    return palavra_correta"
   ]
  },
  {
   "cell_type": "code",
   "execution_count": 62,
   "id": "fbc99713",
   "metadata": {},
   "outputs": [
    {
     "name": "stdout",
     "output_type": "stream",
     "text": [
      "2\n"
     ]
    },
    {
     "data": {
      "text/plain": [
       "'lógica'"
      ]
     },
     "execution_count": 62,
     "metadata": {},
     "output_type": "execute_result"
    }
   ],
   "source": [
    "novo_corretor(palavra)"
   ]
  },
  {
   "cell_type": "markdown",
   "id": "6f31f94a",
   "metadata": {},
   "source": [
    "<p style='font-size: 18px; line-height: 2; margin: 10px 50px; text-align: justify; color:black;'>Conseguimos corrigir a palavra e temos apenas <b>2 candidatos</b>, o restante que era quase 1 milhão de palavras eram insignificantes."
   ]
  },
  {
   "cell_type": "code",
   "execution_count": 63,
   "id": "79bb5e46",
   "metadata": {},
   "outputs": [],
   "source": [
    "def novo_corretor(palavra):\n",
    "    palavras_geradas = geradora_palavras(palavra)\n",
    "    palavras_geradas_turbinado = gerador_turbinado(palavras_geradas)\n",
    "    todas_palavras = set(palavras_geradas + palavras_geradas_turbinado)\n",
    "    candidatos = [palavra]\n",
    "    for palavra in todas_palavras:\n",
    "        if palavra in vocabulario:\n",
    "            candidatos.append(palavra)\n",
    "    palavra_correta = max(candidatos, key = probabilidade)\n",
    "    return palavra_correta"
   ]
  },
  {
   "cell_type": "code",
   "execution_count": 64,
   "id": "f04fe2ed",
   "metadata": {},
   "outputs": [
    {
     "data": {
      "text/plain": [
       "'lógica'"
      ]
     },
     "execution_count": 64,
     "metadata": {},
     "output_type": "execute_result"
    }
   ],
   "source": [
    "novo_corretor(palavra)"
   ]
  },
  {
   "cell_type": "markdown",
   "id": "cdc25524",
   "metadata": {},
   "source": [
    "<p style='font-size: 22px; line-height: 2; margin: 10px 50px; text-align: justify; color:purple;'> <b>16. Avaliando o resultado dos dois corretores</b>"
   ]
  },
  {
   "cell_type": "code",
   "execution_count": 70,
   "id": "74070739",
   "metadata": {},
   "outputs": [],
   "source": [
    "def avaliador(testes, vocabulario):\n",
    "    numero_palavras = len(testes)\n",
    "    acertou = 0\n",
    "    desconhecida = 0\n",
    "    for correta, errada in testes:\n",
    "        palavra_corrigida = novo_corretor(errada)\n",
    "        if palavra_corrigida == correta:\n",
    "            acertou += 1\n",
    "            desconhecida += (correta not in vocabulario)\n",
    "    taxa_acerto = acertou/numero_palavras\n",
    "    taxa_desconhecida = desconhecida/numero_palavras\n",
    "    print('A taxa de acerto é de: {:.2f}% de {} palavras'.format(taxa_acerto*100, numero_palavras))\n",
    "    print('A taxa de palavras desconhecidas é de: {:.2f}% '.format(taxa_desconhecida*100, numero_palavras))"
   ]
  },
  {
   "cell_type": "code",
   "execution_count": 71,
   "id": "69bc21e1",
   "metadata": {},
   "outputs": [
    {
     "name": "stdout",
     "output_type": "stream",
     "text": [
      "A taxa de acerto é de: 55.38% de 186 palavras\n",
      "A taxa de palavras desconhecidas é de: 0.54% \n"
     ]
    }
   ],
   "source": [
    "vocabulario = set(lista_normalizada)\n",
    "avaliador(lista_teste, vocabulario)"
   ]
  },
  {
   "cell_type": "markdown",
   "id": "0f780295",
   "metadata": {},
   "source": [
    "<p style='font-size: 18px; line-height: 2; margin: 10px 50px; text-align: justify; color:black;'> O número de palavras desconhecidas se modificou, mas ele não deveria ser fixo? O contador está no <b>lugar errado!!</b>\n",
    "<p style='font-size: 18px; line-height: 2; margin: 10px 50px; text-align: justify; color:black;'> O corretor teve uma <b>piora</b> de resultados."
   ]
  },
  {
   "cell_type": "code",
   "execution_count": 72,
   "id": "b88baa7d",
   "metadata": {},
   "outputs": [],
   "source": [
    "def avaliador(testes, vocabulario):\n",
    "    numero_palavras = len(testes)\n",
    "    acertou = 0\n",
    "    desconhecida = 0\n",
    "    for correta, errada in testes:\n",
    "        palavra_corrigida = novo_corretor(errada)\n",
    "        desconhecida += (correta not in vocabulario)\n",
    "        if palavra_corrigida == correta:\n",
    "            acertou += 1\n",
    "    taxa_acerto = acertou/numero_palavras\n",
    "    taxa_desconhecida = desconhecida/numero_palavras\n",
    "    print('A taxa de acerto é de: {:.2f}% de {} palavras'.format(taxa_acerto*100, numero_palavras))\n",
    "    print('A taxa de palavras desconhecidas é de: {:.2f}% '.format(taxa_desconhecida*100, numero_palavras))"
   ]
  },
  {
   "cell_type": "code",
   "execution_count": 73,
   "id": "36b196ce",
   "metadata": {},
   "outputs": [
    {
     "name": "stdout",
     "output_type": "stream",
     "text": [
      "A taxa de acerto é de: 55.38% de 186 palavras\n",
      "A taxa de palavras desconhecidas é de: 6.99% \n"
     ]
    }
   ],
   "source": [
    "vocabulario = set(lista_normalizada)\n",
    "avaliador(lista_teste, vocabulario)"
   ]
  },
  {
   "cell_type": "markdown",
   "id": "e4e0ca90",
   "metadata": {},
   "source": [
    "<p style='font-size: 18px; line-height: 2; margin: 10px 50px; text-align: justify; color:black;'> Agora sim, o valor das palavras desconhecidas não se modificou."
   ]
  },
  {
   "cell_type": "markdown",
   "id": "347de545",
   "metadata": {},
   "source": [
    "<p style='font-size: 22px; line-height: 2; margin: 10px 50px; text-align: justify; color:purple;'> <b>16.1  Avaliando o resultado dos dois corretores cont</b>\n",
    "    \n",
    "<p style='font-size: 18px; line-height: 2; margin: 10px 50px; text-align: justify; color:black;'>Vimos que o <i>novo_corretor()</i> performou consideravelmente <b>pior</b> do que o nosso corretor anterior. Printaremos alguns resultados para analisarmos o porquê deste novo não estar indo tão bem quanto o outro."
   ]
  },
  {
   "cell_type": "code",
   "execution_count": 74,
   "id": "f7dbff63",
   "metadata": {},
   "outputs": [],
   "source": [
    "def avaliador(testes, vocabulario):\n",
    "    numero_palavras = len(testes)\n",
    "    acertou = 0\n",
    "    desconhecida = 0\n",
    "    for correta, errada in testes:\n",
    "        palavra_corrigida = novo_corretor(errada)\n",
    "        desconhecida += (correta not in vocabulario)\n",
    "        if palavra_corrigida == correta:\n",
    "            acertou += 1\n",
    "        else:\n",
    "            # vamos printar a palavra equivocada, a palavra gerada pelo corretor antigo e corrigida pelo novo corretor\n",
    "            print(errada + '-' + corretor(errada) + '-' + palavra_corrigida)\n",
    "    taxa_acerto = acertou/numero_palavras\n",
    "    taxa_desconhecida = desconhecida/numero_palavras\n",
    "    print('A taxa de acerto é de: {:.2f}% de {} palavras'.format(taxa_acerto*100, numero_palavras))\n",
    "    print('A taxa de palavras desconhecidas é de: {:.2f}% '.format(taxa_desconhecida*100, numero_palavras))"
   ]
  },
  {
   "cell_type": "code",
   "execution_count": 75,
   "id": "b5bed20e",
   "metadata": {},
   "outputs": [
    {
     "name": "stdout",
     "output_type": "stream",
     "text": [
      "esje-esse-se\n",
      "sãêo-são-não\n",
      "dosa-dos-do\n",
      "eme-em-de\n",
      "eàssa-essa-esse\n",
      "daõs-das-da\n",
      "céda-cada-da\n",
      "noâ-no-o\n",
      "enêão-então-não\n",
      "tĩem-tem-em\n",
      "nossah-nossa-nosso\n",
      "teb-tem-de\n",
      "atĩ-até-a\n",
      "âem-em-de\n",
      "foo-foi-o\n",
      "serr-ser-se\n",
      "entke-entre-então\n",
      "van-vai-a\n",
      "çeus-seus-seu\n",
      "eû-e-de\n",
      "temeo-tempo-temos\n",
      "semre-sempre-ser\n",
      "elaá-ela-ele\n",
      "síó-só-se\n",
      "siàe-site-se\n",
      "seém-sem-em\n",
      "peln-pelo-ele\n",
      "aléra-alura-agora\n",
      "tdia-dia-da\n",
      "tuúo-tudo-tipo\n",
      "jé-é-de\n",
      "sãô-são-não\n",
      "odos-dos-do\n",
      "siua-sua-seu\n",
      "elpe-ele-esse\n",
      "teos-temos-os\n",
      "eũsa-essa-esse\n",
      "vjmos-vamos-temos\n",
      "dms-dos-de\n",
      "cava-cada-para\n",
      "ános-nos-no\n",
      "èaso-caso-as\n",
      "túem-tem-em\n",
      "daáos-dados-dos\n",
      "nossk-nosso-nosso\n",
      "tãer-ter-ser\n",
      "vté-até-é\n",
      "búm-bem-um\n",
      "sçerá-será-ser\n",
      "entró-entre-então\n",
      "uai-vai-a\n",
      "sâus-seus-seu\n",
      "ìeu-seu-de\n",
      "fual-qual-sua\n",
      "elal-ela-ele\n",
      "skó-só-se\n",
      "secm-sem-em\n",
      "aluéa-alura-além\n",
      "dil-dia-de\n",
      "sód-só-se\n",
      "eúaa-aeúaa-essa\n",
      "ró-só-de\n",
      "dĩaz-adĩaz-da\n",
      "correptor-corretor-correto\n",
      "trtica-tática-prática\n",
      "ewpoderamento-aewpoderamento-ewpoderamento\n",
      "îgato-gato-fato\n",
      "cakvalo-acakvalo-carvalho\n",
      "canelac-acanelac-caneta\n",
      "tênisy-atênisy-tênisy\n",
      "anciosa-aanciosa-ansioso\n",
      "ancciosa-aancciosa-ancciosa\n",
      "ansioa-aansioa-antiga\n",
      "asterístico-aasterístico-asterístico\n",
      "entertido-aentertido-entendido\n",
      "ritimo-ritmo-ótimo\n",
      "indiota-aindiota-indica\n",
      "tomare-tomar-tomar\n",
      "seje-seja-se\n",
      "provalecer-aprovalecer-prevalece\n",
      "esteje-esteja-este\n",
      "mindigo-amindigo-indico\n",
      "pertubar-apertubar-derrubar\n",
      "A taxa de acerto é de: 55.38% de 186 palavras\n",
      "A taxa de palavras desconhecidas é de: 6.99% \n"
     ]
    }
   ],
   "source": [
    "vocabulario = set(lista_normalizada)\n",
    "avaliador(lista_teste, vocabulario)"
   ]
  },
  {
   "cell_type": "markdown",
   "id": "abcbcd0c",
   "metadata": {},
   "source": [
    "<p style='font-size: 18px; line-height: 2; margin: 10px 50px; text-align: justify; color:black;'>Nosso corretor antigo fez a corrigiu para dos corretamente. Porém, o novo corretor corrige para do, o que está incorreto, pois novo_corretor gera ambos os resultados.\n",
    "\n",
    "<p style='font-size: 18px; line-height: 2; margin: 10px 50px; text-align: justify; color:black;'>Porém, <b>do</b> aparece muito mais vezes do que a palavra <b>dos</b>. Como dependemos dessa <b>máxima probabilidade</b>, a função exibirá o termo que possui uma maior chance de estar correta, mesmo que a outra palavra também seja uma possibilidade correta.\n",
    "    \n",
    "<p style='font-size: 18px; line-height: 2; margin: 10px 50px; text-align: justify; color:black;'><b>Muitas vezes nossos erros de digitação estão apenas a uma distância da palavra equivocada</b>, ou seja, é mais comum esquecermos de digitar ou trocarmos uma única letra.\n",
    "    \n",
    "<p style='font-size: 18px; line-height: 2; margin: 10px 50px; text-align: justify; color:blue;'>Embora teoricamente o novo_corretor() parecesse ser melhor, está performando bem pior do que o outro. Portanto, é mais interessante continuarmos com o antigo."
   ]
  },
  {
   "cell_type": "code",
   "execution_count": 77,
   "id": "e5f0a47e",
   "metadata": {},
   "outputs": [],
   "source": [
    "def avaliador(testes, vocabulario):\n",
    "    numero_palavras = len(testes)\n",
    "    acertou = 0\n",
    "    desconhecida = 0\n",
    "    for correta, errada in testes:\n",
    "        palavra_corrigida = corretor(errada)\n",
    "        desconhecida += (correta not in vocabulario)\n",
    "        if palavra_corrigida == correta:\n",
    "            acertou += 1\n",
    "    taxa_acerto = acertou/numero_palavras\n",
    "    taxa_desconhecida = desconhecida/numero_palavras\n",
    "    print('A taxa de acerto é de: {:.2f}% de {} palavras'.format(taxa_acerto*100, numero_palavras))\n",
    "    print('A taxa de palavras desconhecidas é de: {:.2f}% '.format(taxa_desconhecida*100, numero_palavras))"
   ]
  },
  {
   "cell_type": "code",
   "execution_count": 78,
   "id": "aec862e4",
   "metadata": {},
   "outputs": [
    {
     "name": "stdout",
     "output_type": "stream",
     "text": [
      "A taxa de acerto é de: 76.88% de 186 palavras\n",
      "A taxa de palavras desconhecidas é de: 6.99% \n"
     ]
    }
   ],
   "source": [
    "vocabulario = set(lista_normalizada)\n",
    "avaliador(lista_teste, vocabulario)"
   ]
  },
  {
   "cell_type": "code",
   "execution_count": 81,
   "id": "5d2bf9b5",
   "metadata": {},
   "outputs": [
    {
     "name": "stdout",
     "output_type": "stream",
     "text": [
      "fica\n",
      "lógica\n"
     ]
    }
   ],
   "source": [
    "palavra = 'lgica'\n",
    "print(novo_corretor(palavra))\n",
    "print(corretor(palavra))"
   ]
  },
  {
   "cell_type": "code",
   "execution_count": 82,
   "id": "6473cdd6",
   "metadata": {},
   "outputs": [
    {
     "name": "stdout",
     "output_type": "stream",
     "text": [
      "lógica\n",
      "lógica\n"
     ]
    }
   ],
   "source": [
    "palavra = 'lóógica'\n",
    "print(novo_corretor(palavra))\n",
    "print(corretor(palavra))"
   ]
  },
  {
   "cell_type": "code",
   "execution_count": 84,
   "id": "91bbf701",
   "metadata": {},
   "outputs": [
    {
     "name": "stdout",
     "output_type": "stream",
     "text": [
      "lógica\n",
      "aliiógica\n"
     ]
    }
   ],
   "source": [
    "# O corretor antigo não consegue acertar essa palavra, porém esse tipo de erro de duas distâncias é mais incomum\n",
    "palavra = 'liiógica'\n",
    "print(novo_corretor(palavra))\n",
    "print(corretor(palavra))"
   ]
  },
  {
   "cell_type": "code",
   "execution_count": null,
   "id": "90943066",
   "metadata": {},
   "outputs": [],
   "source": []
  }
 ],
 "metadata": {
  "kernelspec": {
   "display_name": "Python 3 (ipykernel)",
   "language": "python",
   "name": "python3"
  },
  "language_info": {
   "codemirror_mode": {
    "name": "ipython",
    "version": 3
   },
   "file_extension": ".py",
   "mimetype": "text/x-python",
   "name": "python",
   "nbconvert_exporter": "python",
   "pygments_lexer": "ipython3",
   "version": "3.9.7"
  }
 },
 "nbformat": 4,
 "nbformat_minor": 5
}
