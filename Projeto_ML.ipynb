{
 "cells": [
  {
   "cell_type": "markdown",
   "id": "5515a058",
   "metadata": {},
   "source": [
    "##  Vídeo 1.2 - Importando dados"
   ]
  },
  {
   "cell_type": "code",
   "execution_count": 1,
   "id": "5247804f",
   "metadata": {},
   "outputs": [],
   "source": [
    "import pandas as pd"
   ]
  },
  {
   "cell_type": "code",
   "execution_count": 2,
   "id": "bf1c884a",
   "metadata": {},
   "outputs": [],
   "source": [
    "dados = pd.read_csv('https://raw.githubusercontent.com/alura-cursos/ML_Classificacao_por_tras_dos_panos/main/Dados/Customer-Churn.csv', sep = ',')"
   ]
  },
  {
   "cell_type": "code",
   "execution_count": 3,
   "id": "d762e626",
   "metadata": {},
   "outputs": [
    {
     "data": {
      "text/plain": [
       "(7043, 18)"
      ]
     },
     "execution_count": 3,
     "metadata": {},
     "output_type": "execute_result"
    }
   ],
   "source": [
    "dados.shape"
   ]
  },
  {
   "cell_type": "code",
   "execution_count": 4,
   "id": "650a0f7d",
   "metadata": {},
   "outputs": [
    {
     "data": {
      "text/html": [
       "<div>\n",
       "<style scoped>\n",
       "    .dataframe tbody tr th:only-of-type {\n",
       "        vertical-align: middle;\n",
       "    }\n",
       "\n",
       "    .dataframe tbody tr th {\n",
       "        vertical-align: top;\n",
       "    }\n",
       "\n",
       "    .dataframe thead th {\n",
       "        text-align: right;\n",
       "    }\n",
       "</style>\n",
       "<table border=\"1\" class=\"dataframe\">\n",
       "  <thead>\n",
       "    <tr style=\"text-align: right;\">\n",
       "      <th></th>\n",
       "      <th>Maior65Anos</th>\n",
       "      <th>Conjuge</th>\n",
       "      <th>Dependentes</th>\n",
       "      <th>MesesDeContrato</th>\n",
       "      <th>TelefoneFixo</th>\n",
       "      <th>VariasLinhasTelefonicas</th>\n",
       "      <th>ServicoDeInternet</th>\n",
       "      <th>SegurancaOnline</th>\n",
       "      <th>BackupOnline</th>\n",
       "      <th>SeguroNoDispositivo</th>\n",
       "      <th>SuporteTecnico</th>\n",
       "      <th>TVaCabo</th>\n",
       "      <th>StreamingDeFilmes</th>\n",
       "      <th>TipoDeContrato</th>\n",
       "      <th>PagamentoOnline</th>\n",
       "      <th>FormaDePagamento</th>\n",
       "      <th>ContaMensal</th>\n",
       "      <th>Churn</th>\n",
       "    </tr>\n",
       "  </thead>\n",
       "  <tbody>\n",
       "    <tr>\n",
       "      <th>0</th>\n",
       "      <td>0</td>\n",
       "      <td>Sim</td>\n",
       "      <td>Nao</td>\n",
       "      <td>1</td>\n",
       "      <td>Nao</td>\n",
       "      <td>SemServicoTelefonico</td>\n",
       "      <td>DSL</td>\n",
       "      <td>Nao</td>\n",
       "      <td>Sim</td>\n",
       "      <td>Nao</td>\n",
       "      <td>Nao</td>\n",
       "      <td>Nao</td>\n",
       "      <td>Nao</td>\n",
       "      <td>Mensalmente</td>\n",
       "      <td>Sim</td>\n",
       "      <td>ChequeDigital</td>\n",
       "      <td>29.85</td>\n",
       "      <td>Nao</td>\n",
       "    </tr>\n",
       "    <tr>\n",
       "      <th>1</th>\n",
       "      <td>0</td>\n",
       "      <td>Nao</td>\n",
       "      <td>Nao</td>\n",
       "      <td>34</td>\n",
       "      <td>Sim</td>\n",
       "      <td>Nao</td>\n",
       "      <td>DSL</td>\n",
       "      <td>Sim</td>\n",
       "      <td>Nao</td>\n",
       "      <td>Sim</td>\n",
       "      <td>Nao</td>\n",
       "      <td>Nao</td>\n",
       "      <td>Nao</td>\n",
       "      <td>UmAno</td>\n",
       "      <td>Nao</td>\n",
       "      <td>ChequePapel</td>\n",
       "      <td>56.95</td>\n",
       "      <td>Nao</td>\n",
       "    </tr>\n",
       "    <tr>\n",
       "      <th>2</th>\n",
       "      <td>0</td>\n",
       "      <td>Nao</td>\n",
       "      <td>Nao</td>\n",
       "      <td>2</td>\n",
       "      <td>Sim</td>\n",
       "      <td>Nao</td>\n",
       "      <td>DSL</td>\n",
       "      <td>Sim</td>\n",
       "      <td>Sim</td>\n",
       "      <td>Nao</td>\n",
       "      <td>Nao</td>\n",
       "      <td>Nao</td>\n",
       "      <td>Nao</td>\n",
       "      <td>Mensalmente</td>\n",
       "      <td>Sim</td>\n",
       "      <td>ChequePapel</td>\n",
       "      <td>53.85</td>\n",
       "      <td>Sim</td>\n",
       "    </tr>\n",
       "    <tr>\n",
       "      <th>3</th>\n",
       "      <td>0</td>\n",
       "      <td>Nao</td>\n",
       "      <td>Nao</td>\n",
       "      <td>45</td>\n",
       "      <td>Nao</td>\n",
       "      <td>SemServicoTelefonico</td>\n",
       "      <td>DSL</td>\n",
       "      <td>Sim</td>\n",
       "      <td>Nao</td>\n",
       "      <td>Sim</td>\n",
       "      <td>Sim</td>\n",
       "      <td>Nao</td>\n",
       "      <td>Nao</td>\n",
       "      <td>UmAno</td>\n",
       "      <td>Nao</td>\n",
       "      <td>DebitoEmConta</td>\n",
       "      <td>42.30</td>\n",
       "      <td>Nao</td>\n",
       "    </tr>\n",
       "    <tr>\n",
       "      <th>4</th>\n",
       "      <td>0</td>\n",
       "      <td>Nao</td>\n",
       "      <td>Nao</td>\n",
       "      <td>2</td>\n",
       "      <td>Sim</td>\n",
       "      <td>Nao</td>\n",
       "      <td>FibraOptica</td>\n",
       "      <td>Nao</td>\n",
       "      <td>Nao</td>\n",
       "      <td>Nao</td>\n",
       "      <td>Nao</td>\n",
       "      <td>Nao</td>\n",
       "      <td>Nao</td>\n",
       "      <td>Mensalmente</td>\n",
       "      <td>Sim</td>\n",
       "      <td>ChequeDigital</td>\n",
       "      <td>70.70</td>\n",
       "      <td>Sim</td>\n",
       "    </tr>\n",
       "  </tbody>\n",
       "</table>\n",
       "</div>"
      ],
      "text/plain": [
       "   Maior65Anos Conjuge Dependentes  MesesDeContrato TelefoneFixo  \\\n",
       "0            0     Sim         Nao                1          Nao   \n",
       "1            0     Nao         Nao               34          Sim   \n",
       "2            0     Nao         Nao                2          Sim   \n",
       "3            0     Nao         Nao               45          Nao   \n",
       "4            0     Nao         Nao                2          Sim   \n",
       "\n",
       "  VariasLinhasTelefonicas ServicoDeInternet SegurancaOnline BackupOnline  \\\n",
       "0    SemServicoTelefonico               DSL             Nao          Sim   \n",
       "1                     Nao               DSL             Sim          Nao   \n",
       "2                     Nao               DSL             Sim          Sim   \n",
       "3    SemServicoTelefonico               DSL             Sim          Nao   \n",
       "4                     Nao       FibraOptica             Nao          Nao   \n",
       "\n",
       "  SeguroNoDispositivo SuporteTecnico TVaCabo StreamingDeFilmes TipoDeContrato  \\\n",
       "0                 Nao            Nao     Nao               Nao    Mensalmente   \n",
       "1                 Sim            Nao     Nao               Nao          UmAno   \n",
       "2                 Nao            Nao     Nao               Nao    Mensalmente   \n",
       "3                 Sim            Sim     Nao               Nao          UmAno   \n",
       "4                 Nao            Nao     Nao               Nao    Mensalmente   \n",
       "\n",
       "  PagamentoOnline FormaDePagamento  ContaMensal Churn  \n",
       "0             Sim    ChequeDigital        29.85   Nao  \n",
       "1             Nao      ChequePapel        56.95   Nao  \n",
       "2             Sim      ChequePapel        53.85   Sim  \n",
       "3             Nao    DebitoEmConta        42.30   Nao  \n",
       "4             Sim    ChequeDigital        70.70   Sim  "
      ]
     },
     "execution_count": 4,
     "metadata": {},
     "output_type": "execute_result"
    }
   ],
   "source": [
    "dados.head()"
   ]
  },
  {
   "cell_type": "code",
   "execution_count": 5,
   "id": "c0c4c671",
   "metadata": {},
   "outputs": [
    {
     "data": {
      "text/plain": [
       "Index(['Maior65Anos', 'Conjuge', 'Dependentes', 'MesesDeContrato',\n",
       "       'TelefoneFixo', 'VariasLinhasTelefonicas', 'ServicoDeInternet',\n",
       "       'SegurancaOnline', 'BackupOnline', 'SeguroNoDispositivo',\n",
       "       'SuporteTecnico', 'TVaCabo', 'StreamingDeFilmes', 'TipoDeContrato',\n",
       "       'PagamentoOnline', 'FormaDePagamento', 'ContaMensal', 'Churn'],\n",
       "      dtype='object')"
      ]
     },
     "execution_count": 5,
     "metadata": {},
     "output_type": "execute_result"
    }
   ],
   "source": [
    "dados.columns"
   ]
  },
  {
   "cell_type": "markdown",
   "id": "6efa693b",
   "metadata": {},
   "source": [
    "## Vídeo 1.3 - Diferentes Variáveis"
   ]
  },
  {
   "cell_type": "code",
   "execution_count": 6,
   "id": "5ea1c048",
   "metadata": {},
   "outputs": [
    {
     "data": {
      "text/html": [
       "<div>\n",
       "<style scoped>\n",
       "    .dataframe tbody tr th:only-of-type {\n",
       "        vertical-align: middle;\n",
       "    }\n",
       "\n",
       "    .dataframe tbody tr th {\n",
       "        vertical-align: top;\n",
       "    }\n",
       "\n",
       "    .dataframe thead th {\n",
       "        text-align: right;\n",
       "    }\n",
       "</style>\n",
       "<table border=\"1\" class=\"dataframe\">\n",
       "  <thead>\n",
       "    <tr style=\"text-align: right;\">\n",
       "      <th></th>\n",
       "      <th>Conjuge</th>\n",
       "      <th>Dependentes</th>\n",
       "      <th>TelefoneFixo</th>\n",
       "      <th>PagamentoOnline</th>\n",
       "      <th>Churn</th>\n",
       "    </tr>\n",
       "  </thead>\n",
       "  <tbody>\n",
       "    <tr>\n",
       "      <th>0</th>\n",
       "      <td>1</td>\n",
       "      <td>0</td>\n",
       "      <td>0</td>\n",
       "      <td>1</td>\n",
       "      <td>0</td>\n",
       "    </tr>\n",
       "    <tr>\n",
       "      <th>1</th>\n",
       "      <td>0</td>\n",
       "      <td>0</td>\n",
       "      <td>1</td>\n",
       "      <td>0</td>\n",
       "      <td>0</td>\n",
       "    </tr>\n",
       "    <tr>\n",
       "      <th>2</th>\n",
       "      <td>0</td>\n",
       "      <td>0</td>\n",
       "      <td>1</td>\n",
       "      <td>1</td>\n",
       "      <td>1</td>\n",
       "    </tr>\n",
       "    <tr>\n",
       "      <th>3</th>\n",
       "      <td>0</td>\n",
       "      <td>0</td>\n",
       "      <td>0</td>\n",
       "      <td>0</td>\n",
       "      <td>0</td>\n",
       "    </tr>\n",
       "    <tr>\n",
       "      <th>4</th>\n",
       "      <td>0</td>\n",
       "      <td>0</td>\n",
       "      <td>1</td>\n",
       "      <td>1</td>\n",
       "      <td>1</td>\n",
       "    </tr>\n",
       "  </tbody>\n",
       "</table>\n",
       "</div>"
      ],
      "text/plain": [
       "   Conjuge  Dependentes  TelefoneFixo  PagamentoOnline  Churn\n",
       "0        1            0             0                1      0\n",
       "1        0            0             1                0      0\n",
       "2        0            0             1                1      1\n",
       "3        0            0             0                0      0\n",
       "4        0            0             1                1      1"
      ]
     },
     "execution_count": 6,
     "metadata": {},
     "output_type": "execute_result"
    }
   ],
   "source": [
    "# Modificação de forma manual\n",
    "\n",
    "traducao_dic = {'Sim':1,\n",
    "                'Nao':0}\n",
    "\n",
    "dadosmodificados = dados[['Conjuge', 'Dependentes', 'TelefoneFixo','PagamentoOnline', 'Churn']].replace(traducao_dic)\n",
    "dadosmodificados.head()"
   ]
  },
  {
   "cell_type": "code",
   "execution_count": 7,
   "id": "1ecbe144",
   "metadata": {},
   "outputs": [
    {
     "data": {
      "text/html": [
       "<div>\n",
       "<style scoped>\n",
       "    .dataframe tbody tr th:only-of-type {\n",
       "        vertical-align: middle;\n",
       "    }\n",
       "\n",
       "    .dataframe tbody tr th {\n",
       "        vertical-align: top;\n",
       "    }\n",
       "\n",
       "    .dataframe thead th {\n",
       "        text-align: right;\n",
       "    }\n",
       "</style>\n",
       "<table border=\"1\" class=\"dataframe\">\n",
       "  <thead>\n",
       "    <tr style=\"text-align: right;\">\n",
       "      <th></th>\n",
       "      <th>Maior65Anos</th>\n",
       "      <th>MesesDeContrato</th>\n",
       "      <th>ContaMensal</th>\n",
       "      <th>VariasLinhasTelefonicas_Nao</th>\n",
       "      <th>VariasLinhasTelefonicas_SemServicoTelefonico</th>\n",
       "      <th>VariasLinhasTelefonicas_Sim</th>\n",
       "      <th>ServicoDeInternet_DSL</th>\n",
       "      <th>ServicoDeInternet_FibraOptica</th>\n",
       "      <th>ServicoDeInternet_Nao</th>\n",
       "      <th>SegurancaOnline_Nao</th>\n",
       "      <th>...</th>\n",
       "      <th>StreamingDeFilmes_Nao</th>\n",
       "      <th>StreamingDeFilmes_SemServicoDeInternet</th>\n",
       "      <th>StreamingDeFilmes_Sim</th>\n",
       "      <th>TipoDeContrato_DoisAnos</th>\n",
       "      <th>TipoDeContrato_Mensalmente</th>\n",
       "      <th>TipoDeContrato_UmAno</th>\n",
       "      <th>FormaDePagamento_CartaoDeCredito</th>\n",
       "      <th>FormaDePagamento_ChequeDigital</th>\n",
       "      <th>FormaDePagamento_ChequePapel</th>\n",
       "      <th>FormaDePagamento_DebitoEmConta</th>\n",
       "    </tr>\n",
       "  </thead>\n",
       "  <tbody>\n",
       "    <tr>\n",
       "      <th>0</th>\n",
       "      <td>0</td>\n",
       "      <td>1</td>\n",
       "      <td>29.85</td>\n",
       "      <td>0</td>\n",
       "      <td>1</td>\n",
       "      <td>0</td>\n",
       "      <td>1</td>\n",
       "      <td>0</td>\n",
       "      <td>0</td>\n",
       "      <td>1</td>\n",
       "      <td>...</td>\n",
       "      <td>1</td>\n",
       "      <td>0</td>\n",
       "      <td>0</td>\n",
       "      <td>0</td>\n",
       "      <td>1</td>\n",
       "      <td>0</td>\n",
       "      <td>0</td>\n",
       "      <td>1</td>\n",
       "      <td>0</td>\n",
       "      <td>0</td>\n",
       "    </tr>\n",
       "    <tr>\n",
       "      <th>1</th>\n",
       "      <td>0</td>\n",
       "      <td>34</td>\n",
       "      <td>56.95</td>\n",
       "      <td>1</td>\n",
       "      <td>0</td>\n",
       "      <td>0</td>\n",
       "      <td>1</td>\n",
       "      <td>0</td>\n",
       "      <td>0</td>\n",
       "      <td>0</td>\n",
       "      <td>...</td>\n",
       "      <td>1</td>\n",
       "      <td>0</td>\n",
       "      <td>0</td>\n",
       "      <td>0</td>\n",
       "      <td>0</td>\n",
       "      <td>1</td>\n",
       "      <td>0</td>\n",
       "      <td>0</td>\n",
       "      <td>1</td>\n",
       "      <td>0</td>\n",
       "    </tr>\n",
       "    <tr>\n",
       "      <th>2</th>\n",
       "      <td>0</td>\n",
       "      <td>2</td>\n",
       "      <td>53.85</td>\n",
       "      <td>1</td>\n",
       "      <td>0</td>\n",
       "      <td>0</td>\n",
       "      <td>1</td>\n",
       "      <td>0</td>\n",
       "      <td>0</td>\n",
       "      <td>0</td>\n",
       "      <td>...</td>\n",
       "      <td>1</td>\n",
       "      <td>0</td>\n",
       "      <td>0</td>\n",
       "      <td>0</td>\n",
       "      <td>1</td>\n",
       "      <td>0</td>\n",
       "      <td>0</td>\n",
       "      <td>0</td>\n",
       "      <td>1</td>\n",
       "      <td>0</td>\n",
       "    </tr>\n",
       "    <tr>\n",
       "      <th>3</th>\n",
       "      <td>0</td>\n",
       "      <td>45</td>\n",
       "      <td>42.30</td>\n",
       "      <td>0</td>\n",
       "      <td>1</td>\n",
       "      <td>0</td>\n",
       "      <td>1</td>\n",
       "      <td>0</td>\n",
       "      <td>0</td>\n",
       "      <td>0</td>\n",
       "      <td>...</td>\n",
       "      <td>1</td>\n",
       "      <td>0</td>\n",
       "      <td>0</td>\n",
       "      <td>0</td>\n",
       "      <td>0</td>\n",
       "      <td>1</td>\n",
       "      <td>0</td>\n",
       "      <td>0</td>\n",
       "      <td>0</td>\n",
       "      <td>1</td>\n",
       "    </tr>\n",
       "    <tr>\n",
       "      <th>4</th>\n",
       "      <td>0</td>\n",
       "      <td>2</td>\n",
       "      <td>70.70</td>\n",
       "      <td>1</td>\n",
       "      <td>0</td>\n",
       "      <td>0</td>\n",
       "      <td>0</td>\n",
       "      <td>1</td>\n",
       "      <td>0</td>\n",
       "      <td>1</td>\n",
       "      <td>...</td>\n",
       "      <td>1</td>\n",
       "      <td>0</td>\n",
       "      <td>0</td>\n",
       "      <td>0</td>\n",
       "      <td>1</td>\n",
       "      <td>0</td>\n",
       "      <td>0</td>\n",
       "      <td>1</td>\n",
       "      <td>0</td>\n",
       "      <td>0</td>\n",
       "    </tr>\n",
       "  </tbody>\n",
       "</table>\n",
       "<p>5 rows × 34 columns</p>\n",
       "</div>"
      ],
      "text/plain": [
       "   Maior65Anos  MesesDeContrato  ContaMensal  VariasLinhasTelefonicas_Nao  \\\n",
       "0            0                1        29.85                            0   \n",
       "1            0               34        56.95                            1   \n",
       "2            0                2        53.85                            1   \n",
       "3            0               45        42.30                            0   \n",
       "4            0                2        70.70                            1   \n",
       "\n",
       "   VariasLinhasTelefonicas_SemServicoTelefonico  VariasLinhasTelefonicas_Sim  \\\n",
       "0                                             1                            0   \n",
       "1                                             0                            0   \n",
       "2                                             0                            0   \n",
       "3                                             1                            0   \n",
       "4                                             0                            0   \n",
       "\n",
       "   ServicoDeInternet_DSL  ServicoDeInternet_FibraOptica  \\\n",
       "0                      1                              0   \n",
       "1                      1                              0   \n",
       "2                      1                              0   \n",
       "3                      1                              0   \n",
       "4                      0                              1   \n",
       "\n",
       "   ServicoDeInternet_Nao  SegurancaOnline_Nao  ...  StreamingDeFilmes_Nao  \\\n",
       "0                      0                    1  ...                      1   \n",
       "1                      0                    0  ...                      1   \n",
       "2                      0                    0  ...                      1   \n",
       "3                      0                    0  ...                      1   \n",
       "4                      0                    1  ...                      1   \n",
       "\n",
       "   StreamingDeFilmes_SemServicoDeInternet  StreamingDeFilmes_Sim  \\\n",
       "0                                       0                      0   \n",
       "1                                       0                      0   \n",
       "2                                       0                      0   \n",
       "3                                       0                      0   \n",
       "4                                       0                      0   \n",
       "\n",
       "   TipoDeContrato_DoisAnos  TipoDeContrato_Mensalmente  TipoDeContrato_UmAno  \\\n",
       "0                        0                           1                     0   \n",
       "1                        0                           0                     1   \n",
       "2                        0                           1                     0   \n",
       "3                        0                           0                     1   \n",
       "4                        0                           1                     0   \n",
       "\n",
       "   FormaDePagamento_CartaoDeCredito  FormaDePagamento_ChequeDigital  \\\n",
       "0                                 0                               1   \n",
       "1                                 0                               0   \n",
       "2                                 0                               0   \n",
       "3                                 0                               0   \n",
       "4                                 0                               1   \n",
       "\n",
       "   FormaDePagamento_ChequePapel  FormaDePagamento_DebitoEmConta  \n",
       "0                             0                               0  \n",
       "1                             1                               0  \n",
       "2                             1                               0  \n",
       "3                             0                               1  \n",
       "4                             0                               0  \n",
       "\n",
       "[5 rows x 34 columns]"
      ]
     },
     "execution_count": 7,
     "metadata": {},
     "output_type": "execute_result"
    }
   ],
   "source": [
    "# Transformação pelo get_dummies\n",
    "\n",
    "# utilizando a função get_dummies\n",
    "# retiramos as colunas 'Conjuge', 'Dependentes', 'TelefoneFixo','PagamentoOnline', 'Churn' porque elas ja foram modificadas\n",
    "\n",
    "dummies_dados = pd.get_dummies(dados.drop(['Conjuge', 'Dependentes', 'TelefoneFixo','PagamentoOnline', 'Churn'], axis = 1))\n",
    "dummies_dados.head()"
   ]
  },
  {
   "cell_type": "code",
   "execution_count": 8,
   "id": "d228493c",
   "metadata": {},
   "outputs": [],
   "source": [
    "# junção dos dados transformados com os que já tinhamos \n",
    "dados_final = pd.concat([dadosmodificados, dummies_dados], axis = 1)"
   ]
  },
  {
   "cell_type": "code",
   "execution_count": 9,
   "id": "cdc07a2e",
   "metadata": {},
   "outputs": [
    {
     "data": {
      "text/html": [
       "<div>\n",
       "<style scoped>\n",
       "    .dataframe tbody tr th:only-of-type {\n",
       "        vertical-align: middle;\n",
       "    }\n",
       "\n",
       "    .dataframe tbody tr th {\n",
       "        vertical-align: top;\n",
       "    }\n",
       "\n",
       "    .dataframe thead th {\n",
       "        text-align: right;\n",
       "    }\n",
       "</style>\n",
       "<table border=\"1\" class=\"dataframe\">\n",
       "  <thead>\n",
       "    <tr style=\"text-align: right;\">\n",
       "      <th></th>\n",
       "      <th>Conjuge</th>\n",
       "      <th>Dependentes</th>\n",
       "      <th>TelefoneFixo</th>\n",
       "      <th>PagamentoOnline</th>\n",
       "      <th>Churn</th>\n",
       "      <th>Maior65Anos</th>\n",
       "      <th>MesesDeContrato</th>\n",
       "      <th>ContaMensal</th>\n",
       "      <th>VariasLinhasTelefonicas_Nao</th>\n",
       "      <th>VariasLinhasTelefonicas_SemServicoTelefonico</th>\n",
       "      <th>...</th>\n",
       "      <th>StreamingDeFilmes_Nao</th>\n",
       "      <th>StreamingDeFilmes_SemServicoDeInternet</th>\n",
       "      <th>StreamingDeFilmes_Sim</th>\n",
       "      <th>TipoDeContrato_DoisAnos</th>\n",
       "      <th>TipoDeContrato_Mensalmente</th>\n",
       "      <th>TipoDeContrato_UmAno</th>\n",
       "      <th>FormaDePagamento_CartaoDeCredito</th>\n",
       "      <th>FormaDePagamento_ChequeDigital</th>\n",
       "      <th>FormaDePagamento_ChequePapel</th>\n",
       "      <th>FormaDePagamento_DebitoEmConta</th>\n",
       "    </tr>\n",
       "  </thead>\n",
       "  <tbody>\n",
       "    <tr>\n",
       "      <th>0</th>\n",
       "      <td>1</td>\n",
       "      <td>0</td>\n",
       "      <td>0</td>\n",
       "      <td>1</td>\n",
       "      <td>0</td>\n",
       "      <td>0</td>\n",
       "      <td>1</td>\n",
       "      <td>29.85</td>\n",
       "      <td>0</td>\n",
       "      <td>1</td>\n",
       "      <td>...</td>\n",
       "      <td>1</td>\n",
       "      <td>0</td>\n",
       "      <td>0</td>\n",
       "      <td>0</td>\n",
       "      <td>1</td>\n",
       "      <td>0</td>\n",
       "      <td>0</td>\n",
       "      <td>1</td>\n",
       "      <td>0</td>\n",
       "      <td>0</td>\n",
       "    </tr>\n",
       "    <tr>\n",
       "      <th>1</th>\n",
       "      <td>0</td>\n",
       "      <td>0</td>\n",
       "      <td>1</td>\n",
       "      <td>0</td>\n",
       "      <td>0</td>\n",
       "      <td>0</td>\n",
       "      <td>34</td>\n",
       "      <td>56.95</td>\n",
       "      <td>1</td>\n",
       "      <td>0</td>\n",
       "      <td>...</td>\n",
       "      <td>1</td>\n",
       "      <td>0</td>\n",
       "      <td>0</td>\n",
       "      <td>0</td>\n",
       "      <td>0</td>\n",
       "      <td>1</td>\n",
       "      <td>0</td>\n",
       "      <td>0</td>\n",
       "      <td>1</td>\n",
       "      <td>0</td>\n",
       "    </tr>\n",
       "    <tr>\n",
       "      <th>2</th>\n",
       "      <td>0</td>\n",
       "      <td>0</td>\n",
       "      <td>1</td>\n",
       "      <td>1</td>\n",
       "      <td>1</td>\n",
       "      <td>0</td>\n",
       "      <td>2</td>\n",
       "      <td>53.85</td>\n",
       "      <td>1</td>\n",
       "      <td>0</td>\n",
       "      <td>...</td>\n",
       "      <td>1</td>\n",
       "      <td>0</td>\n",
       "      <td>0</td>\n",
       "      <td>0</td>\n",
       "      <td>1</td>\n",
       "      <td>0</td>\n",
       "      <td>0</td>\n",
       "      <td>0</td>\n",
       "      <td>1</td>\n",
       "      <td>0</td>\n",
       "    </tr>\n",
       "    <tr>\n",
       "      <th>3</th>\n",
       "      <td>0</td>\n",
       "      <td>0</td>\n",
       "      <td>0</td>\n",
       "      <td>0</td>\n",
       "      <td>0</td>\n",
       "      <td>0</td>\n",
       "      <td>45</td>\n",
       "      <td>42.30</td>\n",
       "      <td>0</td>\n",
       "      <td>1</td>\n",
       "      <td>...</td>\n",
       "      <td>1</td>\n",
       "      <td>0</td>\n",
       "      <td>0</td>\n",
       "      <td>0</td>\n",
       "      <td>0</td>\n",
       "      <td>1</td>\n",
       "      <td>0</td>\n",
       "      <td>0</td>\n",
       "      <td>0</td>\n",
       "      <td>1</td>\n",
       "    </tr>\n",
       "    <tr>\n",
       "      <th>4</th>\n",
       "      <td>0</td>\n",
       "      <td>0</td>\n",
       "      <td>1</td>\n",
       "      <td>1</td>\n",
       "      <td>1</td>\n",
       "      <td>0</td>\n",
       "      <td>2</td>\n",
       "      <td>70.70</td>\n",
       "      <td>1</td>\n",
       "      <td>0</td>\n",
       "      <td>...</td>\n",
       "      <td>1</td>\n",
       "      <td>0</td>\n",
       "      <td>0</td>\n",
       "      <td>0</td>\n",
       "      <td>1</td>\n",
       "      <td>0</td>\n",
       "      <td>0</td>\n",
       "      <td>1</td>\n",
       "      <td>0</td>\n",
       "      <td>0</td>\n",
       "    </tr>\n",
       "  </tbody>\n",
       "</table>\n",
       "<p>5 rows × 39 columns</p>\n",
       "</div>"
      ],
      "text/plain": [
       "   Conjuge  Dependentes  TelefoneFixo  PagamentoOnline  Churn  Maior65Anos  \\\n",
       "0        1            0             0                1      0            0   \n",
       "1        0            0             1                0      0            0   \n",
       "2        0            0             1                1      1            0   \n",
       "3        0            0             0                0      0            0   \n",
       "4        0            0             1                1      1            0   \n",
       "\n",
       "   MesesDeContrato  ContaMensal  VariasLinhasTelefonicas_Nao  \\\n",
       "0                1        29.85                            0   \n",
       "1               34        56.95                            1   \n",
       "2                2        53.85                            1   \n",
       "3               45        42.30                            0   \n",
       "4                2        70.70                            1   \n",
       "\n",
       "   VariasLinhasTelefonicas_SemServicoTelefonico  ...  StreamingDeFilmes_Nao  \\\n",
       "0                                             1  ...                      1   \n",
       "1                                             0  ...                      1   \n",
       "2                                             0  ...                      1   \n",
       "3                                             1  ...                      1   \n",
       "4                                             0  ...                      1   \n",
       "\n",
       "   StreamingDeFilmes_SemServicoDeInternet  StreamingDeFilmes_Sim  \\\n",
       "0                                       0                      0   \n",
       "1                                       0                      0   \n",
       "2                                       0                      0   \n",
       "3                                       0                      0   \n",
       "4                                       0                      0   \n",
       "\n",
       "   TipoDeContrato_DoisAnos  TipoDeContrato_Mensalmente  TipoDeContrato_UmAno  \\\n",
       "0                        0                           1                     0   \n",
       "1                        0                           0                     1   \n",
       "2                        0                           1                     0   \n",
       "3                        0                           0                     1   \n",
       "4                        0                           1                     0   \n",
       "\n",
       "   FormaDePagamento_CartaoDeCredito  FormaDePagamento_ChequeDigital  \\\n",
       "0                                 0                               1   \n",
       "1                                 0                               0   \n",
       "2                                 0                               0   \n",
       "3                                 0                               0   \n",
       "4                                 0                               1   \n",
       "\n",
       "   FormaDePagamento_ChequePapel  FormaDePagamento_DebitoEmConta  \n",
       "0                             0                               0  \n",
       "1                             1                               0  \n",
       "2                             1                               0  \n",
       "3                             0                               1  \n",
       "4                             0                               0  \n",
       "\n",
       "[5 rows x 39 columns]"
      ]
     },
     "execution_count": 9,
     "metadata": {},
     "output_type": "execute_result"
    }
   ],
   "source": [
    "# deve ter 39 colunas pois é dadosmodificados + dummies_dados\n",
    "dados_final.head()"
   ]
  },
  {
   "cell_type": "code",
   "execution_count": 10,
   "id": "5067a58f",
   "metadata": {},
   "outputs": [
    {
     "data": {
      "text/plain": [
       "Index(['Conjuge', 'Dependentes', 'TelefoneFixo', 'PagamentoOnline', 'Churn',\n",
       "       'Maior65Anos', 'MesesDeContrato', 'ContaMensal',\n",
       "       'VariasLinhasTelefonicas_Nao',\n",
       "       'VariasLinhasTelefonicas_SemServicoTelefonico',\n",
       "       'VariasLinhasTelefonicas_Sim', 'ServicoDeInternet_DSL',\n",
       "       'ServicoDeInternet_FibraOptica', 'ServicoDeInternet_Nao',\n",
       "       'SegurancaOnline_Nao', 'SegurancaOnline_SemServicoDeInternet',\n",
       "       'SegurancaOnline_Sim', 'BackupOnline_Nao',\n",
       "       'BackupOnline_SemServicoDeInternet', 'BackupOnline_Sim',\n",
       "       'SeguroNoDispositivo_Nao', 'SeguroNoDispositivo_SemServicoDeInternet',\n",
       "       'SeguroNoDispositivo_Sim', 'SuporteTecnico_Nao',\n",
       "       'SuporteTecnico_SemServicoDeInternet', 'SuporteTecnico_Sim',\n",
       "       'TVaCabo_Nao', 'TVaCabo_SemServicoDeInternet', 'TVaCabo_Sim',\n",
       "       'StreamingDeFilmes_Nao', 'StreamingDeFilmes_SemServicoDeInternet',\n",
       "       'StreamingDeFilmes_Sim', 'TipoDeContrato_DoisAnos',\n",
       "       'TipoDeContrato_Mensalmente', 'TipoDeContrato_UmAno',\n",
       "       'FormaDePagamento_CartaoDeCredito', 'FormaDePagamento_ChequeDigital',\n",
       "       'FormaDePagamento_ChequePapel', 'FormaDePagamento_DebitoEmConta'],\n",
       "      dtype='object')"
      ]
     },
     "execution_count": 10,
     "metadata": {},
     "output_type": "execute_result"
    }
   ],
   "source": [
    "dados_final.columns"
   ]
  },
  {
   "cell_type": "markdown",
   "id": "52932939",
   "metadata": {},
   "source": [
    "## 1.4 Definição informal "
   ]
  },
  {
   "cell_type": "markdown",
   "id": "6185bfa9",
   "metadata": {},
   "source": [
    "(slides)"
   ]
  },
  {
   "cell_type": "markdown",
   "id": "61516172",
   "metadata": {},
   "source": [
    "##  1.5 Definição Formal"
   ]
  },
  {
   "cell_type": "markdown",
   "id": "da24f20f",
   "metadata": {},
   "source": [
    "Informações para classificação\n",
    "\n",
    "<b>X</b> = inputs (dados de entrada)<br>\n",
    "<b>y</b> = outputs (dados de saída)"
   ]
  },
  {
   "cell_type": "code",
   "execution_count": 11,
   "id": "77d1fee3",
   "metadata": {},
   "outputs": [],
   "source": [
    "# Dica : para ver as colunas inteiras\n",
    "pd.set_option('display.max_columns', 39)"
   ]
  },
  {
   "cell_type": "code",
   "execution_count": 12,
   "id": "09d00a9d",
   "metadata": {},
   "outputs": [
    {
     "data": {
      "text/html": [
       "<div>\n",
       "<style scoped>\n",
       "    .dataframe tbody tr th:only-of-type {\n",
       "        vertical-align: middle;\n",
       "    }\n",
       "\n",
       "    .dataframe tbody tr th {\n",
       "        vertical-align: top;\n",
       "    }\n",
       "\n",
       "    .dataframe thead th {\n",
       "        text-align: right;\n",
       "    }\n",
       "</style>\n",
       "<table border=\"1\" class=\"dataframe\">\n",
       "  <thead>\n",
       "    <tr style=\"text-align: right;\">\n",
       "      <th></th>\n",
       "      <th>Conjuge</th>\n",
       "      <th>Dependentes</th>\n",
       "      <th>TelefoneFixo</th>\n",
       "      <th>PagamentoOnline</th>\n",
       "      <th>Churn</th>\n",
       "      <th>Maior65Anos</th>\n",
       "      <th>MesesDeContrato</th>\n",
       "      <th>ContaMensal</th>\n",
       "      <th>VariasLinhasTelefonicas_Nao</th>\n",
       "      <th>VariasLinhasTelefonicas_SemServicoTelefonico</th>\n",
       "      <th>VariasLinhasTelefonicas_Sim</th>\n",
       "      <th>ServicoDeInternet_DSL</th>\n",
       "      <th>ServicoDeInternet_FibraOptica</th>\n",
       "      <th>ServicoDeInternet_Nao</th>\n",
       "      <th>SegurancaOnline_Nao</th>\n",
       "      <th>SegurancaOnline_SemServicoDeInternet</th>\n",
       "      <th>SegurancaOnline_Sim</th>\n",
       "      <th>BackupOnline_Nao</th>\n",
       "      <th>BackupOnline_SemServicoDeInternet</th>\n",
       "      <th>BackupOnline_Sim</th>\n",
       "      <th>SeguroNoDispositivo_Nao</th>\n",
       "      <th>SeguroNoDispositivo_SemServicoDeInternet</th>\n",
       "      <th>SeguroNoDispositivo_Sim</th>\n",
       "      <th>SuporteTecnico_Nao</th>\n",
       "      <th>SuporteTecnico_SemServicoDeInternet</th>\n",
       "      <th>SuporteTecnico_Sim</th>\n",
       "      <th>TVaCabo_Nao</th>\n",
       "      <th>TVaCabo_SemServicoDeInternet</th>\n",
       "      <th>TVaCabo_Sim</th>\n",
       "      <th>StreamingDeFilmes_Nao</th>\n",
       "      <th>StreamingDeFilmes_SemServicoDeInternet</th>\n",
       "      <th>StreamingDeFilmes_Sim</th>\n",
       "      <th>TipoDeContrato_DoisAnos</th>\n",
       "      <th>TipoDeContrato_Mensalmente</th>\n",
       "      <th>TipoDeContrato_UmAno</th>\n",
       "      <th>FormaDePagamento_CartaoDeCredito</th>\n",
       "      <th>FormaDePagamento_ChequeDigital</th>\n",
       "      <th>FormaDePagamento_ChequePapel</th>\n",
       "      <th>FormaDePagamento_DebitoEmConta</th>\n",
       "    </tr>\n",
       "  </thead>\n",
       "  <tbody>\n",
       "    <tr>\n",
       "      <th>0</th>\n",
       "      <td>1</td>\n",
       "      <td>0</td>\n",
       "      <td>0</td>\n",
       "      <td>1</td>\n",
       "      <td>0</td>\n",
       "      <td>0</td>\n",
       "      <td>1</td>\n",
       "      <td>29.85</td>\n",
       "      <td>0</td>\n",
       "      <td>1</td>\n",
       "      <td>0</td>\n",
       "      <td>1</td>\n",
       "      <td>0</td>\n",
       "      <td>0</td>\n",
       "      <td>1</td>\n",
       "      <td>0</td>\n",
       "      <td>0</td>\n",
       "      <td>0</td>\n",
       "      <td>0</td>\n",
       "      <td>1</td>\n",
       "      <td>1</td>\n",
       "      <td>0</td>\n",
       "      <td>0</td>\n",
       "      <td>1</td>\n",
       "      <td>0</td>\n",
       "      <td>0</td>\n",
       "      <td>1</td>\n",
       "      <td>0</td>\n",
       "      <td>0</td>\n",
       "      <td>1</td>\n",
       "      <td>0</td>\n",
       "      <td>0</td>\n",
       "      <td>0</td>\n",
       "      <td>1</td>\n",
       "      <td>0</td>\n",
       "      <td>0</td>\n",
       "      <td>1</td>\n",
       "      <td>0</td>\n",
       "      <td>0</td>\n",
       "    </tr>\n",
       "    <tr>\n",
       "      <th>1</th>\n",
       "      <td>0</td>\n",
       "      <td>0</td>\n",
       "      <td>1</td>\n",
       "      <td>0</td>\n",
       "      <td>0</td>\n",
       "      <td>0</td>\n",
       "      <td>34</td>\n",
       "      <td>56.95</td>\n",
       "      <td>1</td>\n",
       "      <td>0</td>\n",
       "      <td>0</td>\n",
       "      <td>1</td>\n",
       "      <td>0</td>\n",
       "      <td>0</td>\n",
       "      <td>0</td>\n",
       "      <td>0</td>\n",
       "      <td>1</td>\n",
       "      <td>1</td>\n",
       "      <td>0</td>\n",
       "      <td>0</td>\n",
       "      <td>0</td>\n",
       "      <td>0</td>\n",
       "      <td>1</td>\n",
       "      <td>1</td>\n",
       "      <td>0</td>\n",
       "      <td>0</td>\n",
       "      <td>1</td>\n",
       "      <td>0</td>\n",
       "      <td>0</td>\n",
       "      <td>1</td>\n",
       "      <td>0</td>\n",
       "      <td>0</td>\n",
       "      <td>0</td>\n",
       "      <td>0</td>\n",
       "      <td>1</td>\n",
       "      <td>0</td>\n",
       "      <td>0</td>\n",
       "      <td>1</td>\n",
       "      <td>0</td>\n",
       "    </tr>\n",
       "    <tr>\n",
       "      <th>2</th>\n",
       "      <td>0</td>\n",
       "      <td>0</td>\n",
       "      <td>1</td>\n",
       "      <td>1</td>\n",
       "      <td>1</td>\n",
       "      <td>0</td>\n",
       "      <td>2</td>\n",
       "      <td>53.85</td>\n",
       "      <td>1</td>\n",
       "      <td>0</td>\n",
       "      <td>0</td>\n",
       "      <td>1</td>\n",
       "      <td>0</td>\n",
       "      <td>0</td>\n",
       "      <td>0</td>\n",
       "      <td>0</td>\n",
       "      <td>1</td>\n",
       "      <td>0</td>\n",
       "      <td>0</td>\n",
       "      <td>1</td>\n",
       "      <td>1</td>\n",
       "      <td>0</td>\n",
       "      <td>0</td>\n",
       "      <td>1</td>\n",
       "      <td>0</td>\n",
       "      <td>0</td>\n",
       "      <td>1</td>\n",
       "      <td>0</td>\n",
       "      <td>0</td>\n",
       "      <td>1</td>\n",
       "      <td>0</td>\n",
       "      <td>0</td>\n",
       "      <td>0</td>\n",
       "      <td>1</td>\n",
       "      <td>0</td>\n",
       "      <td>0</td>\n",
       "      <td>0</td>\n",
       "      <td>1</td>\n",
       "      <td>0</td>\n",
       "    </tr>\n",
       "    <tr>\n",
       "      <th>3</th>\n",
       "      <td>0</td>\n",
       "      <td>0</td>\n",
       "      <td>0</td>\n",
       "      <td>0</td>\n",
       "      <td>0</td>\n",
       "      <td>0</td>\n",
       "      <td>45</td>\n",
       "      <td>42.30</td>\n",
       "      <td>0</td>\n",
       "      <td>1</td>\n",
       "      <td>0</td>\n",
       "      <td>1</td>\n",
       "      <td>0</td>\n",
       "      <td>0</td>\n",
       "      <td>0</td>\n",
       "      <td>0</td>\n",
       "      <td>1</td>\n",
       "      <td>1</td>\n",
       "      <td>0</td>\n",
       "      <td>0</td>\n",
       "      <td>0</td>\n",
       "      <td>0</td>\n",
       "      <td>1</td>\n",
       "      <td>0</td>\n",
       "      <td>0</td>\n",
       "      <td>1</td>\n",
       "      <td>1</td>\n",
       "      <td>0</td>\n",
       "      <td>0</td>\n",
       "      <td>1</td>\n",
       "      <td>0</td>\n",
       "      <td>0</td>\n",
       "      <td>0</td>\n",
       "      <td>0</td>\n",
       "      <td>1</td>\n",
       "      <td>0</td>\n",
       "      <td>0</td>\n",
       "      <td>0</td>\n",
       "      <td>1</td>\n",
       "    </tr>\n",
       "    <tr>\n",
       "      <th>4</th>\n",
       "      <td>0</td>\n",
       "      <td>0</td>\n",
       "      <td>1</td>\n",
       "      <td>1</td>\n",
       "      <td>1</td>\n",
       "      <td>0</td>\n",
       "      <td>2</td>\n",
       "      <td>70.70</td>\n",
       "      <td>1</td>\n",
       "      <td>0</td>\n",
       "      <td>0</td>\n",
       "      <td>0</td>\n",
       "      <td>1</td>\n",
       "      <td>0</td>\n",
       "      <td>1</td>\n",
       "      <td>0</td>\n",
       "      <td>0</td>\n",
       "      <td>1</td>\n",
       "      <td>0</td>\n",
       "      <td>0</td>\n",
       "      <td>1</td>\n",
       "      <td>0</td>\n",
       "      <td>0</td>\n",
       "      <td>1</td>\n",
       "      <td>0</td>\n",
       "      <td>0</td>\n",
       "      <td>1</td>\n",
       "      <td>0</td>\n",
       "      <td>0</td>\n",
       "      <td>1</td>\n",
       "      <td>0</td>\n",
       "      <td>0</td>\n",
       "      <td>0</td>\n",
       "      <td>1</td>\n",
       "      <td>0</td>\n",
       "      <td>0</td>\n",
       "      <td>1</td>\n",
       "      <td>0</td>\n",
       "      <td>0</td>\n",
       "    </tr>\n",
       "  </tbody>\n",
       "</table>\n",
       "</div>"
      ],
      "text/plain": [
       "   Conjuge  Dependentes  TelefoneFixo  PagamentoOnline  Churn  Maior65Anos  \\\n",
       "0        1            0             0                1      0            0   \n",
       "1        0            0             1                0      0            0   \n",
       "2        0            0             1                1      1            0   \n",
       "3        0            0             0                0      0            0   \n",
       "4        0            0             1                1      1            0   \n",
       "\n",
       "   MesesDeContrato  ContaMensal  VariasLinhasTelefonicas_Nao  \\\n",
       "0                1        29.85                            0   \n",
       "1               34        56.95                            1   \n",
       "2                2        53.85                            1   \n",
       "3               45        42.30                            0   \n",
       "4                2        70.70                            1   \n",
       "\n",
       "   VariasLinhasTelefonicas_SemServicoTelefonico  VariasLinhasTelefonicas_Sim  \\\n",
       "0                                             1                            0   \n",
       "1                                             0                            0   \n",
       "2                                             0                            0   \n",
       "3                                             1                            0   \n",
       "4                                             0                            0   \n",
       "\n",
       "   ServicoDeInternet_DSL  ServicoDeInternet_FibraOptica  \\\n",
       "0                      1                              0   \n",
       "1                      1                              0   \n",
       "2                      1                              0   \n",
       "3                      1                              0   \n",
       "4                      0                              1   \n",
       "\n",
       "   ServicoDeInternet_Nao  SegurancaOnline_Nao  \\\n",
       "0                      0                    1   \n",
       "1                      0                    0   \n",
       "2                      0                    0   \n",
       "3                      0                    0   \n",
       "4                      0                    1   \n",
       "\n",
       "   SegurancaOnline_SemServicoDeInternet  SegurancaOnline_Sim  \\\n",
       "0                                     0                    0   \n",
       "1                                     0                    1   \n",
       "2                                     0                    1   \n",
       "3                                     0                    1   \n",
       "4                                     0                    0   \n",
       "\n",
       "   BackupOnline_Nao  BackupOnline_SemServicoDeInternet  BackupOnline_Sim  \\\n",
       "0                 0                                  0                 1   \n",
       "1                 1                                  0                 0   \n",
       "2                 0                                  0                 1   \n",
       "3                 1                                  0                 0   \n",
       "4                 1                                  0                 0   \n",
       "\n",
       "   SeguroNoDispositivo_Nao  SeguroNoDispositivo_SemServicoDeInternet  \\\n",
       "0                        1                                         0   \n",
       "1                        0                                         0   \n",
       "2                        1                                         0   \n",
       "3                        0                                         0   \n",
       "4                        1                                         0   \n",
       "\n",
       "   SeguroNoDispositivo_Sim  SuporteTecnico_Nao  \\\n",
       "0                        0                   1   \n",
       "1                        1                   1   \n",
       "2                        0                   1   \n",
       "3                        1                   0   \n",
       "4                        0                   1   \n",
       "\n",
       "   SuporteTecnico_SemServicoDeInternet  SuporteTecnico_Sim  TVaCabo_Nao  \\\n",
       "0                                    0                   0            1   \n",
       "1                                    0                   0            1   \n",
       "2                                    0                   0            1   \n",
       "3                                    0                   1            1   \n",
       "4                                    0                   0            1   \n",
       "\n",
       "   TVaCabo_SemServicoDeInternet  TVaCabo_Sim  StreamingDeFilmes_Nao  \\\n",
       "0                             0            0                      1   \n",
       "1                             0            0                      1   \n",
       "2                             0            0                      1   \n",
       "3                             0            0                      1   \n",
       "4                             0            0                      1   \n",
       "\n",
       "   StreamingDeFilmes_SemServicoDeInternet  StreamingDeFilmes_Sim  \\\n",
       "0                                       0                      0   \n",
       "1                                       0                      0   \n",
       "2                                       0                      0   \n",
       "3                                       0                      0   \n",
       "4                                       0                      0   \n",
       "\n",
       "   TipoDeContrato_DoisAnos  TipoDeContrato_Mensalmente  TipoDeContrato_UmAno  \\\n",
       "0                        0                           1                     0   \n",
       "1                        0                           0                     1   \n",
       "2                        0                           1                     0   \n",
       "3                        0                           0                     1   \n",
       "4                        0                           1                     0   \n",
       "\n",
       "   FormaDePagamento_CartaoDeCredito  FormaDePagamento_ChequeDigital  \\\n",
       "0                                 0                               1   \n",
       "1                                 0                               0   \n",
       "2                                 0                               0   \n",
       "3                                 0                               0   \n",
       "4                                 0                               1   \n",
       "\n",
       "   FormaDePagamento_ChequePapel  FormaDePagamento_DebitoEmConta  \n",
       "0                             0                               0  \n",
       "1                             1                               0  \n",
       "2                             1                               0  \n",
       "3                             0                               1  \n",
       "4                             0                               0  "
      ]
     },
     "execution_count": 12,
     "metadata": {},
     "output_type": "execute_result"
    }
   ],
   "source": [
    "dados_final.head()"
   ]
  },
  {
   "cell_type": "markdown",
   "id": "53e5cd42",
   "metadata": {},
   "source": [
    "y_i = f(x_i)"
   ]
  },
  {
   "cell_type": "code",
   "execution_count": 13,
   "id": "5a1bbc8d",
   "metadata": {},
   "outputs": [],
   "source": [
    "Xmaria = [[0,0,1,1,0,0,39.90,1,0,0,0,1,0,1,0,0,0,0,1,1,1,0,0,1,0,1,0,0,0,0,1,0,0,1,0,0,0,1]]"
   ]
  },
  {
   "cell_type": "markdown",
   "id": "5924f606",
   "metadata": {},
   "source": [
    "<p style='font-size: 20px; line-height: 2; margin: 10px 50px; text-align: justify; color = red;'>A maquina vai aprender atráves dos outros dados apresentados dos outros clientes, a partir do X da maria."
   ]
  },
  {
   "cell_type": "markdown",
   "id": "4cc14d2d",
   "metadata": {},
   "source": [
    "<p style='font-size: 20px; line-height: 2; margin: 10px 50px; text-align: justify; color:red;'><b>Classificação</b><br>\n",
    "<p style='font-size: 18px; line-height: 2; margin: 10px 50px; text-align: justify;'>Quando precisamos prever a qual categoria pertence uma determinada amostra, trata-se de um problema de classificação. Alguns exemplos que podemos citar são:\n",
    "\n",
    "<p style='font-size: 18px; line-height: 2; margin: 10px 50px; text-align: justify;'>Prever se um(a) determinado(a) paciente está com Covid.\n",
    "<p style='font-size: 18px; line-height: 2; margin: 10px 50px; text-align: justify;'>Se um(a) cliente está propenso(a) a desistir da compra.\n",
    "<p style='font-size: 18px; line-height: 2; margin: 10px 50px; text-align: justify;'>Se algum(a) usuário(a) web está propenso(a) a clicar em um anúncio.\n",
    "<p style='font-size: 18px; line-height: 2; margin: 10px 50px; text-align: justify;'>Nesses casos mencionados, a previsão se concentra em 0 ou 1 (Covid/não Covid, desistir/não desistir, clicar/não clicar) que é denominada de classificação binária, na qual existem somente duas classes. Há também casos em que a classificação se dá com mais duas classes, chamada de classificação multiclasse, como a filtragem dos e-mails em “principal”, “social”, “promoções”, “importantes” ou “fóruns”.\n",
    "\n",
    "<p style='font-size: 18px; line-height: 2; margin: 10px 50px; text-align: justify;'>Entre os algoritmos de classificação podemos citar:\n",
    "\n",
    "<li style='font-size: 18px; line-height: 2; margin: 10px 50px; text-align: justify;'> K-Nearest Neighbors (KNN) </li>\n",
    "<li style='font-size: 18px; line-height: 2; margin: 10px 50px; text-align: justify;'> Support Vector Machine (SVM)</li>\n",
    "<li style='font-size: 18px; line-height: 2; margin: 10px 50px; text-align: justify;'> Decision Tree Classifier</li>\n",
    "<li style='font-size: 18px; line-height: 2; margin: 10px 50px; text-align: justify;'> Random Forest Classifier</li>\n",
    "    \n",
    "    \n",
    "<p style='font-size: 20px; line-height: 2; margin: 10px 50px; text-align: justify; color:red;'><b>Regressão</b>\n",
    "<p style='font-size: 18px; line-height: 2; margin: 10px 50px; text-align: justify;'>Quando precisamos prever um valor numérico <p style='font-size: 18px; line-height: 2; margin: 10px 50px; text-align: justify;'>específico, isso indica que estamos lidando com um problema de regressão. Alguns exemplos desses problemas estão relacionados à previsão de:\n",
    "\n",
    "<li style='font-size: 18px; line-height: 2; margin: 10px 50px; text-align: justify;'>preços/custos futuros; </li>\n",
    "<li style='font-size: 18px; line-height: 2; margin: 10px 50px; text-align: justify;'>estoque; </li>\n",
    "<li style='font-size: 18px; line-height: 2; margin: 10px 50px; text-align: justify;'>receita futura. </li>\n",
    "<p style='font-size: 18px; line-height: 2; margin: 10px 50px; text-align: justify;'>Nessas situações, podemos utilizar algum modelo de regressão para realizar essas previsões e apresentar como resposta algum valor contínuo relacionado ao problema. Existem diferentes tipos de algoritmos de machine learning utilizados para resolver esse tipo de problema:\n",
    "\n",
    "<li style='font-size: 18px; line-height: 2; margin: 10px 50px; text-align: justify;'> Linear Regression;</li>\n",
    "<li style='font-size: 18px; line-height: 2; margin: 10px 50px; text-align: justify;'> Random Forest Regressor;</li>\n",
    "<li style='font-size: 18px; line-height: 2; margin: 10px 50px; text-align: justify;'> Support Vector Regression (SVR).</li>\n",
    "<p style='font-size: 18px; line-height: 2; margin: 10px 50px; text-align: justify;'>Caso queira aprofundar e conhecer mais sobre algoritmos de regressão, deixamos aqui a indicação de dois cursos que abordam esse assunto:\n",
    "\n",
    "<li style='font-size: 18px; line-height: 2; margin: 10px 50px; text-align: justify;'>Regressão Linear: Testando Relações e Prevendo Resultados;</li>\n",
    "<li style='font-size: 18px; line-height: 2; margin: 10px 50px; text-align: justify;'>Regressão Linear: Técnicas Avançadas de Modelagem.</li>"
   ]
  },
  {
   "cell_type": "markdown",
   "id": "b8a6c70b",
   "metadata": {},
   "source": [
    "<p style='font-size: 20px; line-height: 2; margin: 10px 50px; text-align: justify;'> <b>K-Nearest Neighbors (KNN)</b> </p>\n",
    "<p style='font-size: 18px; line-height: 2; margin: 10px 50px; text-align: justify;'> Algoritmo de machine learning supervisionado. Pode ser usado para feramentas de classificação e regressão.\n",
    "<p style='font-size: 18px; line-height: 2; margin: 10px 50px; text-align: justify;'>    O k-nearest neighbors (KNN) é um algoritmo de machine learning que pode ser utilizado para classificação. Para se chegar à previsão final, o KNN segue alguns passos em uma ordem específica.\n",
    "    <li style='font-size: 18px; line-height: 2; margin: 10px 50px; text-align: justify;'> Recebe as informações </li>\n",
    "    <li style='font-size: 18px; line-height: 2; margin: 10px 50px; text-align: justify;'> Calcular as distâncias </li>\n",
    "    <li style='font-size: 18px; line-height: 2; margin: 10px 50px; text-align: justify;'>Ordenar da menor distância para a maior </li>\n",
    "    <li style='font-size: 18px; line-height: 2; margin: 10px 50px; text-align: justify;'>Classificar a particar de k-vizinhos </li>\n",
    "    <li style='font-size: 18px; line-height: 2; margin: 10px 50px; text-align: justify;'> Definir o churn.</li>\n",
    "        \n",
    "<p style='font-size: 18px; line-height: 2; margin: 10px 50px; text-align: justify;'> K muito pequeno  pode causar <b>overfitting</b>, e um K muito grande pode causar <b>Underfitting</b>, pois o número de classes será muito alto para ele conseguir identificar a classe correta de cada variável, de cada cliente. O <b>K</b> é muito importante para a classificação.</p>"
   ]
  },
  {
   "cell_type": "code",
   "execution_count": 14,
   "id": "cd43874a",
   "metadata": {},
   "outputs": [
    {
     "data": {
      "image/png": "[encoded data removed]",
      "text/plain": [
       "<Figure size 432x288 with 1 Axes>"
      ]
     },
     "metadata": {
      "needs_background": "light"
     },
     "output_type": "display_data"
    }
   ],
   "source": [
    "import seaborn as sns\n",
    "# palette -> Accent, Accent_r, Blues, Blues_r, BrBG, BrBG_r, BuGn, BuGn_r, BuPu, BuPu_r, CMRmap, CMRmap_r, Dark2, Dark2_r, GnBu, GnBu_r, Greens, Greens_r, Greys, Greys_r, OrRd, OrRd_r, Oranges, Oranges_r, PRGn, PRGn_r, Paired, Paired_r, Pastel1, Pastel1_r, Pastel2, Pastel2_r, PiYG, PiYG_r, PuBu, PuBuGn, PuBuGn_r, PuBu_r, PuOr, PuOr_r, PuRd, PuRd_r, Purples, Purples_r, RdBu, RdBu_r, RdGy, RdGy_r, RdPu, RdPu_r, RdYlBu, RdYlBu_r, RdYlGn, RdYlGn_r, Reds, Reds_r, Set1, Set1_r, Set2, Set2_r, Set3, Set3_r, Spectral, Spectral_r, Wistia, Wistia_r, YlGn, YlGnBu, YlGnBu_r, YlGn_r, YlOrBr, YlOrBr_r, YlOrRd, YlOrRd_r, afmhot, afmhot_r, autumn, autumn_r, binary, binary_r, bone, bone_r, brg, brg_r, bwr, bwr_r, cividis, cividis_r, cool, cool_r, coolwarm, coolwarm_r, copper, copper_r, cubehelix, cubehelix_r, flag, flag_r, gist_earth, gist_earth_r, gist_gray, gist_gray_r, gist_heat, gist_heat_r, gist_ncar, gist_ncar_r, gist_rainbow, gist_rainbow_r, gist_stern, gist_stern_r, gist_yarg, gist_yarg_r, gnuplot, gnuplot2, gnuplot2_r, gnuplot_r, gray, gray_r, hot, hot_r, hsv, hsv_r, icefire, icefire_r, inferno, inferno_r, jet, jet_r, magma, magma_r, mako, mako_r, nipy_spectral, nipy_spectral_r, ocean, ocean_r, pink, pink_r, plasma, plasma_r, prism, prism_r, rainbow, rainbow_r, rocket, rocket_r, seismic, seismic_r, spring, spring_r, summer, summer_r, tab10, tab10_r, tab20, tab20_r, tab20b, tab20b_r, tab20c, tab20c_r, terrain, terrain_r, viridis, viridis_r, vlag, vlag_r, winter, winter_r\n",
    "\n",
    "sns.set_palette('Accent')\n",
    "\n",
    "# style -> white, dark, whitegrid, darkgrid, ticks\n",
    "\n",
    "sns.set_style('darkgrid')\n",
    "\n",
    "%matplotlib inline\n",
    "\n",
    "ax = sns.countplot(x='Churn', data=dados_final)"
   ]
  },
  {
   "cell_type": "markdown",
   "id": "fd870072",
   "metadata": {},
   "source": [
    "##  2.1 Modelo k-nearest neighbors(KNN)"
   ]
  },
  {
   "cell_type": "markdown",
   "id": "d729a6df",
   "metadata": {},
   "source": [
    "(slides)"
   ]
  },
  {
   "cell_type": "markdown",
   "id": "b3b8bf56",
   "metadata": {},
   "source": [
    "## 2.2 KNN por trás dos panos"
   ]
  },
  {
   "cell_type": "code",
   "execution_count": 15,
   "id": "ca43f0e1",
   "metadata": {},
   "outputs": [
    {
     "data": {
      "text/plain": [
       "[[0,\n",
       "  0,\n",
       "  1,\n",
       "  1,\n",
       "  0,\n",
       "  0,\n",
       "  39.9,\n",
       "  1,\n",
       "  0,\n",
       "  0,\n",
       "  0,\n",
       "  1,\n",
       "  0,\n",
       "  1,\n",
       "  0,\n",
       "  0,\n",
       "  0,\n",
       "  0,\n",
       "  1,\n",
       "  1,\n",
       "  1,\n",
       "  0,\n",
       "  0,\n",
       "  1,\n",
       "  0,\n",
       "  1,\n",
       "  0,\n",
       "  0,\n",
       "  0,\n",
       "  0,\n",
       "  1,\n",
       "  0,\n",
       "  0,\n",
       "  1,\n",
       "  0,\n",
       "  0,\n",
       "  0,\n",
       "  1]]"
      ]
     },
     "execution_count": 15,
     "metadata": {},
     "output_type": "execute_result"
    }
   ],
   "source": [
    "Xmaria"
   ]
  },
  {
   "cell_type": "code",
   "execution_count": 16,
   "id": "0b300446",
   "metadata": {},
   "outputs": [],
   "source": [
    "#ymaria = ?"
   ]
  },
  {
   "cell_type": "code",
   "execution_count": 17,
   "id": "e48cb475",
   "metadata": {},
   "outputs": [],
   "source": [
    "# Divisão de inputs e outputs\n",
    "\n",
    "X = dados_final.drop('Churn', axis = 1)\n",
    "y = dados_final['Churn']"
   ]
  },
  {
   "cell_type": "markdown",
   "id": "d8f37008",
   "metadata": {},
   "source": [
    "<p style='font-size: 18px; line-height: 2; margin: 10px 50px; text-align: justify;'>Importar a biblioteca para padronizar os dados.\n",
    "<p style='font-size: 18px; line-height: 2; margin: 10px 50px; text-align: justify;'>É importante padronizar os dados e deixá-los na mesma escala pois estamos fazendo uma métrica de distância."
   ]
  },
  {
   "cell_type": "code",
   "execution_count": 18,
   "id": "38543f06",
   "metadata": {},
   "outputs": [],
   "source": [
    "from sklearn.preprocessing import StandardScaler"
   ]
  },
  {
   "cell_type": "code",
   "execution_count": 19,
   "id": "9167ef69",
   "metadata": {},
   "outputs": [
    {
     "data": {
      "text/plain": [
       "array([[ 1.03453023, -0.65401193, -3.05401039, ...,  1.40641839,\n",
       "        -0.54480692, -0.5298852 ],\n",
       "       [-0.96662231, -0.65401193,  0.32743831, ..., -0.71102597,\n",
       "         1.83551265, -0.5298852 ],\n",
       "       [-0.96662231, -0.65401193,  0.32743831, ..., -0.71102597,\n",
       "         1.83551265, -0.5298852 ],\n",
       "       ...,\n",
       "       [ 1.03453023,  1.5290241 , -3.05401039, ...,  1.40641839,\n",
       "        -0.54480692, -0.5298852 ],\n",
       "       [ 1.03453023, -0.65401193,  0.32743831, ..., -0.71102597,\n",
       "         1.83551265, -0.5298852 ],\n",
       "       [-0.96662231, -0.65401193,  0.32743831, ..., -0.71102597,\n",
       "        -0.54480692,  1.88720123]])"
      ]
     },
     "execution_count": 19,
     "metadata": {},
     "output_type": "execute_result"
    }
   ],
   "source": [
    "norm = StandardScaler()\n",
    "\n",
    "X_normalizado = norm.fit_transform(X)\n",
    "X_normalizado\n",
    "\n",
    "# Os dados de todos os clientes foram normalizados"
   ]
  },
  {
   "cell_type": "code",
   "execution_count": 20,
   "id": "7c36fdc7",
   "metadata": {},
   "outputs": [
    {
     "data": {
      "text/plain": [
       "array([ 1.03453023, -0.65401193, -3.05401039,  0.8297975 , -0.43991649,\n",
       "       -1.27744458, -1.16032292, -0.96332984,  3.05401039, -0.85417615,\n",
       "        1.38171215, -0.88565976, -0.52592737,  1.00669571, -0.52592737,\n",
       "       -0.63393298, -0.88361972, -0.52592737,  1.3782406 ,  1.12942721,\n",
       "       -0.52592737, -0.72396752,  1.0138687 , -0.52592737, -0.63943864,\n",
       "        1.2273572 , -0.52592737, -0.79013171,  1.23648892, -0.52592737,\n",
       "       -0.79607014, -0.56297505,  0.90418382, -0.51424938, -0.52504733,\n",
       "        1.40641839, -0.54480692, -0.5298852 ])"
      ]
     },
     "execution_count": 20,
     "metadata": {},
     "output_type": "execute_result"
    }
   ],
   "source": [
    "X_normalizado[0]"
   ]
  },
  {
   "cell_type": "code",
   "execution_count": 21,
   "id": "fa575bde",
   "metadata": {},
   "outputs": [
    {
     "data": {
      "text/plain": [
       "array([[-0.96662231, -0.65401193,  0.32743831,  0.8297975 , -0.43991649,\n",
       "        -1.31816495, -0.82630172,  1.03806605, -0.32743831, -0.85417615,\n",
       "        -0.72373975,  1.12910177, -0.52592737,  1.00669571, -0.52592737,\n",
       "        -0.63393298, -0.88361972, -0.52592737,  1.3782406 ,  1.12942721,\n",
       "         1.90140322, -0.72396752, -0.98632101,  1.90140322, -0.63943864,\n",
       "         1.2273572 , -0.52592737, -0.79013171, -0.80874158, -0.52592737,\n",
       "         1.25617071, -0.56297505, -1.1059698 ,  1.94458183, -0.52504733,\n",
       "        -0.71102597, -0.54480692,  1.88720123]])"
      ]
     },
     "execution_count": 21,
     "metadata": {},
     "output_type": "execute_result"
    }
   ],
   "source": [
    "# Normalizando os dados da maria\n",
    "Xmaria_normalizado = norm.transform(pd.DataFrame(Xmaria, columns = X.columns))\n",
    "Xmaria_normalizado"
   ]
  },
  {
   "cell_type": "markdown",
   "id": "0a04534e",
   "metadata": {},
   "source": [
    "## Distância Euclidiana\n",
    "<p style='font-size: 14px; line-height: 2; margin: 10px 50px; text-align: justify; color:red;'> É a hipotenusa, uma distância menor comparado a distância Manhattan\n",
    "<a href= \"https://www.delftstack.com/pt/howto/numpy/calculate-euclidean-distance/\" > Link para a Fórmula</a>\n",
    "<p style='font-size: 18px; line-height: 2; margin: 10px 50px; text-align: justify;'>A medida de distância mais conhecida e mais utilizada é a distância euclidiana. Ela consiste em subtrair as coordenadas de uma observação pela outra observação, elevar ao quadrado os resultados, somar todos os valores e extrair a raiz quadrada.</p>\n",
    "    \n",
    "## Distância Manhattan\n",
    "<p style='font-size: 14px; line-height: 2; margin: 10px 50px; text-align: justify; color:red;'> Distâncias apenas horizontais e verticais.\n",
    "<p style='font-size: 18px; line-height: 2; margin: 10px 50px; text-align: justify;'>Uma distância que considera apenas a soma dos módulos das diferenças entre cada par de coordenadas.</p>\n",
    "\n",
    "\n",
    "## Distância de Minkowski\n",
    "<p style='font-size: 18px; line-height: 2; margin: 10px 50px; text-align: justify;'> Uma medida de distância que é a generalização de outras distâncias, como a distância euclidiana e a de Manhattan. Consiste em extrair o módulo da diferença entre cada par de coordenadas elevando o resultado a m, realizar a soma de todos os termos e, por fim, tirar a raiz m-ésima, em que m é um número qualquer. A distância euclidiana é um caso à parte quando m é igual a 2 e a distância de Manhattan é um caso à parte quando m é igual a 1.</p>\n",
    "    \n",
    "    \n",
    "## Distância de Chebyshev\n",
    "<p style='font-size: 18px; line-height: 2; margin: 10px 50px; text-align: justify;'>É uma medida de distância que considera apenas o valor máximo entre os módulos das diferenças entre as variáveis. Dessa forma, leva em consideração apenas a variável que possui a maior diferença de valores entre as duas observações.</p><br><br>\n",
    "    \n",
    "    \n",
    "<p style='font-size: 18px; line-height: 2; margin: 10px 50px; text-align: justify;'>Podemos modificar a medida de distância utilizando o argumento metric da função sklearn.neighbors.KNeighborsClassifier. Com base nas medidas que foram apresentadas no texto, o parâmetro pode receber os seguintes valores:\n",
    "\n",
    "  <li style='font-size: 18px; line-height: 2; margin: 10px 50px; text-align: justify;'>“euclidean” para a distância euclidiana;</li>\n",
    "  <li style='font-size: 18px; line-height: 2; margin: 10px 50px; text-align: justify;'>“manhattan” para a distância de Manhattan;</li>\n",
    "  <li style='font-size: 18px; line-height: 2; margin: 10px 50px; text-align: justify;'>“minkowski” para a distância de Minkowski;</li>\n",
    "  <li style='font-size: 18px; line-height: 2; margin: 10px 50px; text-align: justify;'>“chebyshev” para a distância de Chebyshev.</li>\n",
    "<p style='font-size: 18px; line-height: 2; margin: 10px 50px; text-align: justify;'>Caso tenha interesse em descobrir o funcionamento ou outras medidas de distância que podem ser utilizadas, confira a documentação do <a href = \"https://scikit-learn.org/stable/modules/generated/sklearn.metrics.DistanceMetric.html#sklearn.metrics.DistanceMetric\">sklearn.metrics.DistanceMetric.</a>"
   ]
  },
  {
   "cell_type": "code",
   "execution_count": 22,
   "id": "d4f44c40",
   "metadata": {},
   "outputs": [],
   "source": [
    "import numpy as np"
   ]
  },
  {
   "cell_type": "code",
   "execution_count": 23,
   "id": "30e0bf19",
   "metadata": {},
   "outputs": [],
   "source": [
    "# A variável \"a\" será o conjunto normalizado de informações de maria\n",
    "a = Xmaria_normalizado"
   ]
  },
  {
   "cell_type": "code",
   "execution_count": 24,
   "id": "132e4957",
   "metadata": {},
   "outputs": [],
   "source": [
    "# A variável \"b\" será o conjunto normalizado de informações do cliente 0\n",
    "b = X_normalizado[0]"
   ]
  },
  {
   "cell_type": "code",
   "execution_count": 25,
   "id": "8dc0bd11",
   "metadata": {},
   "outputs": [
    {
     "data": {
      "text/plain": [
       "array([[-2.00115254,  0.        ,  3.3814487 ,  0.        ,  0.        ,\n",
       "        -0.04072036,  0.3340212 ,  2.00139589, -3.3814487 ,  0.        ,\n",
       "        -2.10545189,  2.01476153,  0.        ,  0.        ,  0.        ,\n",
       "         0.        ,  0.        ,  0.        ,  0.        ,  0.        ,\n",
       "         2.42733059,  0.        , -2.00018971,  2.42733059,  0.        ,\n",
       "         0.        ,  0.        ,  0.        , -2.0452305 ,  0.        ,\n",
       "         2.05224086,  0.        , -2.01015362,  2.45883121,  0.        ,\n",
       "        -2.11744436,  0.        ,  2.41708643]])"
      ]
     },
     "execution_count": 25,
     "metadata": {},
     "output_type": "execute_result"
    }
   ],
   "source": [
    "# Começando pela subtração\n",
    "a - b"
   ]
  },
  {
   "cell_type": "code",
   "execution_count": 26,
   "id": "647116b3",
   "metadata": {},
   "outputs": [
    {
     "data": {
      "text/plain": [
       "array([[4.00461149e+00, 0.00000000e+00, 1.14341953e+01, 0.00000000e+00,\n",
       "        0.00000000e+00, 1.65814802e-03, 1.11570160e-01, 4.00558550e+00,\n",
       "        1.14341953e+01, 0.00000000e+00, 4.43292768e+00, 4.05926401e+00,\n",
       "        0.00000000e+00, 0.00000000e+00, 0.00000000e+00, 0.00000000e+00,\n",
       "        0.00000000e+00, 0.00000000e+00, 0.00000000e+00, 0.00000000e+00,\n",
       "        5.89193381e+00, 0.00000000e+00, 4.00075888e+00, 5.89193381e+00,\n",
       "        0.00000000e+00, 0.00000000e+00, 0.00000000e+00, 0.00000000e+00,\n",
       "        4.18296779e+00, 0.00000000e+00, 4.21169253e+00, 0.00000000e+00,\n",
       "        4.04071758e+00, 6.04585093e+00, 0.00000000e+00, 4.48357062e+00,\n",
       "        0.00000000e+00, 5.84230682e+00]])"
      ]
     },
     "execution_count": 26,
     "metadata": {},
     "output_type": "execute_result"
    }
   ],
   "source": [
    "# Elevar ao quadrado\n",
    "np.square(a-b)"
   ]
  },
  {
   "cell_type": "code",
   "execution_count": 27,
   "id": "4dc81a8b",
   "metadata": {},
   "outputs": [
    {
     "data": {
      "text/plain": [
       "84.07574038273466"
      ]
     },
     "execution_count": 27,
     "metadata": {},
     "output_type": "execute_result"
    }
   ],
   "source": [
    "# Somatório\n",
    "np.sum(np.square(a-b))"
   ]
  },
  {
   "cell_type": "code",
   "execution_count": 28,
   "id": "43e62e2f",
   "metadata": {},
   "outputs": [
    {
     "data": {
      "text/plain": [
       "9.169282435541762"
      ]
     },
     "execution_count": 28,
     "metadata": {},
     "output_type": "execute_result"
    }
   ],
   "source": [
    "# Extraindo a raiz para obter a distância\n",
    "np.sqrt(np.sum(np.square(a-b)))\n",
    "\n",
    "# Esta é a distância da maria com o cliente 0 da nossa base.\n",
    "# Agora precisa ser feito o mesmo para todos os clientes da nossa base.\n"
   ]
  },
  {
   "cell_type": "markdown",
   "id": "c891fd63",
   "metadata": {},
   "source": [
    "<p style='font-size: 18px; line-height: 2; margin: 10px 50px; text-align: justify;'>No <b>algoritmo KNN</b>, para que seja feita a classificação dos registros com base nos vizinhos mais próximos, é necessário utilizar alguma medida para identificar o quão próximo o registro está dos seus vizinhos. Existem diversas medidas para se avaliar essa proximidade entre variáveis numéricas que recebem o nome de medidas de distância. Quanto maior o valor dessa medida, mais distante um elemento está do outro, ou seja, menor a similaridade entre eles."
   ]
  },
  {
   "cell_type": "markdown",
   "id": "3a711ca8",
   "metadata": {},
   "source": [
    "## 2.3 Implementando o modelo "
   ]
  },
  {
   "cell_type": "code",
   "execution_count": 29,
   "id": "86eea1d8",
   "metadata": {},
   "outputs": [],
   "source": [
    "# Biblioteca para divisão dos dados\n",
    "from sklearn.model_selection import train_test_split"
   ]
  },
  {
   "cell_type": "code",
   "execution_count": 30,
   "id": "cb73530d",
   "metadata": {},
   "outputs": [],
   "source": [
    "X_treino, X_teste, y_treino, y_teste = train_test_split(X_normalizado, y, test_size=0.3, random_state=123)"
   ]
  },
  {
   "cell_type": "markdown",
   "id": "5c757b65",
   "metadata": {},
   "source": [
    "##  Treino e teste"
   ]
  },
  {
   "cell_type": "code",
   "execution_count": 31,
   "id": "86c53f20",
   "metadata": {},
   "outputs": [],
   "source": [
    "# Biblioteca para criarmos o modelo de machine learning\n",
    "from sklearn.neighbors import KNeighborsClassifier"
   ]
  },
  {
   "cell_type": "code",
   "execution_count": 32,
   "id": "4d91f4f7",
   "metadata": {},
   "outputs": [],
   "source": [
    "# Instanciar o modelo (criamos o modelo) - por padrão são 5 vizinhos ( k = 5)\n",
    "knn = KNeighborsClassifier(metric = 'euclidean')"
   ]
  },
  {
   "cell_type": "code",
   "execution_count": 33,
   "id": "1b243678",
   "metadata": {},
   "outputs": [
    {
     "data": {
      "text/plain": [
       "KNeighborsClassifier(metric='euclidean')"
      ]
     },
     "execution_count": 33,
     "metadata": {},
     "output_type": "execute_result"
    }
   ],
   "source": [
    "# Treinando o modelo com os dados de treino\n",
    "knn.fit(X_treino, y_treino)"
   ]
  },
  {
   "cell_type": "code",
   "execution_count": 34,
   "id": "6001e8c9",
   "metadata": {},
   "outputs": [],
   "source": [
    "# Testando o modelo com os dados de teste\n",
    "predito_knn = knn.predict(X_teste)"
   ]
  },
  {
   "cell_type": "code",
   "execution_count": 35,
   "id": "d09ce03c",
   "metadata": {},
   "outputs": [
    {
     "data": {
      "text/plain": [
       "array([1, 0, 0, ..., 0, 0, 0], dtype=int64)"
      ]
     },
     "execution_count": 35,
     "metadata": {},
     "output_type": "execute_result"
    }
   ],
   "source": [
    "predito_knn"
   ]
  },
  {
   "cell_type": "markdown",
   "id": "ba2f1c6c",
   "metadata": {},
   "source": [
    "<p style='font-size: 20px; line-height: 2; margin: 10px 50px; text-align: justify; color:red;'><b> Naïve Bayes </b>\n",
    "\n",
    "<p style='font-size: 18px; line-height: 2; margin: 10px 50px; text-align: justify; color:black;'>O classificador multinomial Naïve Bayes é um dos modelos mais populares no aprendizado de máquina. Tomando como premissa a suposição de independência entre as variáveis do problema, o modelo de Naïve Bayes realiza uma classificação probabilística de observações, caracterizando-as em classes pré-definidas.    \n",
    "<p style='font-size: 18px; line-height: 2; margin: 10px 50px; text-align: justify; color:black;'>Sendo um modelo adequado para classificação de atributos discretos, <b>o Naïve Bayes tem aplicações na análise de crédito, diagnósticos médicos ou busca por falhas em sistemas mecânicos.</b>\n",
    "\n",
    "    \n",
    "   \n",
    "    \n",
    "<p style='font-size: 18px; line-height: 2; margin: 10px 50px; text-align: justify;'>É uma fórmula utilizada para calcular a probabilidade de um evento ocorrer sabendo que um outro evento, chamado de condicionante, já ocorreu, denominado probabilidade condicional. Sua notação é dada por P(A|B), que significa a probabilidade de A dado que B já aconteceu e é definido pela seguinte equação:\n",
    "    \n",
    "<li style='font-size: 18px; line-height: 2; margin: 10px 50px; text-align: justify;'>P(B|A): probabilidade de B acontecer dado que A já aconteceu;</li>\n",
    "<li style='font-size: 18px; line-height: 2; margin: 10px 50px; text-align: justify;'>P(A): probabilidade de A acontecer;</li>\n",
    "<li style='font-size: 18px; line-height: 2; margin: 10px 50px; text-align: justify;'>P(B): probabilidade de B acontecer.</li><br>\n",
    "    \n",
    "<p style='font-size: 18px; line-height: 2; margin: 10px 50px; text-align: justify; color:black;'>Os modelos classificadores de Naïve Bayes realizam seus cálculos com base em probabilidades e desconsideram a correlação entre as variáveis.\n",
    "<li style='font-size: 18px; line-height: 2; margin: 10px 50px; text-align: justify;'>BernoulliNB()</li>\n",
    "<li style='font-size: 18px; line-height: 2; margin: 10px 50px; text-align: justify;'>GaussianNB()</li>\n",
    "<li style='font-size: 18px; line-height: 2; margin: 10px 50px; text-align: justify;'>MultinomialNB()</li>\n",
    "    \n",
    "    \n",
    "    \n",
    "<p style='font-size: 18px; line-height: 2; margin: 10px 50px; text-align: justify; color:black;'>Fontes :\n",
    "    \n",
    "<a style='font-size: 18px; line-height: 2; margin: 10px 50px; text-align: justify; color:black;' href = \"https://www.digitalhouse.com/br/blog/naive-bayes/\">DigitalHouse\n",
    "    \n",
    "<a style='font-size: 18px; line-height: 2; margin: 10px 50px; text-align: justify; color:black;' href = \"https://cursos.alura.com.br/course/machine-learning-classificacao-tras-panos/task/107730\"> Alura </a>"
   ]
  },
  {
   "cell_type": "markdown",
   "id": "6507b09e",
   "metadata": {},
   "source": [
    "## 3.3 Treinamento e teste"
   ]
  },
  {
   "cell_type": "code",
   "execution_count": 36,
   "id": "17f2d0f4",
   "metadata": {},
   "outputs": [
    {
     "data": {
      "text/plain": [
       "array([[-0.96662231, -0.65401193, -3.05401039, ...,  1.40641839,\n",
       "        -0.54480692, -0.5298852 ],\n",
       "       [-0.96662231,  1.5290241 ,  0.32743831, ...,  1.40641839,\n",
       "        -0.54480692, -0.5298852 ],\n",
       "       [-0.96662231, -0.65401193,  0.32743831, ..., -0.71102597,\n",
       "         1.83551265, -0.5298852 ],\n",
       "       ...,\n",
       "       [ 1.03453023,  1.5290241 ,  0.32743831, ...,  1.40641839,\n",
       "        -0.54480692, -0.5298852 ],\n",
       "       [ 1.03453023,  1.5290241 , -3.05401039, ..., -0.71102597,\n",
       "         1.83551265, -0.5298852 ],\n",
       "       [-0.96662231, -0.65401193,  0.32743831, ...,  1.40641839,\n",
       "        -0.54480692, -0.5298852 ]])"
      ]
     },
     "execution_count": 36,
     "metadata": {},
     "output_type": "execute_result"
    }
   ],
   "source": [
    "X_treino"
   ]
  },
  {
   "cell_type": "code",
   "execution_count": 37,
   "id": "db046325",
   "metadata": {},
   "outputs": [
    {
     "data": {
      "text/plain": [
       "1479    0\n",
       "2377    0\n",
       "6613    0\n",
       "6468    0\n",
       "2668    1\n",
       "       ..\n",
       "5218    0\n",
       "4060    0\n",
       "1346    1\n",
       "3454    0\n",
       "3582    0\n",
       "Name: Churn, Length: 4930, dtype: int64"
      ]
     },
     "execution_count": 37,
     "metadata": {},
     "output_type": "execute_result"
    }
   ],
   "source": [
    "y_treino"
   ]
  },
  {
   "cell_type": "code",
   "execution_count": 38,
   "id": "dc091bd3",
   "metadata": {},
   "outputs": [
    {
     "data": {
      "text/plain": [
       "-0.5259273725834717"
      ]
     },
     "execution_count": 38,
     "metadata": {},
     "output_type": "execute_result"
    }
   ],
   "source": [
    "# Escolho utilizar a mediana, porque é o valor central dos nossos dados ordenados\n",
    "np.median(X_treino)"
   ]
  },
  {
   "cell_type": "code",
   "execution_count": 39,
   "id": "824da2c8",
   "metadata": {},
   "outputs": [],
   "source": [
    "# Biblioteca para criamos o modelo de machine learning\n",
    "from sklearn.naive_bayes import BernoulliNB"
   ]
  },
  {
   "cell_type": "code",
   "execution_count": 40,
   "id": "8c3c88df",
   "metadata": {},
   "outputs": [],
   "source": [
    "# Criamos o modelo\n",
    "bnb = BernoulliNB(binarize= -0.5259)\n"
   ]
  },
  {
   "cell_type": "markdown",
   "id": "99f6e7c9",
   "metadata": {},
   "source": [
    "<p style='font-size: 20px; line-height: 2; margin: 10px 50px; text-align: justify; color:black;'>O <b>-0.5259</b> define que acima desse valor, vai considerar as variáveis como 1 e abaixo desse valor, será 0. Tornando-se assim, uma variável binária."
   ]
  },
  {
   "cell_type": "code",
   "execution_count": 41,
   "id": "74857121",
   "metadata": {},
   "outputs": [
    {
     "data": {
      "text/plain": [
       "BernoulliNB(binarize=-0.5259)"
      ]
     },
     "execution_count": 41,
     "metadata": {},
     "output_type": "execute_result"
    }
   ],
   "source": [
    "bnb.fit(X_treino, y_treino)"
   ]
  },
  {
   "cell_type": "code",
   "execution_count": 42,
   "id": "e44815fe",
   "metadata": {},
   "outputs": [],
   "source": [
    "predito_bnb = bnb.predict(X_teste)"
   ]
  },
  {
   "cell_type": "code",
   "execution_count": 43,
   "id": "abaff7aa",
   "metadata": {},
   "outputs": [
    {
     "data": {
      "text/plain": [
       "array([1, 0, 0, ..., 0, 1, 0], dtype=int64)"
      ]
     },
     "execution_count": 43,
     "metadata": {},
     "output_type": "execute_result"
    }
   ],
   "source": [
    "predito_bnb"
   ]
  },
  {
   "cell_type": "markdown",
   "id": "085bf6e2",
   "metadata": {},
   "source": [
    "<p style='font-size: 20px; line-height: 2; margin: 10px 50px; text-align: justify; color:red;'><b>Árvore de decisão ou Decision Tree</b>\n",
    "\n",
    "\n",
    "<p style='font-size: 18px; line-height: 2; margin: 10px 50px; text-align: justify; color:black;'>Árvore de decisão é um dos modelos de previsão mais simples, inspirada na forma que os seres humanos tomam as decisões e tem uma alta interpretabilidade, ou seja, uma compreensão fácil dos passos que foram realizados para conseguir chegar ao resultado final. Ela pode ser utilizada tanto para modelos de regressão, que têm intuito de prever valores numéricos, quanto para modelos de classificação, que têm intuito de prever categorias.\n",
    "    \n",
    "<p style='font-size: 18px; line-height: 2; margin: 10px 50px; text-align: justify; color:black;'>Uma árvore decisória pode ser utilizada em qualquer situação cotidiana que envolva tomada de decisão. Para definir um roteiro de viagem que passa por diferentes cidades, por exemplo, o nó inicial representaria o local de partida; e os nós das ramificações as cidades pelas quais o trajeto poderia passar; o nó final, nesse caso, representaria o destino final da viagem.\n",
    "\n",
    "<p style='font-size: 18px; line-height: 2; margin: 10px 50px; text-align: justify; color:black;'>Graficamente, a árvore de decisão pode ser representada de forma que cada uma das decisões tomadas no processo possam ser visualizadas. Seus elementos principais são os <b>nós, ramos e folhas</b>. A estrutura da árvore se inicia com um nó inicial, também chamado de raiz. A partir dela são traçadas ramificações, que geram novos nós e o processo se repete para os nós subsequentes até que chegue a uma folha, que se trata de um nó especial que tem a informação da resposta, sendo ela uma categoria ou um valor previsto.\n",
    "\n",
    "<p style='font-size: 18px; line-height: 2; margin: 10px 50px; text-align: justify; color:black;'>Cada ramo representa uma tomada de decisão a partir de um valor ou de uma categoria das variáveis explicativas, dividindo o conjunto de dados em nós que apresentam dados com características cada vez mais similares entre si.<br>\n",
    "    \n",
    "    \n",
    "<p style='font-size: 18px; line-height: 2; margin: 10px 50px; text-align: justify; color:red;'><b>Índice Gini</b>\n",
    "<p style='font-size: 18px; line-height: 2; margin: 10px 50px; text-align: justify; color:black;'>Este índice informa o grau de heterogeneidade dos dados. O objetivo dele é medir a frequência de um elemento aleatório de um nó ser rotulado de maneira incorreta. Em outros termos, esse índice é capaz de medir a impureza de um nó e ele é determinado por meio do seguinte cálculo: \n",
    "<li style='font-size: 18px; line-height: 2; margin: 10px 50px; text-align: justify;'><b>pi</b> representa a frequência relativa das classes em cada um dos nós;\n",
    "<li style='font-size: 18px; line-height: 2; margin: 10px 50px; text-align: justify;'><b>k</b> é o número de classes.</li>\n",
    "<p style='font-size: 18px; line-height: 2; margin: 10px 50px; text-align: justify;'>Se o índice Gini for igual a 0, isso indica que o nó é puro. No entanto, se o valor dele se aproxima mais do valor 1, o nó é impuro.</p>\n",
    "\n",
    "\n",
    "<p style='font-size: 18px; line-height: 2; margin: 10px 50px; text-align: justify; color:red;'><b>Entropia</b>\n",
    "<p style='font-size: 18px; line-height: 2; margin: 10px 50px; text-align: justify; color:black;'>A ideia básica da entropia é medir a desordem dos dados de um nó por meio da variável classificadora. Assim como o índice de Gini, ela é utilizada para caracterizar a impureza dos dados\n",
    "    \n",
    "<li style='font-size: 18px; line-height: 2; margin: 10px 50px; text-align: justify;'><b>pi</b> representa a proporção de dados no conjunto de dados (S), pertencentes à classe específica i;\n",
    "<li style='font-size: 18px; line-height: 2; margin: 10px 50px; text-align: justify;'><b>c</b> é o número de classes.</li>\n",
    "\n",
    "    \n",
    " <p style='font-size: 18px; line-height: 2; margin: 10px 50px; text-align: justify; color:black;'>Fontes :\n",
    "    \n",
    "<a style='font-size: 18px; line-height: 2; margin: 10px 50px; text-align: justify; color:black;' href = \"https://ferramentasdaqualidade.org/arvores-decisorias/\">Ferramentas de qualidade\n",
    "    \n",
    "<a style='font-size: 18px; line-height: 2; margin: 10px 50px; text-align: justify; color:black;' href = \"https://cursos.alura.com.br/course/machine-learning-classificacao-tras-panos/task/107730\"> Alura </a>"
   ]
  },
  {
   "cell_type": "markdown",
   "id": "aa56bef9",
   "metadata": {},
   "source": [
    "##  4.3 Implementando o modelo"
   ]
  },
  {
   "cell_type": "code",
   "execution_count": 44,
   "id": "8c1ff8dc",
   "metadata": {},
   "outputs": [],
   "source": [
    "# Biblioteca para criarmos o modelo de Machine Learning\n",
    "from sklearn.tree import DecisionTreeClassifier"
   ]
  },
  {
   "cell_type": "code",
   "execution_count": 45,
   "id": "69988923",
   "metadata": {},
   "outputs": [],
   "source": [
    "# Instanciando o modelo\n",
    "dtc = DecisionTreeClassifier(criterion='entropy', random_state=42)"
   ]
  },
  {
   "cell_type": "code",
   "execution_count": 46,
   "id": "2dc44874",
   "metadata": {},
   "outputs": [
    {
     "data": {
      "text/plain": [
       "DecisionTreeClassifier(criterion='entropy', random_state=42)"
      ]
     },
     "execution_count": 46,
     "metadata": {},
     "output_type": "execute_result"
    }
   ],
   "source": [
    "# Treinar o modelo\n",
    "dtc.fit(X_treino, y_treino)"
   ]
  },
  {
   "cell_type": "code",
   "execution_count": 47,
   "id": "e9cb1cd1",
   "metadata": {},
   "outputs": [
    {
     "data": {
      "text/plain": [
       "array([0.03168742, 0.01862901, 0.00064085, 0.02675693, 0.0208788 ,\n",
       "       0.2056003 , 0.29546501, 0.0061786 , 0.00273035, 0.00747536,\n",
       "       0.        , 0.04908356, 0.        , 0.01609395, 0.        ,\n",
       "       0.00722833, 0.01220706, 0.        , 0.01248286, 0.01138295,\n",
       "       0.0006673 , 0.0095669 , 0.01841631, 0.        , 0.00650511,\n",
       "       0.00385849, 0.        , 0.00666929, 0.00517146, 0.        ,\n",
       "       0.00665371, 0.00473251, 0.15803541, 0.00348686, 0.01414378,\n",
       "       0.01601964, 0.01064163, 0.01091026])"
      ]
     },
     "execution_count": 47,
     "metadata": {},
     "output_type": "execute_result"
    }
   ],
   "source": [
    "# Verificar a importância de cada atributo\n",
    "dtc.feature_importances_"
   ]
  },
  {
   "cell_type": "code",
   "execution_count": 48,
   "id": "335b7c9a",
   "metadata": {},
   "outputs": [],
   "source": [
    "predito_ArvoreDecisao = dtc.predict(X_teste)"
   ]
  },
  {
   "cell_type": "code",
   "execution_count": 49,
   "id": "db8f7390",
   "metadata": {},
   "outputs": [
    {
     "data": {
      "text/plain": [
       "array([1, 0, 0, ..., 1, 0, 0], dtype=int64)"
      ]
     },
     "execution_count": 49,
     "metadata": {},
     "output_type": "execute_result"
    }
   ],
   "source": [
    "predito_ArvoreDecisao"
   ]
  },
  {
   "cell_type": "markdown",
   "id": "1cb22349",
   "metadata": {},
   "source": [
    "## 5 Validação dos modelos"
   ]
  },
  {
   "cell_type": "markdown",
   "id": "f6d3363f",
   "metadata": {},
   "source": [
    "## 5.2 Matriz de confusão\n",
    "\n",
    "\n",
    "<p style='font-size: 18px; line-height: 2; margin: 10px 50px; text-align: justify; color:black;'>A Matriz de Confusão é uma tabela onde facilmente identificamos todos os quatro tipos de classificação do modelo de classificação binário (isto é, com apenas dois valores distintos na variável resposta). Com ela, facilmente podemos calcular valores como acurácia, especificidade, sensibilidade, etc. </p>\n",
    "    \n",
    "    \n",
    "<li style='font-size: 18px; line-height: 2; margin: 10px 50px; text-align: justify; color:black;'><b>Verdadeiros Positivos (TP)</b>são observações cujo valor real é positivo e o valor previsto é positivo, isto é, o modelo acertou</li>\n",
    "\n",
    "<li style='font-size: 18px; line-height: 2; margin: 10px 50px; text-align: justify; color:black;'><b>Verdadeiros Negativos (TN)</b> são observações cujo valor real é negativo e o valor previsto é negativo, isto é, o modelo acertou</li>\n",
    "\n",
    "<li style='font-size: 18px; line-height: 2; margin: 10px 50px; text-align: justify; color:black;'><b>Falsos Positivos (FP)</b> são casos em que o resultado correto é negativo entretanto o resultado obtido é positivo, isto é, o modelo errou</li>\n",
    "<li style='font-size: 18px; line-height: 2; margin: 10px 50px; text-align: justify; color:black;'><b>Falsos Negativos (FN)</b> são casos em que o resultado correto é positivo entretanto o resultado obtido é negativo, isto é, o modelo errou</li>\n",
    "    \n",
    "<p style='font-size: 20px; line-height: 2; margin: 10px 50px; text-align: justify; color:Red;'><b>Métricas</b>\n",
    "    \n",
    "<p style='font-size: 18px; line-height: 2; margin: 10px 50px; text-align: justify; color:black;'>Acurácia, Sensibilidade e Especificidade se referem a métricas de avaliação dos modelos, queremos olhá-las para checar quão bem o modelo está fazendo as classificações. Quanto melhor o modelo, mais altos são os valores dessas métricas.\n",
    "\n",
    "<li style='font-size: 18px; line-height: 2; margin: 10px 50px; text-align: justify; color:black;'><b>Acurácia:</b> é a proporção de acertos do modelo. Para calculá-la, pega-se o número total de observações que o modelo acertou e divide-se pelo número total de observações que o modelo previu.\n",
    "    \n",
    "<li style='font-size: 18px; line-height: 2; margin: 10px 50px; text-align: justify; color:black;'><b>Sensibilidade:</b> também chamada de recall, é a proporção de casos positivos que foram identificados corretamente. Para calculá-la, toma-se o número de observações que o modelo classificou como positivos corretamente (verdadeiros positivos) e divide-se pelo número total de observações com rótulo positivo (verdadeiros positivos + falsos negativos).\n",
    "    \n",
    "<li style='font-size: 18px; line-height: 2; margin: 10px 50px; text-align: justify; color:black;'><b>Especificidade:</b> é a proporção de casos negativos que foram identificados corretamente. Para calculá-la, toma-se o número de observações que o modelo classificou como negativos corretamente (verdadeiros negativos) e divide-se pelo número total de observações com rótulo negativo (verdadeiros negativos + falsos positivos).\n",
    "    \n",
    "<li style='font-size: 18px; line-height: 2; margin: 10px 50px; text-align: justify; color:black;'><b>Valor de previsão positivo/negativo:</b> em um problema de classificação binário, as observações pertencem a duas classes, que podem ter quaisquer nomes (bom ou mau, sim ou não, 0 ou 1). No momento do treinamento, essas categorias são sempre codificadas como 0 ou 1, de modo que nos referimos às observações com rótulo 0 como sendo a classe negativa, e as observações com rótulo 1 como sendo a classe positiva. Portanto, quando o modelo diz que uma observação tem valor 0 na variável-resposta, dizemos que esse é um valor de previsão negativo, e quando o modelo diz que uma observação tem valor 1 na variável-resposta, dizemos que esse é um valor de previsão positivo.</li>\n",
    "    \n",
    "    \n",
    "<p style='font-size: 18px; line-height: 2; margin: 10px 50px; text-align: justify; color:black;'>Fontes :\n",
    "    \n",
    "<a style='font-size: 18px; line-height: 2; margin: 10px 50px; text-align: justify; color:black;' href = \"https://ajuda.datarisk.io/knowledge/o-que-%C3%A9-matriz-de-confus%C3%A3o\">datarick\n",
    "    \n",
    "<a style='font-size: 18px; line-height: 2; margin: 10px 50px; text-align: justify; color:black;' href = \"https://cursos.alura.com.br/course/machine-learning-classificacao-tras-panos/task/107730\"> Alura </a>"
   ]
  },
  {
   "cell_type": "code",
   "execution_count": 50,
   "id": "ca016a31",
   "metadata": {},
   "outputs": [],
   "source": [
    "from sklearn.metrics import confusion_matrix"
   ]
  },
  {
   "cell_type": "code",
   "execution_count": 51,
   "id": "f24c46ea",
   "metadata": {},
   "outputs": [
    {
     "name": "stdout",
     "output_type": "stream",
     "text": [
      "[[1301  222]\n",
      " [ 317  273]]\n"
     ]
    }
   ],
   "source": [
    "print(confusion_matrix(y_teste, predito_knn))"
   ]
  },
  {
   "cell_type": "code",
   "execution_count": 65,
   "id": "4af8bee6",
   "metadata": {},
   "outputs": [
    {
     "data": {
      "image/png": "[encoded data removed]",
      "text/plain": [
       "<Figure size 432x288 with 2 Axes>"
      ]
     },
     "metadata": {},
     "output_type": "display_data"
    }
   ],
   "source": [
    "# Importando o método da matriz de confusão\n",
    "\n",
    "from sklearn.metrics import confusion_matrix\n",
    "\n",
    "mc = confusion_matrix(y_teste, predito_knn)  # Matriz de confusão\n",
    "mc\n",
    "\n",
    "\n",
    "# Função para gerar a matriz de confusão como está no para saber mais.\n",
    "\n",
    "import seaborn as sns\n",
    "import matplotlib.pyplot as plt\n",
    "import numpy as np\n",
    "\n",
    "def gerando_matriz(matriz_confusao, labels, categorias, cmap=\"viridis\"):\n",
    "    group_counts = [f\"{value}\" for value in matriz_confusao.flatten()]\n",
    "    labels = [f\"{v1}\" for v1 in labels]\n",
    "    lb = [f\"{v1}\\n{v2}\" for v1, v2 in zip(labels, group_counts)]\n",
    "    lb = np.asarray(lb).reshape(matriz_confusao.shape)\n",
    "    \n",
    "    ax = plt.subplot()\n",
    "    sns.set(font_scale=1.1) \n",
    "    sns.heatmap(matriz_confusao, annot=lb, ax=ax, cmap=cmap, fmt=\"\", xticklabels=categorias,yticklabels=categorias)\n",
    "    \n",
    "    label_font = {'size':'12'}  \n",
    "    ax.set_xlabel('Valores preditos', fontdict=label_font);\n",
    "    ax.set_ylabel('Valores verdadeiros', fontdict=label_font);\n",
    "    \n",
    "    ax.tick_params(axis='both', which='major', labelsize=10)  \n",
    "\n",
    "    \n",
    "categorias = [\"0\", \"1\"]\n",
    "labels = ['Verdadeiro Negativo','Falso Positivo',\n",
    "          'Falso Negativo','Verdadeiro Positivo']\n",
    "\n",
    "\n",
    "\n",
    "\n",
    "gerando_matriz(mc, labels, categorias, cmap=\"magma_r\")"
   ]
  },
  {
   "cell_type": "code",
   "execution_count": 66,
   "id": "4b98d1df",
   "metadata": {},
   "outputs": [
    {
     "name": "stdout",
     "output_type": "stream",
     "text": [
      "[[1051  472]\n",
      " [ 116  474]]\n"
     ]
    }
   ],
   "source": [
    "print(confusion_matrix(y_teste, predito_bnb))"
   ]
  },
  {
   "cell_type": "code",
   "execution_count": 67,
   "id": "fae899fb",
   "metadata": {},
   "outputs": [
    {
     "data": {
      "image/png": "[encoded data removed]",
      "text/plain": [
       "<Figure size 432x288 with 2 Axes>"
      ]
     },
     "metadata": {},
     "output_type": "display_data"
    }
   ],
   "source": [
    "# Importando o método da matriz de confusão\n",
    "\n",
    "from sklearn.metrics import confusion_matrix\n",
    "\n",
    "mc = confusion_matrix(y_teste, predito_bnb)  # Matriz de confusão\n",
    "mc\n",
    "\n",
    "\n",
    "# Função para gerar a matriz de confusão como está no para saber mais.\n",
    "\n",
    "import seaborn as sns\n",
    "import matplotlib.pyplot as plt\n",
    "import numpy as np\n",
    "\n",
    "def gerando_matriz(matriz_confusao, labels, categorias, cmap=\"viridis\"):\n",
    "    group_counts = [f\"{value}\" for value in matriz_confusao.flatten()]\n",
    "    labels = [f\"{v1}\" for v1 in labels]\n",
    "    lb = [f\"{v1}\\n{v2}\" for v1, v2 in zip(labels, group_counts)]\n",
    "    lb = np.asarray(lb).reshape(matriz_confusao.shape)\n",
    "    \n",
    "    ax = plt.subplot()\n",
    "    sns.set(font_scale=1.1) \n",
    "    sns.heatmap(matriz_confusao, annot=lb, ax=ax, cmap=cmap, fmt=\"\", xticklabels=categorias,yticklabels=categorias)\n",
    "    \n",
    "    label_font = {'size':'12'}  \n",
    "    ax.set_xlabel('Valores preditos', fontdict=label_font);\n",
    "    ax.set_ylabel('Valores verdadeiros', fontdict=label_font);\n",
    "    \n",
    "    ax.tick_params(axis='both', which='major', labelsize=10)  \n",
    "\n",
    "    \n",
    "categorias = [\"0\", \"1\"]\n",
    "labels = ['Verdadeiro Negativo','Falso Positivo',\n",
    "          'Falso Negativo','Verdadeiro Positivo']\n",
    "\n",
    "gerando_matriz(mc, labels, categorias, cmap=\"magma_r\")"
   ]
  },
  {
   "cell_type": "code",
   "execution_count": 68,
   "id": "08e29902",
   "metadata": {},
   "outputs": [
    {
     "name": "stdout",
     "output_type": "stream",
     "text": [
      "[[1249  274]\n",
      " [ 290  300]]\n"
     ]
    }
   ],
   "source": [
    "print(confusion_matrix(y_teste, predito_ArvoreDecisao))"
   ]
  },
  {
   "cell_type": "code",
   "execution_count": 69,
   "id": "c3f184ee",
   "metadata": {},
   "outputs": [
    {
     "data": {
      "image/png": "[encoded data removed]",
      "text/plain": [
       "<Figure size 432x288 with 2 Axes>"
      ]
     },
     "metadata": {},
     "output_type": "display_data"
    }
   ],
   "source": [
    "# Importando o método da matriz de confusão\n",
    "\n",
    "from sklearn.metrics import confusion_matrix\n",
    "\n",
    "mc = confusion_matrix(y_teste, predito_ArvoreDecisao)  # Matriz de confusão\n",
    "mc\n",
    "\n",
    "\n",
    "# Função para gerar a matriz de confusão como está no para saber mais.\n",
    "\n",
    "import seaborn as sns\n",
    "import matplotlib.pyplot as plt\n",
    "import numpy as np\n",
    "\n",
    "def gerando_matriz(matriz_confusao, labels, categorias, cmap=\"viridis\"):\n",
    "    group_counts = [f\"{value}\" for value in matriz_confusao.flatten()]\n",
    "    labels = [f\"{v1}\" for v1 in labels]\n",
    "    lb = [f\"{v1}\\n{v2}\" for v1, v2 in zip(labels, group_counts)]\n",
    "    lb = np.asarray(lb).reshape(matriz_confusao.shape)\n",
    "    \n",
    "    ax = plt.subplot()\n",
    "    sns.set(font_scale=1.1) \n",
    "    sns.heatmap(matriz_confusao, annot=lb, ax=ax, cmap=cmap, fmt=\"\", xticklabels=categorias,yticklabels=categorias)\n",
    "    \n",
    "    label_font = {'size':'12'}  \n",
    "    ax.set_xlabel('Valores preditos', fontdict=label_font);\n",
    "    ax.set_ylabel('Valores verdadeiros', fontdict=label_font);\n",
    "    \n",
    "    ax.tick_params(axis='both', which='major', labelsize=10)  \n",
    "\n",
    "    \n",
    "categorias = [\"0\", \"1\"]\n",
    "labels = ['Verdadeiro Negativo','Falso Positivo',\n",
    "          'Falso Negativo','Verdadeiro Positivo']\n",
    "\n",
    "gerando_matriz(mc, labels, categorias, cmap=\"magma_r\")"
   ]
  },
  {
   "cell_type": "markdown",
   "id": "f5779af6",
   "metadata": {},
   "source": [
    "##  5.3 Precisão\n"
   ]
  },
  {
   "cell_type": "code",
   "execution_count": 70,
   "id": "24a4fe25",
   "metadata": {},
   "outputs": [],
   "source": [
    "from sklearn.metrics import precision_score"
   ]
  },
  {
   "cell_type": "code",
   "execution_count": 71,
   "id": "ee4b331a",
   "metadata": {},
   "outputs": [
    {
     "name": "stdout",
     "output_type": "stream",
     "text": [
      "0.5515151515151515\n"
     ]
    }
   ],
   "source": [
    "# Modelo KNN\n",
    "print(precision_score(y_teste, predito_knn))"
   ]
  },
  {
   "cell_type": "code",
   "execution_count": 72,
   "id": "6cdd2154",
   "metadata": {},
   "outputs": [
    {
     "name": "stdout",
     "output_type": "stream",
     "text": [
      "0.5010570824524313\n"
     ]
    }
   ],
   "source": [
    "# Modelo Bernoulli de Naive Bayes\n",
    "print(precision_score(y_teste, predito_bnb))"
   ]
  },
  {
   "cell_type": "code",
   "execution_count": 73,
   "id": "066862b3",
   "metadata": {},
   "outputs": [
    {
     "name": "stdout",
     "output_type": "stream",
     "text": [
      "0.5226480836236934\n"
     ]
    }
   ],
   "source": [
    "# Modelo Árvore de decisão\n",
    "print(precision_score(y_teste, predito_ArvoreDecisao))"
   ]
  },
  {
   "cell_type": "markdown",
   "id": "1f5b2e2a",
   "metadata": {},
   "source": [
    "##  5.4 Recall"
   ]
  },
  {
   "cell_type": "code",
   "execution_count": 74,
   "id": "b7afaadd",
   "metadata": {},
   "outputs": [],
   "source": [
    "from sklearn.metrics import recall_score"
   ]
  },
  {
   "cell_type": "code",
   "execution_count": 75,
   "id": "23d19445",
   "metadata": {},
   "outputs": [
    {
     "name": "stdout",
     "output_type": "stream",
     "text": [
      "0.46271186440677964\n"
     ]
    }
   ],
   "source": [
    "# Modelo KNN\n",
    "print(recall_score(y_teste, predito_knn))"
   ]
  },
  {
   "cell_type": "code",
   "execution_count": 76,
   "id": "871249e8",
   "metadata": {},
   "outputs": [
    {
     "name": "stdout",
     "output_type": "stream",
     "text": [
      "0.8033898305084746\n"
     ]
    }
   ],
   "source": [
    "# Modelo Bernoulli de Naive Bayes\n",
    "print(recall_score(y_teste, predito_bnb))"
   ]
  },
  {
   "cell_type": "code",
   "execution_count": 77,
   "id": "8b19b6d1",
   "metadata": {},
   "outputs": [
    {
     "name": "stdout",
     "output_type": "stream",
     "text": [
      "0.5084745762711864\n"
     ]
    }
   ],
   "source": [
    "# Modelo Árvore de decisão\n",
    "print(recall_score(y_teste, predito_ArvoreDecisao))"
   ]
  },
  {
   "cell_type": "markdown",
   "id": "530fd61c",
   "metadata": {},
   "source": [
    "## Escolhendo o melhor modelo"
   ]
  },
  {
   "cell_type": "code",
   "execution_count": 79,
   "id": "cd0982af",
   "metadata": {},
   "outputs": [
    {
     "name": "stdout",
     "output_type": "stream",
     "text": [
      "Modelo KNN: 0.5515151515151515\n",
      "Modelo Bernouli de Naive Bayes: 0.5010570824524313\n",
      "Modelo Árvore de decisão: 0.5226480836236934\n"
     ]
    }
   ],
   "source": [
    "# Exemplo - Ánalise de precisões calculadas anteriormente\n",
    "print('Modelo KNN:', precision_score(y_teste, predito_knn))\n",
    "print('Modelo Bernouli de Naive Bayes:', precision_score(y_teste, predito_bnb))\n",
    "print('Modelo Árvore de decisão:', precision_score(y_teste, predito_ArvoreDecisao))"
   ]
  },
  {
   "cell_type": "markdown",
   "id": "5b873895",
   "metadata": {},
   "source": [
    "<p style='font-size: 18px; line-height: 2; margin: 10px 50px; text-align: justify; color:black;'> Comparando os modelos, o escolhido será o modelo KNN."
   ]
  },
  {
   "cell_type": "code",
   "execution_count": null,
   "id": "310c929e",
   "metadata": {},
   "outputs": [],
   "source": []
  }
 ],
 "metadata": {
  "kernelspec": {
   "display_name": "Python 3 (ipykernel)",
   "language": "python",
   "name": "python3"
  },
  "language_info": {
   "codemirror_mode": {
    "name": "ipython",
    "version": 3
   },
   "file_extension": ".py",
   "mimetype": "text/x-python",
   "name": "python",
   "nbconvert_exporter": "python",
   "pygments_lexer": "ipython3",
   "version": "3.9.7"
  }
 },
 "nbformat": 4,
 "nbformat_minor": 5
}
