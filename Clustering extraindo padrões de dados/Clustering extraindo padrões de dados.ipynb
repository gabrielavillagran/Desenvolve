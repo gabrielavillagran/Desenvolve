{
 "cells": [
  {
   "cell_type": "markdown",
   "id": "00e88ecd",
   "metadata": {},
   "source": [
    "<hr style='border: 1px solid black;'>\n",
    "\n",
    "<p style='font-size: 22px; line-height: 2; margin: 10px 50px; text-align: center; color:purple;'> <b>Clustering: extraindo padrões de dados</b></p>\n",
    "    \n",
    "<hr style='border: 1px solid black;'>\n",
    "\n",
    "<img src=\"img/cluster.gif\" width=\"380\" align=\"center\">\n",
    "<br>\n",
    "<br>\n",
    "\n",
    "<p style='font-size: 14px; line-height: 2; margin: 10px 50px; text-align: left; color:purple;'><i> Projeto desenvolvido por Gabriela Villagran durante o curso \"Clustering: extraindo padrões de dados\"</i></p>\n"
   ]
  },
  {
   "cell_type": "markdown",
   "id": "47c06ebc",
   "metadata": {},
   "source": [
    "<p style='font-size: 22px; line-height: 2; margin: 10px 50px; text-align: justify; color:purple;'> <b>1. Importando pandas, numpy e plotly</b></p>\n",
    "\n",
    "<a href = \"https://pandas.pydata.org/docs/\" style='font-size: 16px; line-height: 2; margin: 10px 50px; text-align: justify; color:black;'> Documentação Pandas </a>\n",
    "\n",
    "<a href = \"https://numpy.org/doc/stable/user/index.html\" style='font-size: 16px; line-height: 2; margin: 10px 50px; text-align: justify; color:black;'> Documentação Numpy </a>\n",
    "\n",
    "<a href = \"https://plotly.com/python-api-reference/generated/plotly.graph_objects.Figure.html\" style='font-size: 16px; line-height: 2; margin: 10px 50px; text-align: justify; color:black;'> Documentação Plotly </a>"
   ]
  },
  {
   "cell_type": "code",
   "execution_count": 1,
   "id": "e9d07cc8",
   "metadata": {},
   "outputs": [
    {
     "name": "stdout",
     "output_type": "stream",
     "text": [
      "Requirement already satisfied: prettytable in e:\\anaconda\\lib\\site-packages (3.3.0)\n",
      "Requirement already satisfied: wcwidth in e:\\anaconda\\lib\\site-packages (from prettytable) (0.2.5)\n"
     ]
    }
   ],
   "source": [
    "# Fazer tabela\n",
    "!pip install prettytable"
   ]
  },
  {
   "cell_type": "code",
   "execution_count": 2,
   "id": "f18fcb1f",
   "metadata": {},
   "outputs": [],
   "source": [
    "import pandas as pd\n",
    "import numpy as np"
   ]
  },
  {
   "cell_type": "markdown",
   "id": "99b5cc88",
   "metadata": {},
   "source": [
    "<p style='font-size: 22px; line-height: 2; margin: 10px 50px; text-align: justify; color:purple;'> <b>1.1 Sobre os dados:</b></p>\n",
    "\n",
    "<a href = \"https://www.kaggle.com/datasets/arjunbhasin2013/ccdata\" style='font-size: 16px; line-height: 2; margin: 10px 50px; text-align: justify; color:black;'> Arquivo no Kaggle</a>\n",
    "    \n",
    "<p style='font-size: 16px; line-height: 2; margin: 10px 50px; text-align: justify; color:black;'> O conjunto de dados de amostra resume o comportamento de uso de cerca de 9.000 portadores de cartão de crédito ativos durante os últimos 6 meses.  Abaixo estão explicitadas as features.\n",
    "    \n",
    "<li style='font-size: 16px; line-height: 2; margin: 10px 50px; text-align: justify; color:black;'>BALANCE: limite que o cliente tem disponível na conta, descontando o que ele já utilizou\n",
    "    \n",
    "<li style='font-size: 16px; line-height: 2; margin: 10px 50px; text-align: justify; color:black;'>BALANCEFREQUENCY: frequência que esse balanço é alterado.\n",
    "    \n",
    "<li style='font-size: 16px; line-height: 2; margin: 10px 50px; text-align: justify; color:black;'>PURCHASES: Valor gastos em compras.\n",
    "        \n",
    "<li style='font-size: 16px; line-height: 2; margin: 10px 50px; text-align: justify; color:black;'>ONEOFFPURCHASES : Valor máximo de compra feito de uma só vez.\n",
    "    \n",
    "<li style='font-size: 16px; line-height: 2; margin: 10px 50px; text-align: justify; color:black;'> INSTALLMENTSPURCHASES : Valor da compra parcelada.\n",
    "    \n",
    "<li style='font-size: 16px; line-height: 2; margin: 10px 50px; text-align: justify; color:black;'> CASHADVANCE : Dinheiro adiantado dado pelo usuário.\n",
    "    \n",
    "<li style='font-size: 16px; line-height: 2; margin: 10px 50px; text-align: justify; color:black;'>PURCHASESFREQUENCY :Com que frequência as compras estão sendo feitas, pontuação entre 0 e 1 (1 = comprado com frequência, 0 = comprado com pouca frequência).\n",
    "    \n",
    "<li style='font-size: 16px; line-height: 2; margin: 10px 50px; text-align: justify; color:black;'>ONEOFFPURCHASESFREQUENCY: Com que frequência as compras acontecem de uma só vez (1 = compradas com frequência, 0 = compradas sem frequência).\n",
    "    \n",
    "<li style='font-size: 16px; line-height: 2; margin: 10px 50px; text-align: justify; color:black;'>PURCHASESINSTALLMENTSFREQUENCY : Com que frequência as compras parceladas estão sendo feitas (1 = feitas com frequência, 0 = feitas com pouca frequência).\n",
    "\n",
    "<li style='font-size: 16px; line-height: 2; margin: 10px 50px; text-align: justify; color:black;'>CASHADVANCEFREQUENCY:  Com que frequência o dinheiro adiantado está sendo pago.\n",
    "    \n",
    "<li style='font-size: 16px; line-height: 2; margin: 10px 50px; text-align: justify; color:black;'>CASHADVANCETRX :Número de transações feitas com \"Cash in Advanced\".\n",
    "    \n",
    "<li style='font-size: 16px; line-height: 2; margin: 10px 50px; text-align: justify; color:black;'>PURCHASESTRX:Número de transações de compra realizadas.\n",
    "    \n",
    "<li style='font-size: 16px; line-height: 2; margin: 10px 50px; text-align: justify; color:black;'>CREDITLIMIT:Limite de cartão de crédito para usuário.\n",
    "    \n",
    "<li style='font-size: 16px; line-height: 2; margin: 10px 50px; text-align: justify; color:black;'>PAYMENTS: Valor do pagamento feito pelo usuário.\n",
    "    \n",
    "<li style='font-size: 16px; line-height: 2; margin: 10px 50px; text-align: justify; color:black;'>MINIMUM_PAYMENTS: valor mínimo de pagamentos feitos por uso.\n",
    "    \n",
    "<li style='font-size: 16px; line-height: 2; margin: 10px 50px; text-align: justify; color:black;'>PRCFULLPAYMENT: Porcentagem do pagamento integral pago pelo usuário.\n",
    "    \n",
    "<li style='font-size: 16px; line-height: 2; margin: 10px 50px; text-align: justify; color:black;'>TENURE: Posse do serviço de cartão de crédito para o usuário. É o tempo de renovação do contrato."
   ]
  },
  {
   "cell_type": "code",
   "execution_count": 3,
   "id": "3acedd94",
   "metadata": {},
   "outputs": [],
   "source": [
    "dados = pd.read_csv('https://raw.githubusercontent.com/alura-cursos/alura-clustering-validation/base-de-dados/CC%20GENERAL.csv')"
   ]
  },
  {
   "cell_type": "markdown",
   "id": "16d775ba",
   "metadata": {},
   "source": [
    "<p style='font-size: 22px; line-height: 2; margin: 10px 50px; text-align: justify; color:purple;'> <b> 2. Visualizando os dados</b>"
   ]
  },
  {
   "cell_type": "code",
   "execution_count": 4,
   "id": "dd8e128b",
   "metadata": {},
   "outputs": [
    {
     "data": {
      "text/html": [
       "<div>\n",
       "<style scoped>\n",
       "    .dataframe tbody tr th:only-of-type {\n",
       "        vertical-align: middle;\n",
       "    }\n",
       "\n",
       "    .dataframe tbody tr th {\n",
       "        vertical-align: top;\n",
       "    }\n",
       "\n",
       "    .dataframe thead th {\n",
       "        text-align: right;\n",
       "    }\n",
       "</style>\n",
       "<table border=\"1\" class=\"dataframe\">\n",
       "  <thead>\n",
       "    <tr style=\"text-align: right;\">\n",
       "      <th></th>\n",
       "      <th>CUST_ID</th>\n",
       "      <th>BALANCE</th>\n",
       "      <th>BALANCE_FREQUENCY</th>\n",
       "      <th>PURCHASES</th>\n",
       "      <th>ONEOFF_PURCHASES</th>\n",
       "      <th>INSTALLMENTS_PURCHASES</th>\n",
       "      <th>CASH_ADVANCE</th>\n",
       "      <th>PURCHASES_FREQUENCY</th>\n",
       "      <th>ONEOFF_PURCHASES_FREQUENCY</th>\n",
       "      <th>PURCHASES_INSTALLMENTS_FREQUENCY</th>\n",
       "      <th>CASH_ADVANCE_FREQUENCY</th>\n",
       "      <th>CASH_ADVANCE_TRX</th>\n",
       "      <th>PURCHASES_TRX</th>\n",
       "      <th>CREDIT_LIMIT</th>\n",
       "      <th>PAYMENTS</th>\n",
       "      <th>MINIMUM_PAYMENTS</th>\n",
       "      <th>PRC_FULL_PAYMENT</th>\n",
       "      <th>TENURE</th>\n",
       "    </tr>\n",
       "  </thead>\n",
       "  <tbody>\n",
       "    <tr>\n",
       "      <th>0</th>\n",
       "      <td>C10001</td>\n",
       "      <td>40.900749</td>\n",
       "      <td>0.818182</td>\n",
       "      <td>95.40</td>\n",
       "      <td>0.00</td>\n",
       "      <td>95.4</td>\n",
       "      <td>0.000000</td>\n",
       "      <td>0.166667</td>\n",
       "      <td>0.000000</td>\n",
       "      <td>0.083333</td>\n",
       "      <td>0.000000</td>\n",
       "      <td>0</td>\n",
       "      <td>2</td>\n",
       "      <td>1000.0</td>\n",
       "      <td>201.802084</td>\n",
       "      <td>139.509787</td>\n",
       "      <td>0.000000</td>\n",
       "      <td>12</td>\n",
       "    </tr>\n",
       "    <tr>\n",
       "      <th>1</th>\n",
       "      <td>C10002</td>\n",
       "      <td>3202.467416</td>\n",
       "      <td>0.909091</td>\n",
       "      <td>0.00</td>\n",
       "      <td>0.00</td>\n",
       "      <td>0.0</td>\n",
       "      <td>6442.945483</td>\n",
       "      <td>0.000000</td>\n",
       "      <td>0.000000</td>\n",
       "      <td>0.000000</td>\n",
       "      <td>0.250000</td>\n",
       "      <td>4</td>\n",
       "      <td>0</td>\n",
       "      <td>7000.0</td>\n",
       "      <td>4103.032597</td>\n",
       "      <td>1072.340217</td>\n",
       "      <td>0.222222</td>\n",
       "      <td>12</td>\n",
       "    </tr>\n",
       "    <tr>\n",
       "      <th>2</th>\n",
       "      <td>C10003</td>\n",
       "      <td>2495.148862</td>\n",
       "      <td>1.000000</td>\n",
       "      <td>773.17</td>\n",
       "      <td>773.17</td>\n",
       "      <td>0.0</td>\n",
       "      <td>0.000000</td>\n",
       "      <td>1.000000</td>\n",
       "      <td>1.000000</td>\n",
       "      <td>0.000000</td>\n",
       "      <td>0.000000</td>\n",
       "      <td>0</td>\n",
       "      <td>12</td>\n",
       "      <td>7500.0</td>\n",
       "      <td>622.066742</td>\n",
       "      <td>627.284787</td>\n",
       "      <td>0.000000</td>\n",
       "      <td>12</td>\n",
       "    </tr>\n",
       "    <tr>\n",
       "      <th>3</th>\n",
       "      <td>C10004</td>\n",
       "      <td>1666.670542</td>\n",
       "      <td>0.636364</td>\n",
       "      <td>1499.00</td>\n",
       "      <td>1499.00</td>\n",
       "      <td>0.0</td>\n",
       "      <td>205.788017</td>\n",
       "      <td>0.083333</td>\n",
       "      <td>0.083333</td>\n",
       "      <td>0.000000</td>\n",
       "      <td>0.083333</td>\n",
       "      <td>1</td>\n",
       "      <td>1</td>\n",
       "      <td>7500.0</td>\n",
       "      <td>0.000000</td>\n",
       "      <td>NaN</td>\n",
       "      <td>0.000000</td>\n",
       "      <td>12</td>\n",
       "    </tr>\n",
       "    <tr>\n",
       "      <th>4</th>\n",
       "      <td>C10005</td>\n",
       "      <td>817.714335</td>\n",
       "      <td>1.000000</td>\n",
       "      <td>16.00</td>\n",
       "      <td>16.00</td>\n",
       "      <td>0.0</td>\n",
       "      <td>0.000000</td>\n",
       "      <td>0.083333</td>\n",
       "      <td>0.083333</td>\n",
       "      <td>0.000000</td>\n",
       "      <td>0.000000</td>\n",
       "      <td>0</td>\n",
       "      <td>1</td>\n",
       "      <td>1200.0</td>\n",
       "      <td>678.334763</td>\n",
       "      <td>244.791237</td>\n",
       "      <td>0.000000</td>\n",
       "      <td>12</td>\n",
       "    </tr>\n",
       "  </tbody>\n",
       "</table>\n",
       "</div>"
      ],
      "text/plain": [
       "  CUST_ID      BALANCE  BALANCE_FREQUENCY  PURCHASES  ONEOFF_PURCHASES  \\\n",
       "0  C10001    40.900749           0.818182      95.40              0.00   \n",
       "1  C10002  3202.467416           0.909091       0.00              0.00   \n",
       "2  C10003  2495.148862           1.000000     773.17            773.17   \n",
       "3  C10004  1666.670542           0.636364    1499.00           1499.00   \n",
       "4  C10005   817.714335           1.000000      16.00             16.00   \n",
       "\n",
       "   INSTALLMENTS_PURCHASES  CASH_ADVANCE  PURCHASES_FREQUENCY  \\\n",
       "0                    95.4      0.000000             0.166667   \n",
       "1                     0.0   6442.945483             0.000000   \n",
       "2                     0.0      0.000000             1.000000   \n",
       "3                     0.0    205.788017             0.083333   \n",
       "4                     0.0      0.000000             0.083333   \n",
       "\n",
       "   ONEOFF_PURCHASES_FREQUENCY  PURCHASES_INSTALLMENTS_FREQUENCY  \\\n",
       "0                    0.000000                          0.083333   \n",
       "1                    0.000000                          0.000000   \n",
       "2                    1.000000                          0.000000   \n",
       "3                    0.083333                          0.000000   \n",
       "4                    0.083333                          0.000000   \n",
       "\n",
       "   CASH_ADVANCE_FREQUENCY  CASH_ADVANCE_TRX  PURCHASES_TRX  CREDIT_LIMIT  \\\n",
       "0                0.000000                 0              2        1000.0   \n",
       "1                0.250000                 4              0        7000.0   \n",
       "2                0.000000                 0             12        7500.0   \n",
       "3                0.083333                 1              1        7500.0   \n",
       "4                0.000000                 0              1        1200.0   \n",
       "\n",
       "      PAYMENTS  MINIMUM_PAYMENTS  PRC_FULL_PAYMENT  TENURE  \n",
       "0   201.802084        139.509787          0.000000      12  \n",
       "1  4103.032597       1072.340217          0.222222      12  \n",
       "2   622.066742        627.284787          0.000000      12  \n",
       "3     0.000000               NaN          0.000000      12  \n",
       "4   678.334763        244.791237          0.000000      12  "
      ]
     },
     "execution_count": 4,
     "metadata": {},
     "output_type": "execute_result"
    }
   ],
   "source": [
    "dados.head()"
   ]
  },
  {
   "cell_type": "code",
   "execution_count": 5,
   "id": "98f9b832",
   "metadata": {},
   "outputs": [
    {
     "data": {
      "text/plain": [
       "(8950, 18)"
      ]
     },
     "execution_count": 5,
     "metadata": {},
     "output_type": "execute_result"
    }
   ],
   "source": [
    "dados.shape"
   ]
  },
  {
   "cell_type": "markdown",
   "id": "57549a99",
   "metadata": {},
   "source": [
    "<p style='font-size: 22px; line-height: 2; margin: 20px 50px; text-align: justify; color:purple;'> <b> 3. Pré-processamento dos dados</b>\n",
    "    \n",
    "    \n",
    "<p style='font-size: 22px; line-height: 2; margin: 10px 50px; text-align: justify; color:purple;'> <b> 3.1 Retirada de features</b>    \n",
    "    \n",
    "<p style='font-size: 16px; line-height: 2; margin: 10px 50px; text-align: justify; color:black;'>Limpar e retirar o que for desnecessário e organizar as informações para diminuir o risco de possíveis problemas durante a clusterização. Serão removidos as features TENURE por ser constante, e o ID."
   ]
  },
  {
   "cell_type": "code",
   "execution_count": 6,
   "id": "29f477b1",
   "metadata": {},
   "outputs": [],
   "source": [
    "dados.drop(columns=['TENURE', 'CUST_ID'], inplace = True)"
   ]
  },
  {
   "cell_type": "code",
   "execution_count": 7,
   "id": "5838629f",
   "metadata": {},
   "outputs": [
    {
     "data": {
      "text/html": [
       "<div>\n",
       "<style scoped>\n",
       "    .dataframe tbody tr th:only-of-type {\n",
       "        vertical-align: middle;\n",
       "    }\n",
       "\n",
       "    .dataframe tbody tr th {\n",
       "        vertical-align: top;\n",
       "    }\n",
       "\n",
       "    .dataframe thead th {\n",
       "        text-align: right;\n",
       "    }\n",
       "</style>\n",
       "<table border=\"1\" class=\"dataframe\">\n",
       "  <thead>\n",
       "    <tr style=\"text-align: right;\">\n",
       "      <th></th>\n",
       "      <th>BALANCE</th>\n",
       "      <th>BALANCE_FREQUENCY</th>\n",
       "      <th>PURCHASES</th>\n",
       "      <th>ONEOFF_PURCHASES</th>\n",
       "      <th>INSTALLMENTS_PURCHASES</th>\n",
       "      <th>CASH_ADVANCE</th>\n",
       "      <th>PURCHASES_FREQUENCY</th>\n",
       "      <th>ONEOFF_PURCHASES_FREQUENCY</th>\n",
       "      <th>PURCHASES_INSTALLMENTS_FREQUENCY</th>\n",
       "      <th>CASH_ADVANCE_FREQUENCY</th>\n",
       "      <th>CASH_ADVANCE_TRX</th>\n",
       "      <th>PURCHASES_TRX</th>\n",
       "      <th>CREDIT_LIMIT</th>\n",
       "      <th>PAYMENTS</th>\n",
       "      <th>MINIMUM_PAYMENTS</th>\n",
       "      <th>PRC_FULL_PAYMENT</th>\n",
       "    </tr>\n",
       "  </thead>\n",
       "  <tbody>\n",
       "    <tr>\n",
       "      <th>0</th>\n",
       "      <td>40.900749</td>\n",
       "      <td>0.818182</td>\n",
       "      <td>95.40</td>\n",
       "      <td>0.00</td>\n",
       "      <td>95.4</td>\n",
       "      <td>0.000000</td>\n",
       "      <td>0.166667</td>\n",
       "      <td>0.000000</td>\n",
       "      <td>0.083333</td>\n",
       "      <td>0.000000</td>\n",
       "      <td>0</td>\n",
       "      <td>2</td>\n",
       "      <td>1000.0</td>\n",
       "      <td>201.802084</td>\n",
       "      <td>139.509787</td>\n",
       "      <td>0.000000</td>\n",
       "    </tr>\n",
       "    <tr>\n",
       "      <th>1</th>\n",
       "      <td>3202.467416</td>\n",
       "      <td>0.909091</td>\n",
       "      <td>0.00</td>\n",
       "      <td>0.00</td>\n",
       "      <td>0.0</td>\n",
       "      <td>6442.945483</td>\n",
       "      <td>0.000000</td>\n",
       "      <td>0.000000</td>\n",
       "      <td>0.000000</td>\n",
       "      <td>0.250000</td>\n",
       "      <td>4</td>\n",
       "      <td>0</td>\n",
       "      <td>7000.0</td>\n",
       "      <td>4103.032597</td>\n",
       "      <td>1072.340217</td>\n",
       "      <td>0.222222</td>\n",
       "    </tr>\n",
       "    <tr>\n",
       "      <th>2</th>\n",
       "      <td>2495.148862</td>\n",
       "      <td>1.000000</td>\n",
       "      <td>773.17</td>\n",
       "      <td>773.17</td>\n",
       "      <td>0.0</td>\n",
       "      <td>0.000000</td>\n",
       "      <td>1.000000</td>\n",
       "      <td>1.000000</td>\n",
       "      <td>0.000000</td>\n",
       "      <td>0.000000</td>\n",
       "      <td>0</td>\n",
       "      <td>12</td>\n",
       "      <td>7500.0</td>\n",
       "      <td>622.066742</td>\n",
       "      <td>627.284787</td>\n",
       "      <td>0.000000</td>\n",
       "    </tr>\n",
       "    <tr>\n",
       "      <th>3</th>\n",
       "      <td>1666.670542</td>\n",
       "      <td>0.636364</td>\n",
       "      <td>1499.00</td>\n",
       "      <td>1499.00</td>\n",
       "      <td>0.0</td>\n",
       "      <td>205.788017</td>\n",
       "      <td>0.083333</td>\n",
       "      <td>0.083333</td>\n",
       "      <td>0.000000</td>\n",
       "      <td>0.083333</td>\n",
       "      <td>1</td>\n",
       "      <td>1</td>\n",
       "      <td>7500.0</td>\n",
       "      <td>0.000000</td>\n",
       "      <td>NaN</td>\n",
       "      <td>0.000000</td>\n",
       "    </tr>\n",
       "    <tr>\n",
       "      <th>4</th>\n",
       "      <td>817.714335</td>\n",
       "      <td>1.000000</td>\n",
       "      <td>16.00</td>\n",
       "      <td>16.00</td>\n",
       "      <td>0.0</td>\n",
       "      <td>0.000000</td>\n",
       "      <td>0.083333</td>\n",
       "      <td>0.083333</td>\n",
       "      <td>0.000000</td>\n",
       "      <td>0.000000</td>\n",
       "      <td>0</td>\n",
       "      <td>1</td>\n",
       "      <td>1200.0</td>\n",
       "      <td>678.334763</td>\n",
       "      <td>244.791237</td>\n",
       "      <td>0.000000</td>\n",
       "    </tr>\n",
       "  </tbody>\n",
       "</table>\n",
       "</div>"
      ],
      "text/plain": [
       "       BALANCE  BALANCE_FREQUENCY  PURCHASES  ONEOFF_PURCHASES  \\\n",
       "0    40.900749           0.818182      95.40              0.00   \n",
       "1  3202.467416           0.909091       0.00              0.00   \n",
       "2  2495.148862           1.000000     773.17            773.17   \n",
       "3  1666.670542           0.636364    1499.00           1499.00   \n",
       "4   817.714335           1.000000      16.00             16.00   \n",
       "\n",
       "   INSTALLMENTS_PURCHASES  CASH_ADVANCE  PURCHASES_FREQUENCY  \\\n",
       "0                    95.4      0.000000             0.166667   \n",
       "1                     0.0   6442.945483             0.000000   \n",
       "2                     0.0      0.000000             1.000000   \n",
       "3                     0.0    205.788017             0.083333   \n",
       "4                     0.0      0.000000             0.083333   \n",
       "\n",
       "   ONEOFF_PURCHASES_FREQUENCY  PURCHASES_INSTALLMENTS_FREQUENCY  \\\n",
       "0                    0.000000                          0.083333   \n",
       "1                    0.000000                          0.000000   \n",
       "2                    1.000000                          0.000000   \n",
       "3                    0.083333                          0.000000   \n",
       "4                    0.083333                          0.000000   \n",
       "\n",
       "   CASH_ADVANCE_FREQUENCY  CASH_ADVANCE_TRX  PURCHASES_TRX  CREDIT_LIMIT  \\\n",
       "0                0.000000                 0              2        1000.0   \n",
       "1                0.250000                 4              0        7000.0   \n",
       "2                0.000000                 0             12        7500.0   \n",
       "3                0.083333                 1              1        7500.0   \n",
       "4                0.000000                 0              1        1200.0   \n",
       "\n",
       "      PAYMENTS  MINIMUM_PAYMENTS  PRC_FULL_PAYMENT  \n",
       "0   201.802084        139.509787          0.000000  \n",
       "1  4103.032597       1072.340217          0.222222  \n",
       "2   622.066742        627.284787          0.000000  \n",
       "3     0.000000               NaN          0.000000  \n",
       "4   678.334763        244.791237          0.000000  "
      ]
     },
     "execution_count": 7,
     "metadata": {},
     "output_type": "execute_result"
    }
   ],
   "source": [
    "dados.head()"
   ]
  },
  {
   "cell_type": "markdown",
   "id": "6fb66d8d",
   "metadata": {},
   "source": [
    "<p style='font-size: 22px; line-height: 2; margin: 10px 50px; text-align: justify; color:purple;'> <b> 3.2 Tratamento de dados faltantes</b>"
   ]
  },
  {
   "cell_type": "code",
   "execution_count": 8,
   "id": "4cdec82b",
   "metadata": {},
   "outputs": [
    {
     "data": {
      "text/plain": [
       "BALANCE                               0\n",
       "BALANCE_FREQUENCY                     0\n",
       "PURCHASES                             0\n",
       "ONEOFF_PURCHASES                      0\n",
       "INSTALLMENTS_PURCHASES                0\n",
       "CASH_ADVANCE                          0\n",
       "PURCHASES_FREQUENCY                   0\n",
       "ONEOFF_PURCHASES_FREQUENCY            0\n",
       "PURCHASES_INSTALLMENTS_FREQUENCY      0\n",
       "CASH_ADVANCE_FREQUENCY                0\n",
       "CASH_ADVANCE_TRX                      0\n",
       "PURCHASES_TRX                         0\n",
       "CREDIT_LIMIT                          1\n",
       "PAYMENTS                              0\n",
       "MINIMUM_PAYMENTS                    313\n",
       "PRC_FULL_PAYMENT                      0\n",
       "dtype: int64"
      ]
     },
     "execution_count": 8,
     "metadata": {},
     "output_type": "execute_result"
    }
   ],
   "source": [
    "# Procurando dados faltantes\n",
    "missing = dados.isna().sum()\n",
    "missing"
   ]
  },
  {
   "cell_type": "code",
   "execution_count": 9,
   "id": "b0297302",
   "metadata": {},
   "outputs": [
    {
     "data": {
      "text/plain": [
       "CREDIT_LIMIT        3000.000000\n",
       "MINIMUM_PAYMENTS     312.343947\n",
       "dtype: float64"
      ]
     },
     "execution_count": 9,
     "metadata": {},
     "output_type": "execute_result"
    }
   ],
   "source": [
    "# Para os dados faltantes será adotado o valor da mediana da feature.\n",
    "dados[['CREDIT_LIMIT', 'MINIMUM_PAYMENTS']].median()"
   ]
  },
  {
   "cell_type": "code",
   "execution_count": 10,
   "id": "059cf38b",
   "metadata": {},
   "outputs": [],
   "source": [
    "# Substituindo\n",
    "dados.fillna(dados.median(), inplace=True)"
   ]
  },
  {
   "cell_type": "code",
   "execution_count": 11,
   "id": "06fdb9fe",
   "metadata": {},
   "outputs": [
    {
     "data": {
      "text/plain": [
       "BALANCE                             0\n",
       "BALANCE_FREQUENCY                   0\n",
       "PURCHASES                           0\n",
       "ONEOFF_PURCHASES                    0\n",
       "INSTALLMENTS_PURCHASES              0\n",
       "CASH_ADVANCE                        0\n",
       "PURCHASES_FREQUENCY                 0\n",
       "ONEOFF_PURCHASES_FREQUENCY          0\n",
       "PURCHASES_INSTALLMENTS_FREQUENCY    0\n",
       "CASH_ADVANCE_FREQUENCY              0\n",
       "CASH_ADVANCE_TRX                    0\n",
       "PURCHASES_TRX                       0\n",
       "CREDIT_LIMIT                        0\n",
       "PAYMENTS                            0\n",
       "MINIMUM_PAYMENTS                    0\n",
       "PRC_FULL_PAYMENT                    0\n",
       "dtype: int64"
      ]
     },
     "execution_count": 11,
     "metadata": {},
     "output_type": "execute_result"
    }
   ],
   "source": [
    "# Verificando \n",
    "missing = dados.isna().sum()\n",
    "missing"
   ]
  },
  {
   "cell_type": "markdown",
   "id": "8903db69",
   "metadata": {},
   "source": [
    "<p style='font-size: 22px; line-height: 2; margin: 10px 50px; text-align: justify; color:purple;'> <b> 3.3 Normalização dos dados</b></p>\n",
    "<a style='font-size: 16px; line-height: 2; margin: 10px 50px; text-align: justify; color:black;' href=\" https://scikit-learn.org/stable/modules/generated/sklearn.preprocessing.Normalizer.html\">Documentação SKlearn</a>  "
   ]
  },
  {
   "cell_type": "code",
   "execution_count": 12,
   "id": "7804c316",
   "metadata": {},
   "outputs": [
    {
     "data": {
      "text/plain": [
       "array([[3.93555441e-02, 7.87271593e-04, 9.17958473e-02, ...,\n",
       "        1.94178127e-01, 1.34239194e-01, 0.00000000e+00],\n",
       "       [2.93875903e-01, 8.34231560e-05, 0.00000000e+00, ...,\n",
       "        3.76516684e-01, 9.84037959e-02, 2.03923046e-05],\n",
       "       [3.10798149e-01, 1.24560965e-04, 9.63068011e-02, ...,\n",
       "        7.74852335e-02, 7.81351982e-02, 0.00000000e+00],\n",
       "       ...,\n",
       "       [2.27733092e-02, 8.11060955e-04, 1.40540698e-01, ...,\n",
       "        7.90986945e-02, 8.02156174e-02, 2.43318384e-04],\n",
       "       [2.65257948e-02, 1.64255731e-03, 0.00000000e+00, ...,\n",
       "        1.03579625e-01, 1.09898221e-01, 4.92767391e-04],\n",
       "       [1.86406219e-01, 3.33426837e-04, 5.46778061e-01, ...,\n",
       "        3.15915455e-02, 4.41568390e-02, 0.00000000e+00]])"
      ]
     },
     "execution_count": 12,
     "metadata": {},
     "output_type": "execute_result"
    }
   ],
   "source": [
    "from sklearn.preprocessing import Normalizer\n",
    "\n",
    "values = Normalizer().fit_transform(dados.values)\n",
    "values"
   ]
  },
  {
   "cell_type": "markdown",
   "id": "47d57802",
   "metadata": {},
   "source": [
    "<p style='font-size: 22px; line-height: 2; margin: 10px 50px; text-align: justify; color:purple;'> <b> 4. Executando o clustering</b></p>\n",
    "\n",
    "<a style='font-size: 16px; line-height: 2; margin: 10px 50px; text-align: justify; color:black;' href=\"https://scikit-learn.org/stable/modules/generated/sklearn.cluster.KMeans.html\">Documentação do KMeans</a>  \n",
    "<a style='font-size: 16px; line-height: 2; margin: 10px 50px; text-align: justify; color:black;' href=\" https://medium.com/programadores-ajudando-programadores/k-means-o-que-%C3%A9-como-funciona-aplica%C3%A7%C3%B5es-e-exemplo-em-python-6021df6e2572\">K-means</a>    \n",
    "\n",
    "<p style='font-size: 16px; line-height: 2; margin: 10px 50px; text-align: justify; color:black;'>K-Means é um algoritmo de clusterização (ou agrupamento) disponível na biblioteca Scikit-Learn.\n",
    "É um algoritmo de aprendizado não supervisionado (ou seja, que não precisa de inputs de confirmação externos) que avalia e clusteriza os dados de acordo com suas características.\n",
    "    \n",
    "<p style='font-size: 16px; line-height: 2; margin: 10px 50px; text-align: justify; color:black;'><b>n_init</b> como 10, o que isso significa? O KMeans é um algoritmo não-determinístico, isto é, a cada execução, obteremos um resultado diferente. Então configurando o valor 10, dez vezes seguidas o caminho deve retornar o mesmo valor.\n",
    "    \n",
    "    "
   ]
  },
  {
   "cell_type": "code",
   "execution_count": 13,
   "id": "edba03ab",
   "metadata": {},
   "outputs": [],
   "source": [
    "from sklearn.cluster import KMeans\n",
    "\n",
    "kmeans = KMeans(n_clusters=5, n_init=10, max_iter=300)"
   ]
  },
  {
   "cell_type": "code",
   "execution_count": 14,
   "id": "ce186bd9",
   "metadata": {},
   "outputs": [
    {
     "data": {
      "text/plain": [
       "array([1, 0, 1, ..., 1, 1, 3])"
      ]
     },
     "execution_count": 14,
     "metadata": {},
     "output_type": "execute_result"
    }
   ],
   "source": [
    "# resultado do kmeans\n",
    "y_pred = kmeans.fit_predict(values)\n",
    "y_pred"
   ]
  },
  {
   "cell_type": "code",
   "execution_count": 15,
   "id": "2927191c",
   "metadata": {},
   "outputs": [
    {
     "data": {
      "text/plain": [
       "array([0, 1, 2, 3, 4])"
      ]
     },
     "execution_count": 15,
     "metadata": {},
     "output_type": "execute_result"
    }
   ],
   "source": [
    "# Vendo quantos clusters\n",
    "np.unique(y_pred)"
   ]
  },
  {
   "cell_type": "markdown",
   "id": "ce330dac",
   "metadata": {},
   "source": [
    "<p style='font-size: 22px; line-height: 2; margin: 10px 50px; text-align: justify; color:purple;'> <b> 4.1 Validação do clustering</b></p>\n",
    "\n",
    "<p style='font-size: 16px; line-height: 2; margin: 10px 50px; text-align: justify; color:black;'>No caso das <b>métricas externas</b>, precisamos ter labels para realizar cálculos e gerar a validação. Como não temos labels, não a utilizaremos neste projeto. Já as métricas internas independem de labels, ainda que possuam uma estrutura mais complexa.\n",
    "\n",
    "<p style='font-size: 16px; line-height: 2; margin: 10px 50px; text-align: justify; color:black;'>As <b>métricas internas</b> se baseiam em dois critérios de validação, e o primeiro deles é compactação, que nos relata quão próximos estão os pontos em um mesmo cluster. Quanto mais próximos os pontos, mais compactado ele está."
   ]
  },
  {
   "cell_type": "markdown",
   "id": "02f48986",
   "metadata": {},
   "source": [
    "<p style='font-size: 22px; line-height: 2; margin: 10px 50px; text-align: justify; color:purple;'> <b> 4.2 Coeficiente de Silhueta K-means</b></p>\n",
    "\n",
    "<a style='font-size: 16px; line-height: 2; margin: 10px 50px; text-align: justify; color:black;' href=\" https://scikit-learn.org/stable/modules/generated/sklearn.metrics.silhouette_score.html\">Documentação</a>       \n",
    "<a style='font-size: 16px; line-height: 2; margin: 10px 50px; text-align: justify; color:black;' href=\" https://medium.com/cwi-software/entendendo-clusters-e-k-means-56b79352b452\">Coeficiente de silhueta</a>    \n",
    "    \n",
    "    \n",
    "<p style='font-size: 16px; line-height: 2; margin: 10px 50px; text-align: justify; color:black;'><b>Qual é o objetivo do coeficiente de silhueta?</b> Avaliar os pontos em uma escala de -1 a 1, em relação ao grupo que é a coesão. Exemplo: A minha casa em relação aos membros do meu bairro, em relação aos demais pontos dos outros grupos, que é a de similaridade, ou seja, a minha casa em relação às casas dos outros bairros.\n",
    "\n",
    "<p style='font-size: 16px; line-height: 2; margin: 10px 50px; text-align: justify; color:black;'> Quanto maior o valor do coeficiente de silhueta, ou seja, quanto maior a coesão e maior a similaridade, melhor e mais bem organizado, mais bem agrupado - segundo o critério de distância - estão os meus pontos."
   ]
  },
  {
   "cell_type": "code",
   "execution_count": 16,
   "id": "32605120",
   "metadata": {},
   "outputs": [
    {
     "data": {
      "text/plain": [
       "0.3645268652444429"
      ]
     },
     "execution_count": 16,
     "metadata": {},
     "output_type": "execute_result"
    }
   ],
   "source": [
    "from sklearn.metrics import silhouette_score\n",
    "\n",
    "# Etiqueta dos grupos (clusters)\n",
    "labels = kmeans.labels_\n",
    "\n",
    "# Média do coeficiente de silhoette\n",
    "silhouette = silhouette_score(values, labels, metric = 'euclidean')\n",
    "\n",
    "# Um valor positivo pode ser considerado bom pois ele é maior que 0\n",
    "# Com isso conseguiremos ter uma ideia se o cluster está bom de acordo com esta métrica ou não.\n",
    "silhouette"
   ]
  },
  {
   "cell_type": "markdown",
   "id": "1f1fdc15",
   "metadata": {},
   "source": [
    "<p style='font-size: 22px; line-height: 2; margin: 10px 50px; text-align: justify; color:purple;'> <b> 4.3 Davies-Bouldin</b></p>\n",
    "\n",
    "<a style='font-size: 16px; line-height: 2; margin: 10px 50px; text-align: justify; color:black;' href=\"https://scikit-learn.org/stable/modules/generated/sklearn.metrics.davies_bouldin_score.html\">Documentação Davies-Bouldin</a>    \n",
    "\n",
    "<p style='font-size: 16px; line-height: 2; margin: 10px 50px; text-align: justify; color:black;'>O índice de Davies-Bouldin serve para checarmos se os clusters estão bem separados e bem compactos. Quanto mais próximo de 0, melhor serão os clusters.\n",
    "\n",
    "<p style='font-size: 16px; line-height: 2; margin: 10px 50px; text-align: justify; color:black;'>Para encontrarmos o índice Davies-Bouldin (DB), precisamos tirar a média da soma dos máximos das medidas de similaridade (R_i_j) de cada cluster. A fórmula do índice é dada por DB igual ao quociente com numerador sendo o somatório dos máximos das medidas de similaridades (R_i_j) de cada cluster e denominador sendo a quantidade de clusters definido por k.\n",
    "\n",
    "    \n",
    "<p style='font-size: 16px; line-height: 2; margin: 10px 50px; text-align: justify; color:black;'> <b>Exemplo:</b></p>\n",
    "<img src=\"img/davies.png\" width=\"400\" align=\"center\">\n",
    "<br>\n",
    "<br>\n",
    "<img src=\"img/davies2.png\" width=\"240\" align=\"left\">\n",
    "<img src=\"img/davies3.png\" width=\"240\" align=\"left\">\n",
    "<img src=\"img/davies5.png\" width=\"240\" align=\"left\">\n",
    "<img src=\"img/davies6.png\" width=\"240\" align=\"left\">"
   ]
  },
  {
   "cell_type": "markdown",
   "id": "225e5c3f",
   "metadata": {},
   "source": [
    "<p style='font-size: 16px; line-height: 2; margin: 10px 50px; text-align: justify; color:black;'> Deve ser escolhida a pior combinação para cada um dos clusters, porque se em uma situação a \"pior\" for boa, garantimos que a clusterização é boa."
   ]
  },
  {
   "cell_type": "code",
   "execution_count": 17,
   "id": "378441e1",
   "metadata": {},
   "outputs": [
    {
     "data": {
      "text/plain": [
       "1.0758562764119164"
      ]
     },
     "execution_count": 17,
     "metadata": {},
     "output_type": "execute_result"
    }
   ],
   "source": [
    "from sklearn.metrics import davies_bouldin_score\n",
    "\n",
    "# Será passado os values = dados normalizados e os labels = clusters\n",
    "dbs = davies_bouldin_score(values, labels)\n",
    "dbs"
   ]
  },
  {
   "cell_type": "markdown",
   "id": "805d8f39",
   "metadata": {},
   "source": [
    "<p style='font-size: 16px; line-height: 2; margin: 10px 50px; text-align: justify; color:black;'> O valor obtido de 1.075 indica uma clusterização melhor do que a do exemplo mostrado acima."
   ]
  },
  {
   "cell_type": "markdown",
   "id": "cadaa957",
   "metadata": {},
   "source": [
    "<p style='font-size: 22px; line-height: 2; margin: 10px 50px; text-align: justify; color:purple;'> <b> 4.4 Calinski-Harabasz</b></p>\n",
    "\n",
    "<a style='font-size: 16px; line-height: 2; margin: 10px 50px; text-align: justify; color:black;' href=\"https://scikit-learn.org/stable/modules/generated/sklearn.metrics.calinski_harabasz_score.html\">Documentação Calinski-Harabasz</a>    \n",
    "\n",
    "<p style='font-size: 16px; line-height: 2; margin: 10px 50px; text-align: justify; color:black;'>O Índice Calinski-Harabasz (CH pode ser usado para avaliar o modelo quando os rótulos verdadeiros não são conhecidos, onde a validação de quão bem o agrupamento foi feito é feita usando quantidades e recursos inerentes ao conjunto de dados. O índice CH (também conhecido como critério de razão de variância ) é uma medida de quão semelhante um objeto é ao seu próprio cluster (coesão) em comparação com outros clusters (separação). Aqui, a coesão é estimada com base nas distâncias dos pontos de dados em um cluster ao seu centróide do cluster e a separação é baseada na distância dos centróides do cluster do centróide global. O índice CH tem uma forma de (a. Separação) / (b. Coesão), onde aeb são pesos. \n",
    "    \n",
    "<p style='font-size: 16px; line-height: 2; margin: 10px 50px; text-align: justify; color:black;'> <b>Exemplo:</b></p>\n",
    "<img src=\"img/calinski1.png\" width=\"300\" align=\"center\">\n",
    "\n",
    "<p style='font-size: 16px; line-height: 2; margin: 10px 50px; text-align: justify; color:black;'> Essa formula é divida em duas partes principais. A primeira, nos fornece a razão entre a dispersão dentro do cluster e entre clusters. Já a segunda parte, o valor é multiplicado em relação ao número de clusters e elementos.\n",
    "    \n",
    "<li style='font-size: 16px; line-height: 2; margin: 10px 50px; text-align: justify; color:black;'>  n_e = número de elementos </li>\n",
    "    \n",
    "<li style='font-size: 16px; line-height: 2; margin: 10px 50px; text-align: justify; color:black;'>  k = número de clusters </li>\n",
    "    \n",
    "<li style='font-size: 16px; line-height: 2; margin: 10px 50px; text-align: justify; color:black;'>  B_k = dispersão dos elementos entre<i> (between)</i> clusters, se <b>↑</b> melhor.</li> \n",
    "    \n",
    "<li style='font-size: 16px; line-height: 2; margin: 10px 50px; text-align: justify; color:black;'> W_k = dispersão dos elementos dentro <i>(within)</i> do cluster, se <b>↓</b> melhor. </li>\n",
    "   \n",
    "<img src=\"img/calinski2.png\" width=\"300\" align=\"center\">\n",
    "    \n",
    "<p style='font-size: 16px; line-height: 2; margin: 10px 50px; text-align: justify; color:black;'> A parte do somatório interno representa uma matriz de variância-covariância para cada uma das variáveis que temos.\n",
    "\n",
    "<li style='font-size: 16px; line-height: 2; margin: 10px 50px; text-align: justify; color:black;'>  k = número de clusters </li>\n",
    "    \n",
    "<li style='font-size: 16px; line-height: 2; margin: 10px 50px; text-align: justify; color:black;'> q = cluster </li>\n",
    "    \n",
    "<img src=\"img/calinski4.png\" width=\"400\" align=\"center\">  \n",
    "<img src=\"img/calinski5.png\" width=\"380\" align=\"center\">\n",
    "<img src=\"img/calinski6.png\" width=\"380\" align=\"center\">\n",
    "<img src=\"img/calinski7.png\" width=\"280\" align=\"center\">\n",
    "    \n",
    "<p style='font-size: 16px; line-height: 2; margin: 10px 50px; text-align: justify; color:black;'>O mesmo cálculo deve ser realizado para os clusters restantes e somar as matrizes.\n",
    "<br>    \n",
    "<img src=\"img/calinski8.png\" width=\"380\" align=\"center\">\n",
    "    \n",
    "<img src=\"img/calinski10.png\" width=\"280\" align=\"center\">\n",
    "    \n",
    "<p style='font-size: 16px; line-height: 2; margin: 10px 50px; text-align: justify; color:black;'>A ideia é que o valor de <b>x</b> seja o <b><i>menor</i></b> possível, em relação a variável x temos um cluster mais compacto, o que difere no caso <b>y</b> não apresenta a mesma compactação.\n",
    "    \n",
    "<p style='font-size: 16px; line-height: 2; margin: 10px 50px; text-align: justify; color:black;'>Podemos pensar que x seja o valor total de compras, então todos os clientes que estão dentro do cluster possuem um valor mais similar e conciso dentro do grupo, já y pode ser o débito que possuem dentro da empresa de cartão de crédito.\n",
    "<br>\n",
    "<img src=\"img/calinski11.png\" width=\"280\" align=\"center\">\n",
    "<img src=\"img/calinski12.png\" width=\"280\" align=\"center\">\n",
    "    \n",
    "<p style='font-size: 16px; line-height: 2; margin: 10px 50px; text-align: justify; color:black;'>Temos a fórmula do índice de Calinski-Harabasz ou \"Bk\", que também se estrutura em duas partes. Na segunda parte, temos alguns valores diferentes, como \"n\" com índice \"q\".</p>\n",
    "<img src=\"img/calinski13.png\" width=\"280\" align=\"center\">\n",
    "<li style='font-size: 16px; line-height: 2; margin: 10px 50px; text-align: justify; color:black;'>  k = número de clusters </li>\n",
    "    \n",
    "<li style='font-size: 16px; line-height: 2; margin: 10px 50px; text-align: justify; color:black;'> q = cluster </li>\n",
    "<li style='font-size: 16px; line-height: 2; margin: 10px 50px; text-align: justify; color:black;'> nq = número de elementos no cluster </li>\n",
    "<li style='font-size: 16px; line-height: 2; margin: 10px 50px; text-align: justify; color:black;'> cq = centroide do cluster.</li>\n",
    "<li style='font-size: 16px; line-height: 2; margin: 10px 50px; text-align: justify; color:black;'> ce = centroide dos elementos.</li>\n",
    "<img src=\"img/calinski14.png\" width=\"380\" align=\"center\">\n",
    "\n",
    "\n",
    "<p style='font-size: 16px; line-height: 2; margin: 10px 50px; text-align: justify; color:black;'>Levaremos em consideração as matrizes do centróide do cluster e do centróide dos elementos no total. Basicamente, mediremos a distância entre o centróide de um cluster com o centróide total.\n",
    "    \n",
    "<img src=\"img/calinski15.png\" width=\"380\" align=\"center\">\n",
    "<img src=\"img/calinski16.png\" width=\"280\" align=\"center\">\n",
    "    \n",
    "<p style='font-size: 16px; line-height: 2; margin: 10px 50px; text-align: justify; color:black;'>Multiplicaremos esses dois valores pelo número de elementos que existem dentro do cluster. Já vimos que o valor é <b>3</b>, teremos:\n",
    "    \n",
    "<img src=\"img/calinski17.png\" width=\"280\" align=\"center\">\n",
    "    \n",
    "<p style='font-size: 16px; line-height: 2; margin: 10px 50px; text-align: justify; color:black;'> O mesmo cálculo deve ser aplicado para os demais clusters.\n",
    "    \n",
    "<img src=\"img/calinski18.png\" width=\"280\" align=\"center\">\n",
    "<img src=\"img/calinski19.png\" width=\"380\" align=\"center\">\n",
    "<img src=\"img/calinski20.png\" width=\"280\" align=\"center\">\n",
    "    \n",
    "    \n",
    "<p style='font-size: 16px; line-height: 2; margin: 10px 50px; text-align: justify; color:black;'> No resultado, conseguiremos ver que o valor de <b>y' é muito maior que o de x'</b>. A discussão se dá em termos internos de um cluster, e neste caso <b>queremos aumentar a dispersão dos pontos entre clusters</b>, portanto possui um <b>bom</b> valor em relação ao anterior. Para obter o tr(B_k) basta somar x'x' e y'y'.\n",
    "    \n",
    "<img src=\"img/calinski21.png\" width=\"180\" align=\"center\">\n",
    "    \n",
    "<p style='font-size: 16px; line-height: 2; margin: 10px 50px; text-align: justify; color:black;'>  Com tudo calculado, basta substituir os valores na formula geral.\n",
    "    \n",
    "<img src=\"img/calinski22.png\" width=\"180\" align=\"center\">\n",
    "<img src=\"img/calinski23.png\" width=\"140\" align=\"center\">\n",
    "    \n",
    "<p style='font-size: 16px; line-height: 2; margin: 10px 50px; text-align: justify; color:black;'>O resultado será 47,64. Esse é o valor final para nosso índice Calinski-Harabasz."
   ]
  },
  {
   "cell_type": "markdown",
   "id": "d3a20eb4",
   "metadata": {},
   "source": [
    "<p style='font-size: 22px; line-height: 2; margin: 10px 50px; text-align: justify; color:purple;'> <b> 4.4.1 Obtendo o  Calinski-Harabasz para o dataset</b></p>\n",
    "\n",
    "<a style='font-size: 16px; line-height: 2; margin: 10px 50px; text-align: justify; color:black;' href=\"https://scikit-learn.org/stable/modules/generated/sklearn.metrics.calinski_harabasz_score.html\">Documentação Calinski-Harabasz</a>    \n"
   ]
  },
  {
   "cell_type": "code",
   "execution_count": 18,
   "id": "5bdb1f0f",
   "metadata": {},
   "outputs": [
    {
     "data": {
      "text/plain": [
       "3431.788779759367"
      ]
     },
     "execution_count": 18,
     "metadata": {},
     "output_type": "execute_result"
    }
   ],
   "source": [
    "from sklearn.metrics import calinski_harabasz_score\n",
    "\n",
    "# Será passado os values = dados normalizados e os labels = clusters\n",
    "calinski = calinski_harabasz_score(values, labels)\n",
    "calinski"
   ]
  },
  {
   "cell_type": "markdown",
   "id": "d9a36938",
   "metadata": {},
   "source": [
    "<p style='font-size: 16px; line-height: 2; margin: 10px 50px; text-align: justify; color:black;'>Junto com os valores de Silhouette e Davies-Bouldin, temos três índices diferentes agora para trabalharmos, mas como podemos dizer se são bons valores? Qual é a base?"
   ]
  },
  {
   "cell_type": "markdown",
   "id": "a604bdac",
   "metadata": {},
   "source": [
    "<p style='font-size: 22px; line-height: 2; margin: 10px 50px; text-align: justify; color:purple;'> <b> 4.5 Validação relativa</b></p>\n",
    "\n",
    "\n",
    "<p style='font-size: 16px; line-height: 2; margin: 10px 50px; text-align: justify; color:black;'>Na métrica de <b>Silhouette</b>, sabemos que o valor tem um intervalo que vai de -1 até 1, portanto se o cluster obter um valor positivo isso é um bom sinal.\n",
    "\n",
    "<p style='font-size: 16px; line-height: 2; margin: 10px 50px; text-align: justify; color:black;'>No caso da métrica de <b>Davies Bouldin</b>, quanto mais próximo de 0 o valor, melhor.\n",
    "<p style='font-size: 16px; line-height: 2; margin: 10px 50px; text-align: justify; color:black;'>Já para <b>Calinski</b>, é melhor que o valor seja o mais alto possível.\n",
    "    \n",
    "    \n",
    "<p style='font-size: 16px; line-height: 2; margin: 10px 50px; text-align: justify; color:black;'>É difícil fazer qualquer avaliação se considerarmos apenas o valor \"cru\", e nesse ponto que apresentamos a <b>avaliação relativa</b>.\n",
    "\n",
    "<p style='font-size: 16px; line-height: 2; margin: 10px 50px; text-align: justify; color:black;'>Compararemos o valor das métricas com base em configurações diferentes do nosso algorítimo, dos nossos caminhos. A ideia é que assim ajustemos os parâmetros do algoritimo para obtermos os melhores resultados.\n",
    "\n",
    "<p style='font-size: 16px; line-height: 2; margin: 10px 50px; text-align: justify; color:black;'>Então <b>mudaremos o número de clusters</b>, afinal esse é o parâmetro que possui mais impacto em nosso caso. Criaremos um método usando <b>def</b> que será reponsável pela execução do kmeans e calcular as três métricas de uma vez, e como parâmetro, passaremos o número de clusters que queremos.\n",
    "    \n",
    "<img src=\"img/validacao1.png\" width=\"400\" align=\"center\">"
   ]
  },
  {
   "cell_type": "code",
   "execution_count": 19,
   "id": "8eaf04f7",
   "metadata": {},
   "outputs": [],
   "source": [
    "def clustering_algorithm(n_clusters, dataset):\n",
    "    \n",
    "    # Para o KMeans será passado o nª de clusters, nª de tempo que o algoritmo será executado com diferentes seeds centóides e nª de iterações    \n",
    "    kmeans = KMeans(n_clusters=n_clusters,\n",
    "                    n_init=10, \n",
    "                    max_iter=300)\n",
    "    labels = kmeans.fit_predict(dataset)\n",
    "    \n",
    "    ### Validação do clustering ###\n",
    "    \n",
    "    # Silhouette\n",
    "    silhouette = silhouette_score(dataset, labels, metric='euclidean')\n",
    "    \n",
    "    # Davies Bouldin\n",
    "    dbs = davies_bouldin_score(dataset, labels)\n",
    "    \n",
    "    # Calinski\n",
    "    calinski = calinski_harabasz_score(dataset, labels)\n",
    "    \n",
    "    return silhouette, dbs, calinski\n"
   ]
  },
  {
   "cell_type": "markdown",
   "id": "1b373fae",
   "metadata": {},
   "source": [
    "<p style='font-size: 22px; line-height: 2; margin: 10px 50px; text-align: justify; color:purple;'> <b> 4.5.1 Variando o número de clustering</b></p>"
   ]
  },
  {
   "cell_type": "code",
   "execution_count": 20,
   "id": "32105a2d",
   "metadata": {},
   "outputs": [
    {
     "name": "stdout",
     "output_type": "stream",
     "text": [
      "0.33 1.31 3526.46\n"
     ]
    }
   ],
   "source": [
    "# Chamando a função e passando o  nª de clusters que estamos variando e o values = dataset normalizado\n",
    "silhouette1, dbs1, calinski1 =  clustering_algorithm(3, values)\n",
    "\n",
    "# Mostrando na tela\n",
    "print(silhouette1.round(2), dbs1.round(2), calinski1.round(2))"
   ]
  },
  {
   "cell_type": "code",
   "execution_count": 21,
   "id": "40547821",
   "metadata": {},
   "outputs": [
    {
     "name": "stdout",
     "output_type": "stream",
     "text": [
      "0.36 1.08 3431.79\n"
     ]
    }
   ],
   "source": [
    "# Chamando a função e passando o  nª de clusters que estamos variando e o values = dataset normalizado\n",
    "silhouette2, dbs2, calinski2 =  clustering_algorithm(5, values)\n",
    "\n",
    "# Mostrando na tela\n",
    "print(silhouette2.round(2), dbs2.round(2), calinski2.round(2))"
   ]
  },
  {
   "cell_type": "code",
   "execution_count": 22,
   "id": "7df26db1",
   "metadata": {},
   "outputs": [
    {
     "name": "stdout",
     "output_type": "stream",
     "text": [
      "0.31 1.19 3011.31\n"
     ]
    }
   ],
   "source": [
    "# Chamando a função e passando o  nª de clusters que estamos variando e o values = dataset normalizado\n",
    "silhouette3, dbs3, calinski3 =  clustering_algorithm(10, values)\n",
    "\n",
    "# Mostrando na tela\n",
    "print(silhouette3.round(2), dbs3.round(2), calinski3.round(2))"
   ]
  },
  {
   "cell_type": "code",
   "execution_count": 23,
   "id": "7df346b4",
   "metadata": {},
   "outputs": [
    {
     "name": "stdout",
     "output_type": "stream",
     "text": [
      "0.27 1.23 2395.94\n"
     ]
    }
   ],
   "source": [
    "# Chamando a função e passando o  nª de clusters que estamos variando e o values = dataset normalizado\n",
    "silhouette4, dbs4, calinski4 =  clustering_algorithm(20, values)\n",
    "\n",
    "# Mostrando na tela\n",
    "print(silhouette4.round(2), dbs4.round(2), calinski4.round(2))"
   ]
  },
  {
   "cell_type": "code",
   "execution_count": 24,
   "id": "1d3fa8ff",
   "metadata": {},
   "outputs": [
    {
     "name": "stdout",
     "output_type": "stream",
     "text": [
      "0.25 1.2 1620.29\n"
     ]
    }
   ],
   "source": [
    "# Chamando a função e passando o  nª de clusters que estamos variando e o values = dataset normalizado\n",
    "silhouette5, dbs5, calinski5 =  clustering_algorithm(50, values)\n",
    "\n",
    "# Mostrando na tela\n",
    "print(silhouette5.round(2), dbs5.round(2), calinski5.round(2))"
   ]
  },
  {
   "cell_type": "code",
   "execution_count": 25,
   "id": "e9660986",
   "metadata": {},
   "outputs": [
    {
     "name": "stdout",
     "output_type": "stream",
     "text": [
      "+-------------+------------+------+-----------+\n",
      "| nª clusters | silhouette | dbs1 | calinski1 |\n",
      "+-------------+------------+------+-----------+\n",
      "|      3      |    0.33    | 1.31 |  3526.46  |\n",
      "|      5      |    0.36    | 1.08 |  3431.79  |\n",
      "|      10     |    0.31    | 1.19 |  3011.31  |\n",
      "|      20     |    0.27    | 1.23 |  2395.94  |\n",
      "|      50     |    0.25    | 1.2  |  1620.29  |\n",
      "+-------------+------------+------+-----------+\n"
     ]
    }
   ],
   "source": [
    "# Tabela com os resultados\n",
    "from prettytable import PrettyTable\n",
    "\n",
    "elementos = [[3, silhouette1.round(2), dbs1.round(2), calinski1.round(2)],\n",
    "             [5, silhouette2.round(2), dbs2.round(2), calinski2.round(2)],\n",
    "             [10, silhouette3.round(2), dbs3.round(2), calinski3.round(2)],\n",
    "             [20, silhouette4.round(2), dbs4.round(2), calinski4.round(2)],\n",
    "             [50, silhouette5.round(2), dbs5.round(2), calinski5.round(2)]]\n",
    "\n",
    "table = PrettyTable(['nª clusters','silhouette','dbs1', 'calinski1'])\n",
    "\n",
    "for i in elementos:\n",
    "    table.add_row(i)\n",
    "    \n",
    "print(table)\n"
   ]
  },
  {
   "cell_type": "markdown",
   "id": "680afde4",
   "metadata": {},
   "source": [
    "<p style='font-size: 16px; line-height: 2; margin: 10px 50px; text-align: justify; color:black;'>Utilizaremos a configuração de <b>cinco clusters</b>, pois obtemos um resultado bom no índice de Silhouette, que é bastante popular, então é interessante utilizá-lo como medidor principal."
   ]
  },
  {
   "cell_type": "markdown",
   "id": "5a8bd5c7",
   "metadata": {},
   "source": [
    "<p style='font-size: 22px; line-height: 2; margin: 10px 50px; text-align: justify; color:purple;'> <b> 4.6 Validação comparando  com um dataset aleatório</b></p>"
   ]
  },
  {
   "cell_type": "code",
   "execution_count": 26,
   "id": "b2d0e244",
   "metadata": {},
   "outputs": [
    {
     "data": {
      "text/plain": [
       "(8950, 16)"
      ]
     },
     "execution_count": 26,
     "metadata": {},
     "output_type": "execute_result"
    }
   ],
   "source": [
    "# Verificando a quantidade de dados\n",
    "dados.shape"
   ]
  },
  {
   "cell_type": "code",
   "execution_count": 27,
   "id": "6e6f6d49",
   "metadata": {},
   "outputs": [
    {
     "name": "stdout",
     "output_type": "stream",
     "text": [
      "+--------------------+------------+------+-----------+\n",
      "|                    | silhouette | dbs1 | calinski1 |\n",
      "+--------------------+------------+------+-----------+\n",
      "| dataset aleatorio  |    0.04    | 3.53 |   301.96  |\n",
      "| dataset verdadeiro |    0.36    | 1.08 |  3431.79  |\n",
      "+--------------------+------------+------+-----------+\n"
     ]
    }
   ],
   "source": [
    "# Passando o número de linhas e colunas\n",
    "np.random.seed(23)\n",
    "random_data = np.random.rand(8950, 16)\n",
    "\n",
    "# Aplicando a função de clusterização com o k-means e as 3 validações\n",
    "silhouette6, dbs6, calinski6 = clustering_algorithm(5, random_data)\n",
    "\n",
    "# Mostrando na tela a comparação entre cada divisão do dataset\n",
    "from prettytable import PrettyTable\n",
    "\n",
    "elementos = [['dataset aleatorio',silhouette6.round(2), dbs6.round(2), calinski6.round(2)],\n",
    "             ['dataset verdadeiro',silhouette2.round(2), dbs2.round(2), calinski2.round(2)]]\n",
    "\n",
    "table = PrettyTable(['','silhouette','dbs1', 'calinski1'])\n",
    "\n",
    "for i in elementos:\n",
    "    table.add_row(i)\n",
    "    \n",
    "print(table)"
   ]
  },
  {
   "cell_type": "markdown",
   "id": "cfb54d03",
   "metadata": {},
   "source": [
    "<p style='font-size: 16px; line-height: 2; margin: 10px 50px; text-align: justify; color:black;'>Para o conjunto aleatório o valor de <u>silhoutte</u> foi de <b>0.04</b> e para o nosso <b>0.36</b>. Isso mostra que nem sempre apenas ter um valor positivo é suficiente.\n",
    "\n",
    "<p style='font-size: 16px; line-height: 2; margin: 10px 50px; text-align: justify; color:black;'>Para <u>Davies Bouldin</u>, teremos <b>3.53</b> e <b>1.08</b>, e como quanto menor o valor, melhor a métrica.\n",
    "    \n",
    "<p style='font-size: 16px; line-height: 2; margin: 10px 50px; text-align: justify; color:black;'>á para o <u>Calinski</u>, teremos a gritante diferença entre <b>301.96</b> e <b>3431.79</b> .\n",
    "\n",
    "<p style='font-size: 16px; line-height: 2; margin: 10px 50px; text-align: justify; color:black;'>Com base nisso, sabemos que estamos no caminho correto e prosseguiremos com a análise dos nossos clusters.\n"
   ]
  },
  {
   "cell_type": "markdown",
   "id": "4b6f2d51",
   "metadata": {},
   "source": [
    "<p style='font-size: 22px; line-height: 2; margin: 10px 50px; text-align: justify; color:purple;'> <b> 5. Validação da estabilidade do clustering</b></p>\n",
    "\n",
    "<p style='font-size: 16px; line-height: 2; margin: 10px 50px; text-align: justify; color:black;'>A ideia é que dividamos a base de dados e executemos o kmeans para cada uma dessas divisões a fim de obtermos resultados similares para as métricas, pois queremos que o kmeans se comporte similarmente em cada uma para conseguirmos a validação."
   ]
  },
  {
   "cell_type": "code",
   "execution_count": 28,
   "id": "fd72dd56",
   "metadata": {},
   "outputs": [
    {
     "name": "stdout",
     "output_type": "stream",
     "text": [
      "+----------+------------+------+-----------+\n",
      "| amostras | silhouette | dbs1 | calinski1 |\n",
      "+----------+------------+------+-----------+\n",
      "|   set1   |    0.37    | 1.06 |  1204.11  |\n",
      "|   set2   |    0.35    | 1.14 |  1194.95  |\n",
      "|   set3   |    0.37    | 1.1  |  1167.53  |\n",
      "+----------+------------+------+-----------+\n"
     ]
    }
   ],
   "source": [
    "# Dividindo o dataset com a função np.array_split() recebendo o conjunto values e a quantidade de divisões(colocarei 3)\n",
    "set1, set2, set3 = np.array_split(values, 3)\n",
    "\n",
    "\n",
    "# Aplicando a função de clusterização com o k-means e as 3 validações, passando o nª de clusters e as divisões\n",
    "silhouette1, dbs1, calinski1 = clustering_algorithm(5, set1)\n",
    "silhouette2, dbs2, calinski2 = clustering_algorithm(5, set2)\n",
    "silhouette3, dbs3, calinski3 = clustering_algorithm(5, set3)\n",
    "\n",
    "\n",
    "# Mostrando na tela a comparação entre cada divisão do dataset\n",
    "from prettytable import PrettyTable\n",
    "\n",
    "elementos = [['set1', silhouette1.round(2), dbs1.round(2), calinski1.round(2)],\n",
    "             ['set2', silhouette2.round(2), dbs2.round(2), calinski2.round(2)],\n",
    "             ['set3', silhouette3.round(2), dbs3.round(2), calinski3.round(2)]]\n",
    "\n",
    "table = PrettyTable(['amostras','silhouette','dbs1', 'calinski1'])\n",
    "\n",
    "for i in elementos:\n",
    "    table.add_row(i)\n",
    "    \n",
    "print(table)"
   ]
  },
  {
   "cell_type": "markdown",
   "id": "7a6d7773",
   "metadata": {},
   "source": [
    "<p style='font-size: 16px; line-height: 2; margin: 10px 50px; text-align: justify; color:black;'> Teremos valores parecidos nas três colunas e com as métricas diferentes, isso indica que nosso <b>cluster é válido</b>.Feito isso, podemos partir para interpretação dos clusters, já que obtemos bons resultados e temos dados confiáveis.\n",
    "    \n",
    "<img src=\"img/yes.gif\" width=\"240\" align=\"center\">"
   ]
  },
  {
   "cell_type": "markdown",
   "id": "51aaa158",
   "metadata": {},
   "source": [
    "<p style='font-size: 22px; line-height: 2; margin: 10px 50px; text-align: justify; color:purple;'> <b> 6. Gerando Gráficos</b></p>\n",
    "<a style='font-size: 16px; line-height: 2; margin: 10px 50px; text-align: justify; color:black;' href=\"https://matplotlib.org/\">Documentação matplotlib</a>    \n",
    "\n",
    "<a style='font-size: 16px; line-height: 2; margin: 10px 50px; text-align: justify; color:black;' href=\"https://seaborn.pydata.org/\">Documentação seaborn</a>    \n",
    "\n",
    "\n",
    "<p style='font-size: 16px; line-height: 2; margin: 10px 50px; text-align: justify; color:black;'>Precisamos primeiramente encontrar uma maneira de visualizar esses clusters. Temos 16 atributos, isto é, 16 dimensões. Não podemos inserir tudo isso em um gráfico, portanto começaremos por analisar dois atributos: PURCHASES que é o valor total usado pelo cartão do cliente e PAYMENTS, que é o valor total realmente pago pelo cliente."
   ]
  },
  {
   "cell_type": "code",
   "execution_count": 29,
   "id": "2df18152",
   "metadata": {},
   "outputs": [
    {
     "data": {
      "image/png": "[encoded data removed]",
      "text/plain": [
       "<Figure size 864x576 with 1 Axes>"
      ]
     },
     "metadata": {
      "needs_background": "light"
     },
     "output_type": "display_data"
    }
   ],
   "source": [
    "import matplotlib.pyplot as plt\n",
    "\n",
    "# Tamanho da janela\n",
    "plt.figure(figsize=(12, 8))\n",
    "\n",
    "# c=labels atribiu o cluster para cada elemento, s = tamanho dos pontos\n",
    "plt.scatter(dados['PURCHASES'], dados['PAYMENTS'], c= labels, s = 5, cmap='rainbow')\n",
    "\n",
    "# Etiquetas\n",
    "plt.xlabel('Valor total pago')\n",
    "plt.ylabel('Valor total gasto')\n",
    "\n",
    "\n",
    "# Mostrando\n",
    "plt.show()"
   ]
  },
  {
   "cell_type": "markdown",
   "id": "be7a642d",
   "metadata": {},
   "source": [
    "<p style='font-size: 16px; line-height: 2; margin: 10px 50px; text-align: justify; color:black;'>Ao analisarmos o cluster <b>roxo</b>, notaremos que há uma tendência a desenhar uma linha reta na vertical, o que indica que o valor total gasto dos clientes aumenta, mas o valor total pago não acompanha essa ascendência. De maneira geral, o que conseguimos perceber é que o cluster representa os clientes que gastaram mais, contudo não pagaram a fatura ou a pagaram parcialmente.\n",
    "\n",
    "<p style='font-size: 16px; line-height: 2; margin: 10px 50px; text-align: justify; color:black;'>Já o cluster representado pela cor <b>laranja</b> notaremos uma diagonal, o que indica que a medida que o valor gasto aumenta o valor pago também. Esse cluster representa os clientes que pagaram a fatura ou quase seu valor total.\n",
    "    \n",
    "<p style='font-size: 16px; line-height: 2; margin: 10px 50px; text-align: justify; color:black;'>Temos informações interessantes, mas isso não é o suficiente para compreender todo o conjunto. \n",
    "<p style='font-size: 16px; line-height: 2; margin: 10px 50px; text-align: justify; color:black;'>Serão plotadas outras dimensões, mas sempre em pares, e assim conseguiremos interpretar outros atributos de maneira clara, visível.\n",
    "    "
   ]
  },
  {
   "cell_type": "raw",
   "id": "1c72abf2",
   "metadata": {},
   "source": [
    "# import seaborn as sns\n",
    "dados['cluster'] = labels\n",
    "sns.pairplot(dados, hue = 'cluster')"
   ]
  },
  {
   "cell_type": "code",
   "execution_count": 30,
   "id": "b61bf856",
   "metadata": {},
   "outputs": [],
   "source": [
    "dados['cluster'] = labels"
   ]
  },
  {
   "cell_type": "markdown",
   "id": "6472bb91",
   "metadata": {},
   "source": [
    "<p style='font-size: 16px; line-height: 2; margin: 10px 50px; text-align: justify; color:black;'>Feito isso teremos um grande conjunto de gráficos, todos divididos em pares, cerca de 280. São muitos, e isso dificulta nosso processo de validação as informações com a visualização dessa forma.\n",
    "\n",
    "<p style='font-size: 16px; line-height: 2; margin: 10px 50px; text-align: justify; color:black;'>A visualização nem sempre é uma técnica que irá nos auxiliar na interpretação de clusters."
   ]
  },
  {
   "cell_type": "markdown",
   "id": "b3486e08",
   "metadata": {},
   "source": [
    "<p style='font-size: 22px; line-height: 2; margin: 10px 50px; text-align: justify; color:purple;'> <b> 7. Descrevendo atributos</b></p>"
   ]
  },
  {
   "cell_type": "code",
   "execution_count": 31,
   "id": "38c7fe75",
   "metadata": {},
   "outputs": [
    {
     "data": {
      "text/html": [
       "<div>\n",
       "<style scoped>\n",
       "    .dataframe tbody tr th:only-of-type {\n",
       "        vertical-align: middle;\n",
       "    }\n",
       "\n",
       "    .dataframe tbody tr th {\n",
       "        vertical-align: top;\n",
       "    }\n",
       "\n",
       "    .dataframe thead tr th {\n",
       "        text-align: left;\n",
       "    }\n",
       "\n",
       "    .dataframe thead tr:last-of-type th {\n",
       "        text-align: right;\n",
       "    }\n",
       "</style>\n",
       "<table border=\"1\" class=\"dataframe\">\n",
       "  <thead>\n",
       "    <tr>\n",
       "      <th></th>\n",
       "      <th colspan=\"8\" halign=\"left\">BALANCE</th>\n",
       "      <th colspan=\"2\" halign=\"left\">BALANCE_FREQUENCY</th>\n",
       "      <th>...</th>\n",
       "      <th colspan=\"2\" halign=\"left\">MINIMUM_PAYMENTS</th>\n",
       "      <th colspan=\"8\" halign=\"left\">PRC_FULL_PAYMENT</th>\n",
       "    </tr>\n",
       "    <tr>\n",
       "      <th></th>\n",
       "      <th>count</th>\n",
       "      <th>mean</th>\n",
       "      <th>std</th>\n",
       "      <th>min</th>\n",
       "      <th>25%</th>\n",
       "      <th>50%</th>\n",
       "      <th>75%</th>\n",
       "      <th>max</th>\n",
       "      <th>count</th>\n",
       "      <th>mean</th>\n",
       "      <th>...</th>\n",
       "      <th>75%</th>\n",
       "      <th>max</th>\n",
       "      <th>count</th>\n",
       "      <th>mean</th>\n",
       "      <th>std</th>\n",
       "      <th>min</th>\n",
       "      <th>25%</th>\n",
       "      <th>50%</th>\n",
       "      <th>75%</th>\n",
       "      <th>max</th>\n",
       "    </tr>\n",
       "    <tr>\n",
       "      <th>cluster</th>\n",
       "      <th></th>\n",
       "      <th></th>\n",
       "      <th></th>\n",
       "      <th></th>\n",
       "      <th></th>\n",
       "      <th></th>\n",
       "      <th></th>\n",
       "      <th></th>\n",
       "      <th></th>\n",
       "      <th></th>\n",
       "      <th></th>\n",
       "      <th></th>\n",
       "      <th></th>\n",
       "      <th></th>\n",
       "      <th></th>\n",
       "      <th></th>\n",
       "      <th></th>\n",
       "      <th></th>\n",
       "      <th></th>\n",
       "      <th></th>\n",
       "      <th></th>\n",
       "    </tr>\n",
       "  </thead>\n",
       "  <tbody>\n",
       "    <tr>\n",
       "      <th>0</th>\n",
       "      <td>1072.0</td>\n",
       "      <td>1794.02</td>\n",
       "      <td>1982.95</td>\n",
       "      <td>0.00</td>\n",
       "      <td>506.93</td>\n",
       "      <td>1087.92</td>\n",
       "      <td>2308.76</td>\n",
       "      <td>14581.46</td>\n",
       "      <td>1072.0</td>\n",
       "      <td>0.86</td>\n",
       "      <td>...</td>\n",
       "      <td>884.72</td>\n",
       "      <td>21235.07</td>\n",
       "      <td>1072.0</td>\n",
       "      <td>0.12</td>\n",
       "      <td>0.19</td>\n",
       "      <td>0.0</td>\n",
       "      <td>0.0</td>\n",
       "      <td>0.08</td>\n",
       "      <td>0.14</td>\n",
       "      <td>1.0</td>\n",
       "    </tr>\n",
       "    <tr>\n",
       "      <th>1</th>\n",
       "      <td>3279.0</td>\n",
       "      <td>443.78</td>\n",
       "      <td>846.53</td>\n",
       "      <td>0.00</td>\n",
       "      <td>23.34</td>\n",
       "      <td>82.90</td>\n",
       "      <td>410.66</td>\n",
       "      <td>9630.37</td>\n",
       "      <td>3279.0</td>\n",
       "      <td>0.77</td>\n",
       "      <td>...</td>\n",
       "      <td>248.77</td>\n",
       "      <td>4483.50</td>\n",
       "      <td>3279.0</td>\n",
       "      <td>0.25</td>\n",
       "      <td>0.35</td>\n",
       "      <td>0.0</td>\n",
       "      <td>0.0</td>\n",
       "      <td>0.00</td>\n",
       "      <td>0.44</td>\n",
       "      <td>1.0</td>\n",
       "    </tr>\n",
       "    <tr>\n",
       "      <th>2</th>\n",
       "      <td>412.0</td>\n",
       "      <td>1987.15</td>\n",
       "      <td>1852.22</td>\n",
       "      <td>70.79</td>\n",
       "      <td>1020.15</td>\n",
       "      <td>1338.92</td>\n",
       "      <td>2133.42</td>\n",
       "      <td>11670.18</td>\n",
       "      <td>412.0</td>\n",
       "      <td>0.99</td>\n",
       "      <td>...</td>\n",
       "      <td>7086.77</td>\n",
       "      <td>76406.21</td>\n",
       "      <td>412.0</td>\n",
       "      <td>0.02</td>\n",
       "      <td>0.09</td>\n",
       "      <td>0.0</td>\n",
       "      <td>0.0</td>\n",
       "      <td>0.00</td>\n",
       "      <td>0.00</td>\n",
       "      <td>1.0</td>\n",
       "    </tr>\n",
       "    <tr>\n",
       "      <th>3</th>\n",
       "      <td>1537.0</td>\n",
       "      <td>1143.20</td>\n",
       "      <td>1665.09</td>\n",
       "      <td>0.00</td>\n",
       "      <td>212.28</td>\n",
       "      <td>555.13</td>\n",
       "      <td>1370.32</td>\n",
       "      <td>19043.14</td>\n",
       "      <td>1537.0</td>\n",
       "      <td>0.93</td>\n",
       "      <td>...</td>\n",
       "      <td>523.89</td>\n",
       "      <td>18621.01</td>\n",
       "      <td>1537.0</td>\n",
       "      <td>0.28</td>\n",
       "      <td>0.37</td>\n",
       "      <td>0.0</td>\n",
       "      <td>0.0</td>\n",
       "      <td>0.08</td>\n",
       "      <td>0.55</td>\n",
       "      <td>1.0</td>\n",
       "    </tr>\n",
       "    <tr>\n",
       "      <th>4</th>\n",
       "      <td>2650.0</td>\n",
       "      <td>3036.95</td>\n",
       "      <td>2478.92</td>\n",
       "      <td>6.82</td>\n",
       "      <td>1255.15</td>\n",
       "      <td>2173.99</td>\n",
       "      <td>4223.86</td>\n",
       "      <td>18495.56</td>\n",
       "      <td>2650.0</td>\n",
       "      <td>0.96</td>\n",
       "      <td>...</td>\n",
       "      <td>1330.54</td>\n",
       "      <td>8345.64</td>\n",
       "      <td>2650.0</td>\n",
       "      <td>0.00</td>\n",
       "      <td>0.02</td>\n",
       "      <td>0.0</td>\n",
       "      <td>0.0</td>\n",
       "      <td>0.00</td>\n",
       "      <td>0.00</td>\n",
       "      <td>0.6</td>\n",
       "    </tr>\n",
       "  </tbody>\n",
       "</table>\n",
       "<p>5 rows × 128 columns</p>\n",
       "</div>"
      ],
      "text/plain": [
       "        BALANCE                                                                \\\n",
       "          count     mean      std    min      25%      50%      75%       max   \n",
       "cluster                                                                         \n",
       "0        1072.0  1794.02  1982.95   0.00   506.93  1087.92  2308.76  14581.46   \n",
       "1        3279.0   443.78   846.53   0.00    23.34    82.90   410.66   9630.37   \n",
       "2         412.0  1987.15  1852.22  70.79  1020.15  1338.92  2133.42  11670.18   \n",
       "3        1537.0  1143.20  1665.09   0.00   212.28   555.13  1370.32  19043.14   \n",
       "4        2650.0  3036.95  2478.92   6.82  1255.15  2173.99  4223.86  18495.56   \n",
       "\n",
       "        BALANCE_FREQUENCY        ... MINIMUM_PAYMENTS            \\\n",
       "                    count  mean  ...              75%       max   \n",
       "cluster                          ...                              \n",
       "0                  1072.0  0.86  ...           884.72  21235.07   \n",
       "1                  3279.0  0.77  ...           248.77   4483.50   \n",
       "2                   412.0  0.99  ...          7086.77  76406.21   \n",
       "3                  1537.0  0.93  ...           523.89  18621.01   \n",
       "4                  2650.0  0.96  ...          1330.54   8345.64   \n",
       "\n",
       "        PRC_FULL_PAYMENT                                         \n",
       "                   count  mean   std  min  25%   50%   75%  max  \n",
       "cluster                                                          \n",
       "0                 1072.0  0.12  0.19  0.0  0.0  0.08  0.14  1.0  \n",
       "1                 3279.0  0.25  0.35  0.0  0.0  0.00  0.44  1.0  \n",
       "2                  412.0  0.02  0.09  0.0  0.0  0.00  0.00  1.0  \n",
       "3                 1537.0  0.28  0.37  0.0  0.0  0.08  0.55  1.0  \n",
       "4                 2650.0  0.00  0.02  0.0  0.0  0.00  0.00  0.6  \n",
       "\n",
       "[5 rows x 128 columns]"
      ]
     },
     "execution_count": 31,
     "metadata": {},
     "output_type": "execute_result"
    }
   ],
   "source": [
    "dados.groupby('cluster').describe().round(2)"
   ]
  },
  {
   "cell_type": "markdown",
   "id": "ffb09c21",
   "metadata": {},
   "source": [
    "<p style='font-size: 16px; line-height: 2; margin: 10px 50px; text-align: justify; color:black;'> Serão selecionados apenas alguns atributos pois temos 16 atributos, portanto é uma análise que seria impossível ser realizada por um aspecto visual. Serão selecionaremos alguns dos atributos mais significativos. O que não quer dizer que os outros não sejam importantes, mas precisaremos fazer essa triagem para executar nossa análise."
   ]
  },
  {
   "cell_type": "markdown",
   "id": "6166eb17",
   "metadata": {},
   "source": [
    "<p style='font-size: 22px; line-height: 2; margin: 10px 50px; text-align: justify; color:purple;'> <b> 7.Analisando os valores</b></p>\n",
    "\n",
    "\n",
    "<p style='font-size: 16px; line-height: 2; margin: 10px 50px; text-align: justify; color:black;'> Aprenderemos uma estratégia para selecionar o atributo mais significativo e analisá-lo. Nos basearemos nos centroides para tomar nossas decisões.\n",
    "\n",
    "<p style='font-size: 16px; line-height: 2; margin: 10px 50px; text-align: justify; color:black;'> Utilizaremos o kmeans para coletar os centroides na variável centroids usando .cluster_centers_"
   ]
  },
  {
   "cell_type": "code",
   "execution_count": 32,
   "id": "e5d8c4a0",
   "metadata": {},
   "outputs": [
    {
     "data": {
      "text/plain": [
       "KMeans(n_clusters=5)"
      ]
     },
     "execution_count": 32,
     "metadata": {},
     "output_type": "execute_result"
    }
   ],
   "source": [
    "# modelo com os 5 clusters\n",
    "kmeans"
   ]
  },
  {
   "cell_type": "code",
   "execution_count": 33,
   "id": "b86f184d",
   "metadata": {},
   "outputs": [
    {
     "data": {
      "text/plain": [
       "array([[2.35141479e-01, 2.16555293e-04, 6.03857074e-02, 3.44170171e-02,\n",
       "        2.59739049e-02, 4.00128071e-01, 5.26401668e-05, 2.04882397e-05,\n",
       "        3.51921361e-05, 6.54864556e-05, 1.57199032e-03, 1.12217156e-03,\n",
       "        5.35089146e-01, 5.98040052e-01, 1.04348171e-01, 2.77498236e-05],\n",
       "       [6.89799575e-02, 2.30763006e-04, 1.21587120e-01, 4.79794677e-02,\n",
       "        7.37079733e-02, 2.40200669e-02, 1.73016299e-04, 3.36944404e-05,\n",
       "        1.40456777e-04, 7.83464589e-06, 1.22859223e-04, 2.86637386e-03,\n",
       "        9.43639117e-01, 1.53810130e-01, 5.68564456e-02, 7.61967577e-05],\n",
       "       [3.33483624e-01, 2.68969713e-04, 1.59146477e-01, 3.61931219e-02,\n",
       "        1.23336164e-01, 5.80731211e-02, 1.67333390e-04, 2.64804728e-05,\n",
       "        1.47698430e-04, 1.92281888e-05, 4.25862512e-04, 3.87053484e-03,\n",
       "        3.77114118e-01, 2.52735252e-01, 6.78741705e-01, 4.21940580e-06],\n",
       "       [1.60146324e-01, 2.45102576e-04, 4.38362163e-01, 2.57083619e-01,\n",
       "        1.81450166e-01, 2.58559897e-02, 2.04225525e-04, 8.90425753e-05,\n",
       "        1.50463941e-04, 9.38731157e-06, 1.69791390e-04, 6.17471250e-03,\n",
       "        6.04026222e-01, 4.02570939e-01, 8.52801165e-02, 7.19065188e-05],\n",
       "       [5.03886149e-01, 2.72144714e-04, 6.15751915e-02, 3.61893482e-02,\n",
       "        2.54075483e-02, 2.53219709e-01, 6.71312176e-05, 2.56644637e-05,\n",
       "        4.48814714e-05, 5.75359114e-05, 1.15794119e-03, 1.32612254e-03,\n",
       "        7.19404134e-01, 1.66061928e-01, 1.79050745e-01, 5.79660872e-07]])"
      ]
     },
     "execution_count": 33,
     "metadata": {},
     "output_type": "execute_result"
    }
   ],
   "source": [
    "# obtendo os centroides de cada atributo dentro do cluster\n",
    "centroides = kmeans.cluster_centers_\n",
    "centroides"
   ]
  },
  {
   "cell_type": "markdown",
   "id": "21ae9bf1",
   "metadata": {},
   "source": [
    "<p style='font-size: 16px; line-height: 2; margin: 10px 50px; text-align: justify; color:black;'>Com isso, já teremos um conjunto bem reduzido de dados.\n",
    "\n",
    "<p style='font-size: 16px; line-height: 2; margin: 10px 50px; text-align: justify; color:black;'>Teremos o valor de cada um dos 16 atributos dos 5 clusters. Observaremos a variância dos centroides para um determinado atributo, isto é, coletaremos um atributo e verificaremos como se comporta nos diferentes clusters."
   ]
  },
  {
   "cell_type": "markdown",
   "id": "df255381",
   "metadata": {},
   "source": [
    "<p style='font-size: 22px; line-height: 2; margin: 10px 50px; text-align: justify; color:purple;'> <b> 7.1 Selecionando os atributos</b></p>\n"
   ]
  },
  {
   "cell_type": "code",
   "execution_count": 34,
   "id": "0a81e3f7",
   "metadata": {},
   "outputs": [
    {
     "name": "stdout",
     "output_type": "stream",
     "text": [
      "BALANCE \n",
      " 0.0224\n",
      "BALANCE_FREQUENCY \n",
      " 0.0000\n",
      "PURCHASES \n",
      " 0.0196\n",
      "ONEOFF_PURCHASES \n",
      " 0.0077\n",
      "INSTALLMENTS_PURCHASES \n",
      " 0.0036\n",
      "CASH_ADVANCE \n",
      " 0.0226\n",
      "PURCHASES_FREQUENCY \n",
      " 0.0000\n",
      "ONEOFF_PURCHASES_FREQUENCY \n",
      " 0.0000\n",
      "PURCHASES_INSTALLMENTS_FREQUENCY \n",
      " 0.0000\n",
      "CASH_ADVANCE_FREQUENCY \n",
      " 0.0000\n",
      "CASH_ADVANCE_TRX \n",
      " 0.0000\n",
      "PURCHASES_TRX \n",
      " 0.0000\n",
      "CREDIT_LIMIT \n",
      " 0.0360\n",
      "PAYMENTS \n",
      " 0.0280\n",
      "MINIMUM_PAYMENTS \n",
      " 0.0541\n",
      "PRC_FULL_PAYMENT \n",
      " 0.0000\n"
     ]
    }
   ],
   "source": [
    "# Obtendo a variância dos centroides para um determinado atributo, que são 16 ao todo.\n",
    "\n",
    "# A quantidade de atributos\n",
    "max = len(centroides[0])\n",
    "\n",
    "for i in range(max):\n",
    "\n",
    "    # printando todos os clusters para o atributo i\n",
    "    print(dados.columns.values[i], '\\n','{:.4f}'.format(centroides[:, i].var()))\n",
    "    "
   ]
  },
  {
   "cell_type": "markdown",
   "id": "df2c1f5f",
   "metadata": {},
   "source": [
    "<p style='font-size: 16px; line-height: 2; margin: 10px 50px; text-align: justify; color:black;'>Os valores de variância obtidos <u>indicam que o valor do centróide se diferencia entre os clusters</u>.\n",
    "\n",
    "<p style='font-size: 16px; line-height: 2; margin: 10px 50px; text-align: justify; color:black;'>As variáveis selecionadas serão aquelas que apresentarem uma variabilidade grande naquela coordenada do centroide. Isso faz sentido porque você deseja que os centroides estejam o mais separados possíveis uns dos outros.\n",
    "\n",
    "<p style='font-size: 16px; line-height: 2; margin: 10px 50px; text-align: justify; color:black;'>Caso você selecione uma variável que possui a coordenada do centroide sem uma variância grande, os pontos de clusters diferentes ficarão muito próximos."
   ]
  },
  {
   "cell_type": "raw",
   "id": "6c3d48f2",
   "metadata": {},
   "source": [
    "                                       Atributos escolhidos com base na maior variância\n",
    "                                       \n",
    "                                                BALANCE          0.0224   \n",
    "                                                PURCHASES        0.0197\n",
    "                                                CASH_ADVANCE     0.0225\n",
    "                                                CREDIT_LIMIT     0.0360\n",
    "                                                PAYMENTS         0.0280\n",
    "                                                MINIMUM_PAYMENTS 0.0543"
   ]
  },
  {
   "cell_type": "raw",
   "id": "4af58225",
   "metadata": {},
   "source": [
    "BALANCE                 Limite que o cliente tem disponível na conta, descontando o que ele já utilizou\n",
    "PURCHASES               Valor gastos em compras.\n",
    "CASH_ADVANCE             Dinheiro adiantado dado pelo usuário(saques).\n",
    "CREDIT_LIMIT            Limite de cartão de crédito para usuário.\n",
    "PAYMENTS                Valor do pagamento feito pelo usuário.\n",
    "\n",
    "#retirado# \n",
    "MINIMUM_PAYMENTS        Valor mínimo de pagamentos feitos por uso.(pagamento mínimo da fatura do cartao para usá-lo)"
   ]
  },
  {
   "cell_type": "markdown",
   "id": "248ff337",
   "metadata": {},
   "source": [
    "<p style='font-size: 16px; line-height: 2; margin: 10px 50px; text-align: justify; color:black;'>O último atributo MINIMUM_PAYMENTS não nos interessa pois não trará muitos benefícios para a interpretação, então o removeremos da lista."
   ]
  },
  {
   "cell_type": "markdown",
   "id": "4321bc82",
   "metadata": {},
   "source": [
    "<p style='font-size: 22px; line-height: 2; margin: 10px 50px; text-align: justify; color:purple;'> <b>7.2 Filtrando os valores</b>\n",
    "    \n",
    "<p style='font-size: 16px; line-height: 2; margin: 10px 50px; text-align: justify; color:black;'>Agruparemos todos os atributos que escolhemos, como queremos a média, imprimiremos apenas description.mean()"
   ]
  },
  {
   "cell_type": "code",
   "execution_count": 50,
   "id": "9829fbde",
   "metadata": {},
   "outputs": [
    {
     "name": "stdout",
     "output_type": "stream",
     "text": [
      "         BALANCE  PURCHASES  CASH_ADVANCE  CREDIT_LIMIT  PAYMENTS  n_clients\n",
      "cluster                                                                     \n",
      "0        1794.02     475.49       3270.25       3976.37   4709.56       1072\n",
      "1         443.78     629.28        140.65       5130.89    814.34       3279\n",
      "2        1987.15     858.33        420.11       2226.70   1338.97        412\n",
      "3        1143.20    3273.17        183.38       4102.97   3040.90       1537\n",
      "4        3036.95     385.30       1637.38       4495.58    968.78       2650\n"
     ]
    }
   ],
   "source": [
    "features_esolhidas = ['BALANCE', 'PURCHASES', 'CASH_ADVANCE', 'CREDIT_LIMIT', 'PAYMENTS']\n",
    "\n",
    "# Clusters com as features escolhidas\n",
    "description = dados.groupby('cluster')[features_esolhidas]\n",
    "\n",
    "# Número de clientes\n",
    "n_clients = description.size()\n",
    "\n",
    "# Teremos para cada um dos atributos a média para o cluster correspondente\n",
    "description = dados.groupby('cluster')[features_esolhidas].mean().round(2)\n",
    "\n",
    "description['n_clients'] = n_clients\n",
    "\n",
    "# Mostrando na tela\n",
    "print(description)"
   ]
  },
  {
   "cell_type": "markdown",
   "id": "3eb5509c",
   "metadata": {},
   "source": [
    "<p style='font-size: 16px; line-height: 2; margin: 10px 50px; text-align: justify; color:black;'> Serão anotadas as caracteristicas que mais diferenciam um cluster do outro."
   ]
  },
  {
   "cell_type": "code",
   "execution_count": null,
   "id": "e024c440",
   "metadata": {},
   "outputs": [],
   "source": [
    "##### Interpretando os clusters (análise as 3 primeiras features) ##### \n",
    "\n",
    "CLUSTER 0: Maior valor em saque. \n",
    "CLUSTER 1: Clientes com os menores valores em gasto. Menor valor em saque.\n",
    "CLUSTER 2: \n",
    "CLUSTER 3: Clientes com um valor gasto em compras MUITO maior que os demais. \n",
    "CLUSTER 4: Clientes com os maiores valores em gasto. Menor valor gasto em compras. Valor considerável em saques.\n",
    "    \n",
    "conclusões desta primeira parte:\n",
    "    \n",
    "CLUSTER 0:(Clientes que gastam muito com saques)\n",
    "CLUSTER 1:(Clientes que gastam pouco)\n",
    "CLUSTER 2: \n",
    "CLUSTER 3: (Clientes que gastam muito com compras)\n",
    "CLUSTER 4:(Clientes que mais gastam e o foco deles é o saque)    \n",
    "\n",
    "        \n",
    "\n",
    "#####  Interpretando os clusters (análise das 3 últimas features) ##### \n",
    "# o pagamento será analisado juntamente com o gasto (balanço)\n",
    "\n",
    "CLUSTER 0: Pagam as vezes\n",
    "CLUSTER 1: Clientes com maior limite de crédito. Bons pagadores. Maior número de clientes\n",
    "CLUSTER 2: Clientes com menor limite de crédito. Não são bons pagadores. Menor número de clientes\n",
    "CLUSTER 3: Melhores pagadores.\n",
    "CLUSTER 4: Piores pagadores. Boa quantidade de clientes"
   ]
  },
  {
   "cell_type": "code",
   "execution_count": 56,
   "id": "c86f08ad",
   "metadata": {},
   "outputs": [
    {
     "data": {
      "text/html": [
       "<div>\n",
       "<style scoped>\n",
       "    .dataframe tbody tr th:only-of-type {\n",
       "        vertical-align: middle;\n",
       "    }\n",
       "\n",
       "    .dataframe tbody tr th {\n",
       "        vertical-align: top;\n",
       "    }\n",
       "\n",
       "    .dataframe thead th {\n",
       "        text-align: right;\n",
       "    }\n",
       "</style>\n",
       "<table border=\"1\" class=\"dataframe\">\n",
       "  <thead>\n",
       "    <tr style=\"text-align: right;\">\n",
       "      <th></th>\n",
       "      <th>count</th>\n",
       "      <th>mean</th>\n",
       "      <th>std</th>\n",
       "      <th>min</th>\n",
       "      <th>25%</th>\n",
       "      <th>50%</th>\n",
       "      <th>75%</th>\n",
       "      <th>max</th>\n",
       "    </tr>\n",
       "    <tr>\n",
       "      <th>cluster</th>\n",
       "      <th></th>\n",
       "      <th></th>\n",
       "      <th></th>\n",
       "      <th></th>\n",
       "      <th></th>\n",
       "      <th></th>\n",
       "      <th></th>\n",
       "      <th></th>\n",
       "    </tr>\n",
       "  </thead>\n",
       "  <tbody>\n",
       "    <tr>\n",
       "      <th>0</th>\n",
       "      <td>1072.0</td>\n",
       "      <td>0.12</td>\n",
       "      <td>0.19</td>\n",
       "      <td>0.0</td>\n",
       "      <td>0.0</td>\n",
       "      <td>0.08</td>\n",
       "      <td>0.14</td>\n",
       "      <td>1.0</td>\n",
       "    </tr>\n",
       "    <tr>\n",
       "      <th>1</th>\n",
       "      <td>3279.0</td>\n",
       "      <td>0.25</td>\n",
       "      <td>0.35</td>\n",
       "      <td>0.0</td>\n",
       "      <td>0.0</td>\n",
       "      <td>0.00</td>\n",
       "      <td>0.44</td>\n",
       "      <td>1.0</td>\n",
       "    </tr>\n",
       "    <tr>\n",
       "      <th>2</th>\n",
       "      <td>412.0</td>\n",
       "      <td>0.02</td>\n",
       "      <td>0.09</td>\n",
       "      <td>0.0</td>\n",
       "      <td>0.0</td>\n",
       "      <td>0.00</td>\n",
       "      <td>0.00</td>\n",
       "      <td>1.0</td>\n",
       "    </tr>\n",
       "    <tr>\n",
       "      <th>3</th>\n",
       "      <td>1537.0</td>\n",
       "      <td>0.28</td>\n",
       "      <td>0.37</td>\n",
       "      <td>0.0</td>\n",
       "      <td>0.0</td>\n",
       "      <td>0.08</td>\n",
       "      <td>0.55</td>\n",
       "      <td>1.0</td>\n",
       "    </tr>\n",
       "    <tr>\n",
       "      <th>4</th>\n",
       "      <td>2650.0</td>\n",
       "      <td>0.00</td>\n",
       "      <td>0.02</td>\n",
       "      <td>0.0</td>\n",
       "      <td>0.0</td>\n",
       "      <td>0.00</td>\n",
       "      <td>0.00</td>\n",
       "      <td>0.6</td>\n",
       "    </tr>\n",
       "  </tbody>\n",
       "</table>\n",
       "</div>"
      ],
      "text/plain": [
       "          count  mean   std  min  25%   50%   75%  max\n",
       "cluster                                               \n",
       "0        1072.0  0.12  0.19  0.0  0.0  0.08  0.14  1.0\n",
       "1        3279.0  0.25  0.35  0.0  0.0  0.00  0.44  1.0\n",
       "2         412.0  0.02  0.09  0.0  0.0  0.00  0.00  1.0\n",
       "3        1537.0  0.28  0.37  0.0  0.0  0.08  0.55  1.0\n",
       "4        2650.0  0.00  0.02  0.0  0.0  0.00  0.00  0.6"
      ]
     },
     "execution_count": 56,
     "metadata": {},
     "output_type": "execute_result"
    }
   ],
   "source": [
    "# essa métrica ajudará na interpretação dos clusters logo acima (melhores ou piores pagadores)\n",
    "\n",
    "# porcentagem média do pagamento de suas dívidas\n",
    "dados.groupby('cluster')['PRC_FULL_PAYMENT'].describe().round(2)"
   ]
  },
  {
   "cell_type": "markdown",
   "id": "2506d2dd",
   "metadata": {},
   "source": [
    "<p style='font-size: 22px; line-height: 2; margin: 10px 50px; text-align: justify; color:purple;'> <b>8. Conclusão: Qual o comportamento dos clientes com o cartão de crédito?</b>"
   ]
  },
  {
   "cell_type": "raw",
   "id": "9b711cb8",
   "metadata": {},
   "source": [
    "### Juntando a interpretação dos atributos referentes a cada cluster ### \n",
    "\n",
    "CLUSTER 0: Clientes que gastam muito com saques. Pagam as vezes\n",
    "CLUSTER 1: Clientes que gastam pouco. Clientes com maior limite de crédito. Bons pagadores. Maior número de clientes\n",
    "CLUSTER 2: Clientes com menor limite de crédito. Não são bons pagadores. Menor número de clientes\n",
    "CLUSTER 3: Clientes que gastam muito com compras. Melhores pagadores.\n",
    "CLUSTER 4: Clientes que mais gastam e o foco deles é o saque. Piores pagadores. Boa quantidade de clientes"
   ]
  },
  {
   "cell_type": "markdown",
   "id": "afb6c015",
   "metadata": {},
   "source": [
    "<p style='font-size: 22px; line-height: 2; margin: 10px 50px; text-align: justify; color:purple;'> <b>8.1 Utilizando os clusters</b>\n",
    "    \n",
    "    \n",
    "<p style='font-size: 16px; line-height: 2; margin: 10px 50px; text-align: justify; color:black;'> Como podemos utilizar os clusters que geramos na prática? Descrevemos os padrões e caracterizamos cada grupo, mas de que forma esses dados serão aplicados?\n",
    "\n",
    "<p style='font-size: 16px; line-height: 2; margin: 10px 50px; text-align: justify; color:black;'> Uma ideia é aplicar uma estratégia de negócio em um dos grupos com o objetivo de aumentar o arrecadamento de dinheiro.\n",
    "    \n",
    "<p style='font-size: 16px; line-height: 2; margin: 10px 50px; text-align: justify; color:black;'>O grupo mais adequado para isso seria o <u>cluster 1</u>, ele possui o maior número de clientes, são bons pagadores, bom limite de crédito, mas gastam pouco. Nossa ideia é engajar esse grupo para que ele utilize mais o cartão de crédito.\n",
    "<p style='font-size: 16px; line-height: 2; margin: 10px 50px; text-align: justify; color:black;'>Queremos que esses clientes gastem mais para incentivar o lucro na empresa. Suponhamos que a estratégia seja fazer uma parceria com uma empresa de pontos que forneça benefícios para o cliente que usar mais o crédito.\n",
    "\n",
    "<p style='font-size: 16px; line-height: 2; margin: 10px 50px; text-align: justify; color:black;'>Para verificarmos se a nossa estratégia foi eficaz e utilizamos o grupo certo, faremos o chamado teste AB. Dividiremos o os clientes do cluster 1 em dois grupos: o <u>grupo de controle e o grupo de teste</u>.\n",
    "\n",
    "<p style='font-size: 16px; line-height: 2; margin: 10px 50px; text-align: justify; color:black;'>o grupo de controle permanecerá sem nenhuma modificação, ou seja, não haverá programa de pontos. Já o grupo de teste, em um período definido, receberá o programa de pontos.\n",
    "\n",
    "<p style='font-size: 16px; line-height: 2; margin: 10px 50px; text-align: justify; color:black;'>Ao final do período, verificaremos se as pessoas que participaram do programa de pontos gastaram mais com o cartão ou não. Assim teremos um resultado confiável, com clientes com características similares.\n",
    "<br>  \n",
    "<br>\n",
    "<p style='font-size: 16px; line-height: 2; margin: 10px 50px; text-align: justify; color:black;'>Outro grupo interessante para aumento de lucros é o <u>cluster 3</u>, afinal gastam muito com compras e são os melhores pagadores. Eles não possuem um limite de crédito tão alto, mas uma forma de incentivar ainda mais o uso do cartão de crédito é aumentar gradativamente o limite desse grupo.\n",
    "\n",
    "<p style='font-size: 16px; line-height: 2; margin: 10px 50px; text-align: justify; color:black;'>Para o grupo de clientes do <u>cluster 4</u> , que apresenta os piores pagadores, teríamos de estruturar outro tipo de estratégia."
   ]
  },
  {
   "cell_type": "code",
   "execution_count": null,
   "id": "e37cb228",
   "metadata": {},
   "outputs": [],
   "source": []
  }
 ],
 "metadata": {
  "kernelspec": {
   "display_name": "Python 3 (ipykernel)",
   "language": "python",
   "name": "python3"
  },
  "language_info": {
   "codemirror_mode": {
    "name": "ipython",
    "version": 3
   },
   "file_extension": ".py",
   "mimetype": "text/x-python",
   "name": "python",
   "nbconvert_exporter": "python",
   "pygments_lexer": "ipython3",
   "version": "3.9.7"
  }
 },
 "nbformat": 4,
 "nbformat_minor": 5
}
