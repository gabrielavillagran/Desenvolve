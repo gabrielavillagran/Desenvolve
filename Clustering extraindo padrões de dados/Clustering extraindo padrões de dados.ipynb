{
 "cells": [
  {
   "cell_type": "markdown",
   "id": "00e88ecd",
   "metadata": {},
   "source": [
    "<hr style='border: 1px solid black;'>\n",
    "<p style='font-size: 22px; line-height: 2; margin: 10px 50px; text-align: center; color:purple;'> <b>Clustering: extraindo padrões de dados</b>\n",
    "<hr style='border: 1px solid black;'>\n",
    "\n",
    "<img src=\"img/cluster.gif\" width=\"320\" align=\"center\">\n",
    "<br>\n",
    "<br>\n",
    "\n",
    "<p style='font-size: 14px; line-height: 2; margin: 10px 50px; text-align: left; color:purple;'><i> Projeto desenvolvido por Gabriela Villagran durante o curso \"Clustering: extraindo padrões de dados\"</i>\n"
   ]
  },
  {
   "cell_type": "markdown",
   "id": "47c06ebc",
   "metadata": {},
   "source": [
    "<p style='font-size: 22px; line-height: 2; margin: 10px 50px; text-align: justify; color:purple;'> <b>1. Importando pandas, numpy e plotly</b></p>\n",
    "\n",
    "<a href = \"https://pandas.pydata.org/docs/\" style='font-size: 16px; line-height: 2; margin: 10px 50px; text-align: justify; color:black;'> Documentação Pandas </a>\n",
    "\n",
    "<a href = \"https://numpy.org/doc/stable/user/index.html\" style='font-size: 16px; line-height: 2; margin: 10px 50px; text-align: justify; color:black;'> Documentação Numpy </a>\n",
    "\n",
    "<a href = \"https://plotly.com/python-api-reference/generated/plotly.graph_objects.Figure.html\" style='font-size: 16px; line-height: 2; margin: 10px 50px; text-align: justify; color:black;'> Documentação Plotly </a>"
   ]
  },
  {
   "cell_type": "code",
   "execution_count": 1,
   "id": "f18fcb1f",
   "metadata": {},
   "outputs": [],
   "source": [
    "import pandas as pd\n",
    "import numpy as np"
   ]
  },
  {
   "cell_type": "markdown",
   "id": "99b5cc88",
   "metadata": {},
   "source": [
    "<p style='font-size: 22px; line-height: 2; margin: 10px 50px; text-align: justify; color:purple;'> <b>1.1 Sobre os dados:</b></p>\n",
    "\n",
    "<a href = \"https://www.kaggle.com/datasets/arjunbhasin2013/ccdata\" style='font-size: 16px; line-height: 2; margin: 10px 50px; text-align: justify; color:black;'> Arquivo no Kaggle</a>\n",
    "    \n",
    "<p style='font-size: 16px; line-height: 2; margin: 10px 50px; text-align: justify; color:black;'> O conjunto de dados de amostra resume o comportamento de uso de cerca de 9.000 portadores de cartão de crédito ativos durante os últimos 6 meses.  Abaixo estão explicitadas as features.\n",
    "    \n",
    "<li style='font-size: 16px; line-height: 2; margin: 10px 50px; text-align: justify; color:black;'>BALANCE: limite que o cliente tem disponível na conta, descontando o que ele já utilizou\n",
    "    \n",
    "<li style='font-size: 16px; line-height: 2; margin: 10px 50px; text-align: justify; color:black;'>BALANCEFREQUENCY: frequência que esse balanço é alterado.\n",
    "    \n",
    "<li style='font-size: 16px; line-height: 2; margin: 10px 50px; text-align: justify; color:black;'>PURCHASES: Valor gastos em compras.\n",
    "        \n",
    "<li style='font-size: 16px; line-height: 2; margin: 10px 50px; text-align: justify; color:black;'>ONEOFFPURCHASES : Valor máximo de compra feito de uma só vez.\n",
    "    \n",
    "<li style='font-size: 16px; line-height: 2; margin: 10px 50px; text-align: justify; color:black;'> INSTALLMENTSPURCHASES : Valor da compra parcelada.\n",
    "    \n",
    "<li style='font-size: 16px; line-height: 2; margin: 10px 50px; text-align: justify; color:black;'> CASHADVANCE : Dinheiro adiantado dado pelo usuário.\n",
    "    \n",
    "<li style='font-size: 16px; line-height: 2; margin: 10px 50px; text-align: justify; color:black;'>PURCHASESFREQUENCY :Com que frequência as compras estão sendo feitas, pontuação entre 0 e 1 (1 = comprado com frequência, 0 = comprado com pouca frequência).\n",
    "    \n",
    "<li style='font-size: 16px; line-height: 2; margin: 10px 50px; text-align: justify; color:black;'>ONEOFFPURCHASESFREQUENCY: Com que frequência as compras acontecem de uma só vez (1 = compradas com frequência, 0 = compradas sem frequência).\n",
    "    \n",
    "<li style='font-size: 16px; line-height: 2; margin: 10px 50px; text-align: justify; color:black;'>PURCHASESINSTALLMENTSFREQUENCY : Com que frequência as compras parceladas estão sendo feitas (1 = feitas com frequência, 0 = feitas com pouca frequência).\n",
    "\n",
    "<li style='font-size: 16px; line-height: 2; margin: 10px 50px; text-align: justify; color:black;'>CASHADVANCEFREQUENCY:  Com que frequência o dinheiro adiantado está sendo pago.\n",
    "    \n",
    "<li style='font-size: 16px; line-height: 2; margin: 10px 50px; text-align: justify; color:black;'>CASHADVANCETRX :Número de transações feitas com \"Cash in Advanced\".\n",
    "    \n",
    "<li style='font-size: 16px; line-height: 2; margin: 10px 50px; text-align: justify; color:black;'>PURCHASESTRX:Número de transações de compra realizadas.\n",
    "    \n",
    "<li style='font-size: 16px; line-height: 2; margin: 10px 50px; text-align: justify; color:black;'>CREDITLIMIT:Limite de cartão de crédito para usuário.\n",
    "    \n",
    "<li style='font-size: 16px; line-height: 2; margin: 10px 50px; text-align: justify; color:black;'>PAYMENTS: Valor do pagamento feito pelo usuário.\n",
    "    \n",
    "<li style='font-size: 16px; line-height: 2; margin: 10px 50px; text-align: justify; color:black;'>MINIMUM_PAYMENTS: valor mínimo de pagamentos feitos por uso.\n",
    "    \n",
    "<li style='font-size: 16px; line-height: 2; margin: 10px 50px; text-align: justify; color:black;'>PRCFULLPAYMENT: Porcentagem do pagamento integral pago pelo usuário.\n",
    "    \n",
    "<li style='font-size: 16px; line-height: 2; margin: 10px 50px; text-align: justify; color:black;'>TENURE: Posse do serviço de cartão de crédito para o usuário. É o tempo de renovação do contrato."
   ]
  },
  {
   "cell_type": "code",
   "execution_count": 2,
   "id": "3acedd94",
   "metadata": {},
   "outputs": [],
   "source": [
    "dados = pd.read_csv('https://raw.githubusercontent.com/alura-cursos/alura-clustering-validation/base-de-dados/CC%20GENERAL.csv')"
   ]
  },
  {
   "cell_type": "markdown",
   "id": "16d775ba",
   "metadata": {},
   "source": [
    "<p style='font-size: 22px; line-height: 2; margin: 10px 50px; text-align: justify; color:purple;'> <b> 2. Visualizando os dados</b>"
   ]
  },
  {
   "cell_type": "code",
   "execution_count": 3,
   "id": "dd8e128b",
   "metadata": {},
   "outputs": [
    {
     "data": {
      "text/html": [
       "<div>\n",
       "<style scoped>\n",
       "    .dataframe tbody tr th:only-of-type {\n",
       "        vertical-align: middle;\n",
       "    }\n",
       "\n",
       "    .dataframe tbody tr th {\n",
       "        vertical-align: top;\n",
       "    }\n",
       "\n",
       "    .dataframe thead th {\n",
       "        text-align: right;\n",
       "    }\n",
       "</style>\n",
       "<table border=\"1\" class=\"dataframe\">\n",
       "  <thead>\n",
       "    <tr style=\"text-align: right;\">\n",
       "      <th></th>\n",
       "      <th>CUST_ID</th>\n",
       "      <th>BALANCE</th>\n",
       "      <th>BALANCE_FREQUENCY</th>\n",
       "      <th>PURCHASES</th>\n",
       "      <th>ONEOFF_PURCHASES</th>\n",
       "      <th>INSTALLMENTS_PURCHASES</th>\n",
       "      <th>CASH_ADVANCE</th>\n",
       "      <th>PURCHASES_FREQUENCY</th>\n",
       "      <th>ONEOFF_PURCHASES_FREQUENCY</th>\n",
       "      <th>PURCHASES_INSTALLMENTS_FREQUENCY</th>\n",
       "      <th>CASH_ADVANCE_FREQUENCY</th>\n",
       "      <th>CASH_ADVANCE_TRX</th>\n",
       "      <th>PURCHASES_TRX</th>\n",
       "      <th>CREDIT_LIMIT</th>\n",
       "      <th>PAYMENTS</th>\n",
       "      <th>MINIMUM_PAYMENTS</th>\n",
       "      <th>PRC_FULL_PAYMENT</th>\n",
       "      <th>TENURE</th>\n",
       "    </tr>\n",
       "  </thead>\n",
       "  <tbody>\n",
       "    <tr>\n",
       "      <th>0</th>\n",
       "      <td>C10001</td>\n",
       "      <td>40.900749</td>\n",
       "      <td>0.818182</td>\n",
       "      <td>95.40</td>\n",
       "      <td>0.00</td>\n",
       "      <td>95.4</td>\n",
       "      <td>0.000000</td>\n",
       "      <td>0.166667</td>\n",
       "      <td>0.000000</td>\n",
       "      <td>0.083333</td>\n",
       "      <td>0.000000</td>\n",
       "      <td>0</td>\n",
       "      <td>2</td>\n",
       "      <td>1000.0</td>\n",
       "      <td>201.802084</td>\n",
       "      <td>139.509787</td>\n",
       "      <td>0.000000</td>\n",
       "      <td>12</td>\n",
       "    </tr>\n",
       "    <tr>\n",
       "      <th>1</th>\n",
       "      <td>C10002</td>\n",
       "      <td>3202.467416</td>\n",
       "      <td>0.909091</td>\n",
       "      <td>0.00</td>\n",
       "      <td>0.00</td>\n",
       "      <td>0.0</td>\n",
       "      <td>6442.945483</td>\n",
       "      <td>0.000000</td>\n",
       "      <td>0.000000</td>\n",
       "      <td>0.000000</td>\n",
       "      <td>0.250000</td>\n",
       "      <td>4</td>\n",
       "      <td>0</td>\n",
       "      <td>7000.0</td>\n",
       "      <td>4103.032597</td>\n",
       "      <td>1072.340217</td>\n",
       "      <td>0.222222</td>\n",
       "      <td>12</td>\n",
       "    </tr>\n",
       "    <tr>\n",
       "      <th>2</th>\n",
       "      <td>C10003</td>\n",
       "      <td>2495.148862</td>\n",
       "      <td>1.000000</td>\n",
       "      <td>773.17</td>\n",
       "      <td>773.17</td>\n",
       "      <td>0.0</td>\n",
       "      <td>0.000000</td>\n",
       "      <td>1.000000</td>\n",
       "      <td>1.000000</td>\n",
       "      <td>0.000000</td>\n",
       "      <td>0.000000</td>\n",
       "      <td>0</td>\n",
       "      <td>12</td>\n",
       "      <td>7500.0</td>\n",
       "      <td>622.066742</td>\n",
       "      <td>627.284787</td>\n",
       "      <td>0.000000</td>\n",
       "      <td>12</td>\n",
       "    </tr>\n",
       "    <tr>\n",
       "      <th>3</th>\n",
       "      <td>C10004</td>\n",
       "      <td>1666.670542</td>\n",
       "      <td>0.636364</td>\n",
       "      <td>1499.00</td>\n",
       "      <td>1499.00</td>\n",
       "      <td>0.0</td>\n",
       "      <td>205.788017</td>\n",
       "      <td>0.083333</td>\n",
       "      <td>0.083333</td>\n",
       "      <td>0.000000</td>\n",
       "      <td>0.083333</td>\n",
       "      <td>1</td>\n",
       "      <td>1</td>\n",
       "      <td>7500.0</td>\n",
       "      <td>0.000000</td>\n",
       "      <td>NaN</td>\n",
       "      <td>0.000000</td>\n",
       "      <td>12</td>\n",
       "    </tr>\n",
       "    <tr>\n",
       "      <th>4</th>\n",
       "      <td>C10005</td>\n",
       "      <td>817.714335</td>\n",
       "      <td>1.000000</td>\n",
       "      <td>16.00</td>\n",
       "      <td>16.00</td>\n",
       "      <td>0.0</td>\n",
       "      <td>0.000000</td>\n",
       "      <td>0.083333</td>\n",
       "      <td>0.083333</td>\n",
       "      <td>0.000000</td>\n",
       "      <td>0.000000</td>\n",
       "      <td>0</td>\n",
       "      <td>1</td>\n",
       "      <td>1200.0</td>\n",
       "      <td>678.334763</td>\n",
       "      <td>244.791237</td>\n",
       "      <td>0.000000</td>\n",
       "      <td>12</td>\n",
       "    </tr>\n",
       "  </tbody>\n",
       "</table>\n",
       "</div>"
      ],
      "text/plain": [
       "  CUST_ID      BALANCE  BALANCE_FREQUENCY  PURCHASES  ONEOFF_PURCHASES  \\\n",
       "0  C10001    40.900749           0.818182      95.40              0.00   \n",
       "1  C10002  3202.467416           0.909091       0.00              0.00   \n",
       "2  C10003  2495.148862           1.000000     773.17            773.17   \n",
       "3  C10004  1666.670542           0.636364    1499.00           1499.00   \n",
       "4  C10005   817.714335           1.000000      16.00             16.00   \n",
       "\n",
       "   INSTALLMENTS_PURCHASES  CASH_ADVANCE  PURCHASES_FREQUENCY  \\\n",
       "0                    95.4      0.000000             0.166667   \n",
       "1                     0.0   6442.945483             0.000000   \n",
       "2                     0.0      0.000000             1.000000   \n",
       "3                     0.0    205.788017             0.083333   \n",
       "4                     0.0      0.000000             0.083333   \n",
       "\n",
       "   ONEOFF_PURCHASES_FREQUENCY  PURCHASES_INSTALLMENTS_FREQUENCY  \\\n",
       "0                    0.000000                          0.083333   \n",
       "1                    0.000000                          0.000000   \n",
       "2                    1.000000                          0.000000   \n",
       "3                    0.083333                          0.000000   \n",
       "4                    0.083333                          0.000000   \n",
       "\n",
       "   CASH_ADVANCE_FREQUENCY  CASH_ADVANCE_TRX  PURCHASES_TRX  CREDIT_LIMIT  \\\n",
       "0                0.000000                 0              2        1000.0   \n",
       "1                0.250000                 4              0        7000.0   \n",
       "2                0.000000                 0             12        7500.0   \n",
       "3                0.083333                 1              1        7500.0   \n",
       "4                0.000000                 0              1        1200.0   \n",
       "\n",
       "      PAYMENTS  MINIMUM_PAYMENTS  PRC_FULL_PAYMENT  TENURE  \n",
       "0   201.802084        139.509787          0.000000      12  \n",
       "1  4103.032597       1072.340217          0.222222      12  \n",
       "2   622.066742        627.284787          0.000000      12  \n",
       "3     0.000000               NaN          0.000000      12  \n",
       "4   678.334763        244.791237          0.000000      12  "
      ]
     },
     "execution_count": 3,
     "metadata": {},
     "output_type": "execute_result"
    }
   ],
   "source": [
    "dados.head()"
   ]
  },
  {
   "cell_type": "code",
   "execution_count": 4,
   "id": "98f9b832",
   "metadata": {},
   "outputs": [
    {
     "data": {
      "text/plain": [
       "(8950, 18)"
      ]
     },
     "execution_count": 4,
     "metadata": {},
     "output_type": "execute_result"
    }
   ],
   "source": [
    "dados.shape"
   ]
  },
  {
   "cell_type": "markdown",
   "id": "57549a99",
   "metadata": {},
   "source": [
    "<p style='font-size: 22px; line-height: 2; margin: 20px 50px; text-align: justify; color:purple;'> <b> 3. Pré-processamento dos dados</b>\n",
    "    \n",
    "    \n",
    "<p style='font-size: 22px; line-height: 2; margin: 10px 50px; text-align: justify; color:purple;'> <b> 3.1 Retirada de features</b>    \n",
    "    \n",
    "<p style='font-size: 16px; line-height: 2; margin: 10px 50px; text-align: justify; color:black;'>Limpar e retirar o que for desnecessário e organizar as informações para diminuir o risco de possíveis problemas durante a clusterização. Serão removidos as features TENURE por ser constante, e o ID."
   ]
  },
  {
   "cell_type": "code",
   "execution_count": 5,
   "id": "29f477b1",
   "metadata": {},
   "outputs": [],
   "source": [
    "dados.drop(columns=['TENURE', 'CUST_ID'], inplace = True)"
   ]
  },
  {
   "cell_type": "code",
   "execution_count": 6,
   "id": "5838629f",
   "metadata": {},
   "outputs": [
    {
     "data": {
      "text/html": [
       "<div>\n",
       "<style scoped>\n",
       "    .dataframe tbody tr th:only-of-type {\n",
       "        vertical-align: middle;\n",
       "    }\n",
       "\n",
       "    .dataframe tbody tr th {\n",
       "        vertical-align: top;\n",
       "    }\n",
       "\n",
       "    .dataframe thead th {\n",
       "        text-align: right;\n",
       "    }\n",
       "</style>\n",
       "<table border=\"1\" class=\"dataframe\">\n",
       "  <thead>\n",
       "    <tr style=\"text-align: right;\">\n",
       "      <th></th>\n",
       "      <th>BALANCE</th>\n",
       "      <th>BALANCE_FREQUENCY</th>\n",
       "      <th>PURCHASES</th>\n",
       "      <th>ONEOFF_PURCHASES</th>\n",
       "      <th>INSTALLMENTS_PURCHASES</th>\n",
       "      <th>CASH_ADVANCE</th>\n",
       "      <th>PURCHASES_FREQUENCY</th>\n",
       "      <th>ONEOFF_PURCHASES_FREQUENCY</th>\n",
       "      <th>PURCHASES_INSTALLMENTS_FREQUENCY</th>\n",
       "      <th>CASH_ADVANCE_FREQUENCY</th>\n",
       "      <th>CASH_ADVANCE_TRX</th>\n",
       "      <th>PURCHASES_TRX</th>\n",
       "      <th>CREDIT_LIMIT</th>\n",
       "      <th>PAYMENTS</th>\n",
       "      <th>MINIMUM_PAYMENTS</th>\n",
       "      <th>PRC_FULL_PAYMENT</th>\n",
       "    </tr>\n",
       "  </thead>\n",
       "  <tbody>\n",
       "    <tr>\n",
       "      <th>0</th>\n",
       "      <td>40.900749</td>\n",
       "      <td>0.818182</td>\n",
       "      <td>95.40</td>\n",
       "      <td>0.00</td>\n",
       "      <td>95.4</td>\n",
       "      <td>0.000000</td>\n",
       "      <td>0.166667</td>\n",
       "      <td>0.000000</td>\n",
       "      <td>0.083333</td>\n",
       "      <td>0.000000</td>\n",
       "      <td>0</td>\n",
       "      <td>2</td>\n",
       "      <td>1000.0</td>\n",
       "      <td>201.802084</td>\n",
       "      <td>139.509787</td>\n",
       "      <td>0.000000</td>\n",
       "    </tr>\n",
       "    <tr>\n",
       "      <th>1</th>\n",
       "      <td>3202.467416</td>\n",
       "      <td>0.909091</td>\n",
       "      <td>0.00</td>\n",
       "      <td>0.00</td>\n",
       "      <td>0.0</td>\n",
       "      <td>6442.945483</td>\n",
       "      <td>0.000000</td>\n",
       "      <td>0.000000</td>\n",
       "      <td>0.000000</td>\n",
       "      <td>0.250000</td>\n",
       "      <td>4</td>\n",
       "      <td>0</td>\n",
       "      <td>7000.0</td>\n",
       "      <td>4103.032597</td>\n",
       "      <td>1072.340217</td>\n",
       "      <td>0.222222</td>\n",
       "    </tr>\n",
       "    <tr>\n",
       "      <th>2</th>\n",
       "      <td>2495.148862</td>\n",
       "      <td>1.000000</td>\n",
       "      <td>773.17</td>\n",
       "      <td>773.17</td>\n",
       "      <td>0.0</td>\n",
       "      <td>0.000000</td>\n",
       "      <td>1.000000</td>\n",
       "      <td>1.000000</td>\n",
       "      <td>0.000000</td>\n",
       "      <td>0.000000</td>\n",
       "      <td>0</td>\n",
       "      <td>12</td>\n",
       "      <td>7500.0</td>\n",
       "      <td>622.066742</td>\n",
       "      <td>627.284787</td>\n",
       "      <td>0.000000</td>\n",
       "    </tr>\n",
       "    <tr>\n",
       "      <th>3</th>\n",
       "      <td>1666.670542</td>\n",
       "      <td>0.636364</td>\n",
       "      <td>1499.00</td>\n",
       "      <td>1499.00</td>\n",
       "      <td>0.0</td>\n",
       "      <td>205.788017</td>\n",
       "      <td>0.083333</td>\n",
       "      <td>0.083333</td>\n",
       "      <td>0.000000</td>\n",
       "      <td>0.083333</td>\n",
       "      <td>1</td>\n",
       "      <td>1</td>\n",
       "      <td>7500.0</td>\n",
       "      <td>0.000000</td>\n",
       "      <td>NaN</td>\n",
       "      <td>0.000000</td>\n",
       "    </tr>\n",
       "    <tr>\n",
       "      <th>4</th>\n",
       "      <td>817.714335</td>\n",
       "      <td>1.000000</td>\n",
       "      <td>16.00</td>\n",
       "      <td>16.00</td>\n",
       "      <td>0.0</td>\n",
       "      <td>0.000000</td>\n",
       "      <td>0.083333</td>\n",
       "      <td>0.083333</td>\n",
       "      <td>0.000000</td>\n",
       "      <td>0.000000</td>\n",
       "      <td>0</td>\n",
       "      <td>1</td>\n",
       "      <td>1200.0</td>\n",
       "      <td>678.334763</td>\n",
       "      <td>244.791237</td>\n",
       "      <td>0.000000</td>\n",
       "    </tr>\n",
       "  </tbody>\n",
       "</table>\n",
       "</div>"
      ],
      "text/plain": [
       "       BALANCE  BALANCE_FREQUENCY  PURCHASES  ONEOFF_PURCHASES  \\\n",
       "0    40.900749           0.818182      95.40              0.00   \n",
       "1  3202.467416           0.909091       0.00              0.00   \n",
       "2  2495.148862           1.000000     773.17            773.17   \n",
       "3  1666.670542           0.636364    1499.00           1499.00   \n",
       "4   817.714335           1.000000      16.00             16.00   \n",
       "\n",
       "   INSTALLMENTS_PURCHASES  CASH_ADVANCE  PURCHASES_FREQUENCY  \\\n",
       "0                    95.4      0.000000             0.166667   \n",
       "1                     0.0   6442.945483             0.000000   \n",
       "2                     0.0      0.000000             1.000000   \n",
       "3                     0.0    205.788017             0.083333   \n",
       "4                     0.0      0.000000             0.083333   \n",
       "\n",
       "   ONEOFF_PURCHASES_FREQUENCY  PURCHASES_INSTALLMENTS_FREQUENCY  \\\n",
       "0                    0.000000                          0.083333   \n",
       "1                    0.000000                          0.000000   \n",
       "2                    1.000000                          0.000000   \n",
       "3                    0.083333                          0.000000   \n",
       "4                    0.083333                          0.000000   \n",
       "\n",
       "   CASH_ADVANCE_FREQUENCY  CASH_ADVANCE_TRX  PURCHASES_TRX  CREDIT_LIMIT  \\\n",
       "0                0.000000                 0              2        1000.0   \n",
       "1                0.250000                 4              0        7000.0   \n",
       "2                0.000000                 0             12        7500.0   \n",
       "3                0.083333                 1              1        7500.0   \n",
       "4                0.000000                 0              1        1200.0   \n",
       "\n",
       "      PAYMENTS  MINIMUM_PAYMENTS  PRC_FULL_PAYMENT  \n",
       "0   201.802084        139.509787          0.000000  \n",
       "1  4103.032597       1072.340217          0.222222  \n",
       "2   622.066742        627.284787          0.000000  \n",
       "3     0.000000               NaN          0.000000  \n",
       "4   678.334763        244.791237          0.000000  "
      ]
     },
     "execution_count": 6,
     "metadata": {},
     "output_type": "execute_result"
    }
   ],
   "source": [
    "dados.head()"
   ]
  },
  {
   "cell_type": "markdown",
   "id": "6fb66d8d",
   "metadata": {},
   "source": [
    "<p style='font-size: 22px; line-height: 2; margin: 10px 50px; text-align: justify; color:purple;'> <b> 3.2 Tratamento de dados faltantes</b>"
   ]
  },
  {
   "cell_type": "code",
   "execution_count": 7,
   "id": "4cdec82b",
   "metadata": {},
   "outputs": [
    {
     "data": {
      "text/plain": [
       "BALANCE                               0\n",
       "BALANCE_FREQUENCY                     0\n",
       "PURCHASES                             0\n",
       "ONEOFF_PURCHASES                      0\n",
       "INSTALLMENTS_PURCHASES                0\n",
       "CASH_ADVANCE                          0\n",
       "PURCHASES_FREQUENCY                   0\n",
       "ONEOFF_PURCHASES_FREQUENCY            0\n",
       "PURCHASES_INSTALLMENTS_FREQUENCY      0\n",
       "CASH_ADVANCE_FREQUENCY                0\n",
       "CASH_ADVANCE_TRX                      0\n",
       "PURCHASES_TRX                         0\n",
       "CREDIT_LIMIT                          1\n",
       "PAYMENTS                              0\n",
       "MINIMUM_PAYMENTS                    313\n",
       "PRC_FULL_PAYMENT                      0\n",
       "dtype: int64"
      ]
     },
     "execution_count": 7,
     "metadata": {},
     "output_type": "execute_result"
    }
   ],
   "source": [
    "# Procurando dados faltantes\n",
    "missing = dados.isna().sum()\n",
    "missing"
   ]
  },
  {
   "cell_type": "code",
   "execution_count": 8,
   "id": "b0297302",
   "metadata": {},
   "outputs": [
    {
     "data": {
      "text/plain": [
       "CREDIT_LIMIT        3000.000000\n",
       "MINIMUM_PAYMENTS     312.343947\n",
       "dtype: float64"
      ]
     },
     "execution_count": 8,
     "metadata": {},
     "output_type": "execute_result"
    }
   ],
   "source": [
    "# Para os dados faltantes será adotado o valor da mediana da feature.\n",
    "dados[['CREDIT_LIMIT', 'MINIMUM_PAYMENTS']].median()"
   ]
  },
  {
   "cell_type": "code",
   "execution_count": 9,
   "id": "059cf38b",
   "metadata": {},
   "outputs": [],
   "source": [
    "# Substituindo\n",
    "dados.fillna(dados.median(), inplace=True)"
   ]
  },
  {
   "cell_type": "code",
   "execution_count": 10,
   "id": "06fdb9fe",
   "metadata": {},
   "outputs": [
    {
     "data": {
      "text/plain": [
       "BALANCE                             0\n",
       "BALANCE_FREQUENCY                   0\n",
       "PURCHASES                           0\n",
       "ONEOFF_PURCHASES                    0\n",
       "INSTALLMENTS_PURCHASES              0\n",
       "CASH_ADVANCE                        0\n",
       "PURCHASES_FREQUENCY                 0\n",
       "ONEOFF_PURCHASES_FREQUENCY          0\n",
       "PURCHASES_INSTALLMENTS_FREQUENCY    0\n",
       "CASH_ADVANCE_FREQUENCY              0\n",
       "CASH_ADVANCE_TRX                    0\n",
       "PURCHASES_TRX                       0\n",
       "CREDIT_LIMIT                        0\n",
       "PAYMENTS                            0\n",
       "MINIMUM_PAYMENTS                    0\n",
       "PRC_FULL_PAYMENT                    0\n",
       "dtype: int64"
      ]
     },
     "execution_count": 10,
     "metadata": {},
     "output_type": "execute_result"
    }
   ],
   "source": [
    "# Verificando \n",
    "missing = dados.isna().sum()\n",
    "missing"
   ]
  },
  {
   "cell_type": "markdown",
   "id": "8903db69",
   "metadata": {},
   "source": [
    "<p style='font-size: 22px; line-height: 2; margin: 10px 50px; text-align: justify; color:purple;'> <b> 3.3 Normalização dos dados</b></p>\n",
    "<a style='font-size: 16px; line-height: 2; margin: 10px 50px; text-align: justify; color:black;' href=\" https://scikit-learn.org/stable/modules/generated/sklearn.preprocessing.Normalizer.html\">Documentação SKlearn</a>  "
   ]
  },
  {
   "cell_type": "code",
   "execution_count": 11,
   "id": "7804c316",
   "metadata": {},
   "outputs": [
    {
     "data": {
      "text/plain": [
       "array([[3.93555441e-02, 7.87271593e-04, 9.17958473e-02, ...,\n",
       "        1.94178127e-01, 1.34239194e-01, 0.00000000e+00],\n",
       "       [2.93875903e-01, 8.34231560e-05, 0.00000000e+00, ...,\n",
       "        3.76516684e-01, 9.84037959e-02, 2.03923046e-05],\n",
       "       [3.10798149e-01, 1.24560965e-04, 9.63068011e-02, ...,\n",
       "        7.74852335e-02, 7.81351982e-02, 0.00000000e+00],\n",
       "       ...,\n",
       "       [2.27733092e-02, 8.11060955e-04, 1.40540698e-01, ...,\n",
       "        7.90986945e-02, 8.02156174e-02, 2.43318384e-04],\n",
       "       [2.65257948e-02, 1.64255731e-03, 0.00000000e+00, ...,\n",
       "        1.03579625e-01, 1.09898221e-01, 4.92767391e-04],\n",
       "       [1.86406219e-01, 3.33426837e-04, 5.46778061e-01, ...,\n",
       "        3.15915455e-02, 4.41568390e-02, 0.00000000e+00]])"
      ]
     },
     "execution_count": 11,
     "metadata": {},
     "output_type": "execute_result"
    }
   ],
   "source": [
    "from sklearn.preprocessing import Normalizer\n",
    "\n",
    "values = Normalizer().fit_transform(dados.values)\n",
    "values"
   ]
  },
  {
   "cell_type": "markdown",
   "id": "47d57802",
   "metadata": {},
   "source": [
    "<p style='font-size: 22px; line-height: 2; margin: 10px 50px; text-align: justify; color:purple;'> <b> 4. Executando o clustering</b></p>\n",
    "\n",
    "<a style='font-size: 16px; line-height: 2; margin: 10px 50px; text-align: justify; color:black;' href=\"https://scikit-learn.org/stable/modules/generated/sklearn.cluster.KMeans.html\">Documentação do KMeans</a>  \n",
    "<a style='font-size: 16px; line-height: 2; margin: 10px 50px; text-align: justify; color:black;' href=\" https://medium.com/programadores-ajudando-programadores/k-means-o-que-%C3%A9-como-funciona-aplica%C3%A7%C3%B5es-e-exemplo-em-python-6021df6e2572\">K-means</a>    \n",
    "\n",
    "<p style='font-size: 16px; line-height: 2; margin: 10px 50px; text-align: justify; color:black;'>K-Means é um algoritmo de clusterização (ou agrupamento) disponível na biblioteca Scikit-Learn.\n",
    "É um algoritmo de aprendizado não supervisionado (ou seja, que não precisa de inputs de confirmação externos) que avalia e clusteriza os dados de acordo com suas características.\n",
    "    \n",
    "<p style='font-size: 16px; line-height: 2; margin: 10px 50px; text-align: justify; color:black;'><b>n_init</b> como 10, o que isso significa? O KMeans é um algoritmo não-determinístico, isto é, a cada execução, obteremos um resultado diferente. Então configurando o valor 10, dez vezes seguidas o caminho deve retornar o mesmo valor.\n",
    "    \n",
    "    "
   ]
  },
  {
   "cell_type": "code",
   "execution_count": 12,
   "id": "edba03ab",
   "metadata": {},
   "outputs": [],
   "source": [
    "from sklearn.cluster import KMeans\n",
    "\n",
    "kmeans = KMeans(n_clusters=5, n_init=10, max_iter=300)"
   ]
  },
  {
   "cell_type": "code",
   "execution_count": 13,
   "id": "ce186bd9",
   "metadata": {},
   "outputs": [
    {
     "data": {
      "text/plain": [
       "array([0, 4, 0, ..., 0, 0, 2])"
      ]
     },
     "execution_count": 13,
     "metadata": {},
     "output_type": "execute_result"
    }
   ],
   "source": [
    "# resultado do kmeans\n",
    "y_pred = kmeans.fit_predict(values)\n",
    "y_pred"
   ]
  },
  {
   "cell_type": "code",
   "execution_count": 21,
   "id": "2927191c",
   "metadata": {},
   "outputs": [
    {
     "data": {
      "text/plain": [
       "array([0, 1, 2, 3, 4])"
      ]
     },
     "execution_count": 21,
     "metadata": {},
     "output_type": "execute_result"
    }
   ],
   "source": [
    "# Vendo quantos clusters\n",
    "np.unique(y_pred)"
   ]
  },
  {
   "cell_type": "markdown",
   "id": "ce330dac",
   "metadata": {},
   "source": [
    "<p style='font-size: 22px; line-height: 2; margin: 10px 50px; text-align: justify; color:purple;'> <b> 4.1 Validação do clustering</b></p>\n",
    "\n",
    "<p style='font-size: 16px; line-height: 2; margin: 10px 50px; text-align: justify; color:black;'>No caso das <b>métricas externas</b>, precisamos ter labels para realizar cálculos e gerar a validação. Como não temos labels, não a utilizaremos neste projeto. Já as métricas internas independem de labels, ainda que possuam uma estrutura mais complexa.\n",
    "\n",
    "<p style='font-size: 16px; line-height: 2; margin: 10px 50px; text-align: justify; color:black;'>As <b>métricas internas</b> se baseiam em dois critérios de validação, e o primeiro deles é compactação, que nos relata quão próximos estão os pontos em um mesmo cluster. Quanto mais próximos os pontos, mais compactado ele está."
   ]
  },
  {
   "cell_type": "markdown",
   "id": "02f48986",
   "metadata": {},
   "source": [
    "<p style='font-size: 22px; line-height: 2; margin: 10px 50px; text-align: justify; color:purple;'> <b> 4.2 Coeficiente de Silhueta K-means</b></p>\n",
    "\n",
    "<a style='font-size: 16px; line-height: 2; margin: 10px 50px; text-align: justify; color:black;' href=\" https://scikit-learn.org/stable/modules/generated/sklearn.metrics.silhouette_score.html\">Documentação</a>       \n",
    "<a style='font-size: 16px; line-height: 2; margin: 10px 50px; text-align: justify; color:black;' href=\" https://medium.com/cwi-software/entendendo-clusters-e-k-means-56b79352b452\">Coeficiente de silhueta</a>    \n",
    "    \n",
    "    \n",
    "<p style='font-size: 16px; line-height: 2; margin: 10px 50px; text-align: justify; color:black;'><b>Qual é o objetivo do coeficiente de silhueta?</b> Avaliar os pontos em uma escala de -1 a 1, em relação ao grupo que é a coesão. Exemplo: A minha casa em relação aos membros do meu bairro, em relação aos demais pontos dos outros grupos, que é a de similaridade, ou seja, a minha casa em relação às casas dos outros bairros.\n",
    "\n",
    "<p style='font-size: 16px; line-height: 2; margin: 10px 50px; text-align: justify; color:black;'> Quanto maior o valor do coeficiente de silhueta, ou seja, quanto maior a coesão e maior a similaridade, melhor e mais bem organizado, mais bem agrupado - segundo o critério de distância - estão os meus pontos."
   ]
  },
  {
   "cell_type": "code",
   "execution_count": 15,
   "id": "32605120",
   "metadata": {},
   "outputs": [
    {
     "data": {
      "text/plain": [
       "0.3645252169780562"
      ]
     },
     "execution_count": 15,
     "metadata": {},
     "output_type": "execute_result"
    }
   ],
   "source": [
    "from sklearn.metrics import silhouette_score\n",
    "\n",
    "# Etiqueta dos grupos (clusters)\n",
    "labels = kmeans.labels_\n",
    "\n",
    "# Média do coeficiente de silhoette\n",
    "silhoette = silhouette_score(values, labels, metric = 'euclidean')\n",
    "\n",
    "# Um valor positivo pode ser considerado bom pois ele é maior que 0\n",
    "# Com isso conseguiremos ter uma ideia se o cluster está bom de acordo com esta métrica ou não.\n",
    "silhoette"
   ]
  },
  {
   "cell_type": "markdown",
   "id": "1f1fdc15",
   "metadata": {},
   "source": [
    "<p style='font-size: 22px; line-height: 2; margin: 10px 50px; text-align: justify; color:purple;'> <b> 4.3 Davies-Bouldin</b></p>\n",
    "\n",
    "<p style='font-size: 16px; line-height: 2; margin: 10px 50px; text-align: justify; color:black;'>O índice de Davies-Bouldin serve para checarmos se os clusters estão bem separados e bem compactos. Quanto mais próximo de 0, melhor serão os clusters.\n",
    "\n",
    "<p style='font-size: 16px; line-height: 2; margin: 10px 50px; text-align: justify; color:black;'>Para encontrarmos o índice Davies-Bouldin (DB), precisamos tirar a média da soma dos máximos das medidas de similaridade (R_i_j) de cada cluster. A fórmula do índice é dada por DB igual ao quociente com numerador sendo o somatório dos máximos das medidas de similaridades (R_i_j) de cada cluster e denominador sendo a quantidade de clusters definido por k."
   ]
  },
  {
   "cell_type": "code",
   "execution_count": null,
   "id": "c1589874",
   "metadata": {},
   "outputs": [],
   "source": []
  }
 ],
 "metadata": {
  "kernelspec": {
   "display_name": "Python 3 (ipykernel)",
   "language": "python",
   "name": "python3"
  },
  "language_info": {
   "codemirror_mode": {
    "name": "ipython",
    "version": 3
   },
   "file_extension": ".py",
   "mimetype": "text/x-python",
   "name": "python",
   "nbconvert_exporter": "python",
   "pygments_lexer": "ipython3",
   "version": "3.9.7"
  }
 },
 "nbformat": 4,
 "nbformat_minor": 5
}
