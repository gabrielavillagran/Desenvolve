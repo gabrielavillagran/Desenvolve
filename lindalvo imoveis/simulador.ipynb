{
 "cells": [
  {
   "cell_type": "code",
   "execution_count": 16,
   "id": "3ff871b8",
   "metadata": {},
   "outputs": [
    {
     "name": "stdout",
     "output_type": "stream",
     "text": [
      "R$ 298849.48\n"
     ]
    }
   ],
   "source": [
    "import numpy as np\n",
    "import pickle\n",
    "\n",
    "modelo = open('./modelo_estimativa_preco_imovel', 'rb')\n",
    "lm_new = pickle.load(modelo)\n",
    "modelo.close()\n",
    "\n",
    "\n",
    "Area = 100\n",
    "Suites = 1\n",
    "Vagas = 0\n",
    "entrada = [[np.log(Area), np.log(Suites + 1), np.log(Vagas + 1)]]\n",
    "\n",
    "print('R$ {0:.2f}'.format(np.exp(lm_new.predict(entrada)[0])))"
   ]
  },
  {
   "cell_type": "code",
   "execution_count": null,
   "id": "47b9ca27",
   "metadata": {},
   "outputs": [],
   "source": []
  }
 ],
 "metadata": {
  "kernelspec": {
   "display_name": "Python 3 (ipykernel)",
   "language": "python",
   "name": "python3"
  },
  "language_info": {
   "codemirror_mode": {
    "name": "ipython",
    "version": 3
   },
   "file_extension": ".py",
   "mimetype": "text/x-python",
   "name": "python",
   "nbconvert_exporter": "python",
   "pygments_lexer": "ipython3",
   "version": "3.9.7"
  }
 },
 "nbformat": 4,
 "nbformat_minor": 5
}
