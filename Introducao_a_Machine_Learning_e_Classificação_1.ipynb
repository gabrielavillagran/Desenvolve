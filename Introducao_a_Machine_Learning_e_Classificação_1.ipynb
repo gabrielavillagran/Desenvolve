{
  "nbformat": 4,
  "nbformat_minor": 0,
  "metadata": {
    "colab": {
      "name": "Introducao a Machine Learning e Classificação - 1.ipynb",
      "provenance": []
    },
    "kernelspec": {
      "name": "python3",
      "display_name": "Python 3"
    },
    "language_info": {
      "name": "python"
    }
  },
  "cells": [
    {
      "cell_type": "code",
      "source": [
        "import pandas as pd"
      ],
      "metadata": {
        "id": "ApqHl0o7_zmJ"
      },
      "execution_count": null,
      "outputs": []
    },
    {
      "cell_type": "code",
      "execution_count": null,
      "metadata": {
        "id": "KHm0Gwk2-pq1"
      },
      "outputs": [],
      "source": [
        "# features  = caracteristicas que o item tem\n",
        "# 0 -> nao, 1 -> sim\n",
        "# pelo longo ?\n",
        "# perna curta ?\n",
        "# faz auau?\n",
        "\n",
        "porco1 =  [0, 1, 0]\n",
        "porco2 =  [0, 1, 1]\n",
        "porco3  =  [1, 1, 0]\n",
        "\n",
        "cachorro1 = [0, 1, 1]\n",
        "cachorro2 = [1, 0, 1]\n",
        "cachorro3 = [1, 1, 1]\n"
      ]
    },
    {
      "cell_type": "code",
      "source": [
        "# 1 -> porco, 0 -> cachorro\n",
        "x_train = [porco1, porco2, porco3, cachorro1, cachorro2, cachorro3]\n",
        "y_train = [1,1,1,0,0,0]"
      ],
      "metadata": {
        "id": "9vCc_X1x_omm"
      },
      "execution_count": null,
      "outputs": []
    },
    {
      "cell_type": "code",
      "source": [
        "from sklearn.svm import LinearSVC\n",
        "\n",
        "model = LinearSVC()\n",
        "model.fit(x_train, y_train)"
      ],
      "metadata": {
        "colab": {
          "base_uri": "https://localhost:8080/"
        },
        "id": "tSpyESauAAlJ",
        "outputId": "2d0b4ad0-4832-4915-be29-c2b9d48c7efb"
      },
      "execution_count": null,
      "outputs": [
        {
          "output_type": "execute_result",
          "data": {
            "text/plain": [
              "LinearSVC()"
            ]
          },
          "metadata": {},
          "execution_count": 4
        }
      ]
    },
    {
      "cell_type": "code",
      "source": [
        "animal_misterioso = [1, 1, 1]\n",
        "model.predict([animal_misterioso])\n",
        "# deu 0 = cachorro"
      ],
      "metadata": {
        "colab": {
          "base_uri": "https://localhost:8080/"
        },
        "id": "86uFKXv0AXeN",
        "outputId": "cac9df3e-873d-48b1-82c4-2e0763fb8e56"
      },
      "execution_count": null,
      "outputs": [
        {
          "output_type": "execute_result",
          "data": {
            "text/plain": [
              "array([0])"
            ]
          },
          "metadata": {},
          "execution_count": 5
        }
      ]
    },
    {
      "cell_type": "code",
      "source": [
        "misterio1 = [1,1,1]\n",
        "misterio2 = [1,1,0]\n",
        "misterio3 = [0,1,1]\n",
        "\n",
        "x_test = [misterio1, misterio2, misterio3]\n",
        "y_test  = [0, 1, 1]\n",
        "# achou que era : cachorro, porco, porco"
      ],
      "metadata": {
        "id": "j1knJFb8BHtT"
      },
      "execution_count": null,
      "outputs": []
    },
    {
      "cell_type": "code",
      "source": [
        "# Calculo da taxa de acerto\n",
        "previsoes = model.predict(x_test)"
      ],
      "metadata": {
        "id": "EOZOgbwlBuuN"
      },
      "execution_count": null,
      "outputs": []
    },
    {
      "cell_type": "code",
      "source": [
        "previsoes"
      ],
      "metadata": {
        "colab": {
          "base_uri": "https://localhost:8080/"
        },
        "id": "Z5_GKdRaCkCs",
        "outputId": "f4fe7c7b-a0c7-49b5-fc84-00326eb066f8"
      },
      "execution_count": null,
      "outputs": [
        {
          "output_type": "execute_result",
          "data": {
            "text/plain": [
              "array([0, 1, 0])"
            ]
          },
          "metadata": {},
          "execution_count": 8
        }
      ]
    },
    {
      "cell_type": "code",
      "source": [
        "corretos = (previsoes == y_test).sum() # numero de verdadeiros\n",
        "total = len(x_test)\n",
        "taxa_de_acertos = corretos / total\n",
        "print('Taxa de acertos {} %'.format(taxa_de_acertos*100))"
      ],
      "metadata": {
        "colab": {
          "base_uri": "https://localhost:8080/"
        },
        "id": "2vK5IKQ1CoUj",
        "outputId": "14f7d316-c62a-4004-e426-b6cab2dc4cd2"
      },
      "execution_count": null,
      "outputs": [
        {
          "output_type": "stream",
          "name": "stdout",
          "text": [
            "Taxa de acertos 66.66666666666666 %\n"
          ]
        }
      ]
    },
    {
      "cell_type": "code",
      "source": [
        "from sklearn.metrics import accuracy_score \n",
        "\n",
        "taxa_de_acertos = accuracy_score(y_test, previsoes)\n",
        "print(taxa_de_acertos)"
      ],
      "metadata": {
        "colab": {
          "base_uri": "https://localhost:8080/"
        },
        "id": "xNJ2CEukCrFy",
        "outputId": "47034b12-017e-41a9-d187-1c8a84a425a2"
      },
      "execution_count": null,
      "outputs": [
        {
          "output_type": "stream",
          "name": "stdout",
          "text": [
            "0.6666666666666666\n"
          ]
        }
      ]
    },
    {
      "cell_type": "code",
      "source": [
        ""
      ],
      "metadata": {
        "id": "iwoQwHL7DxCr"
      },
      "execution_count": null,
      "outputs": []
    }
  ]
}